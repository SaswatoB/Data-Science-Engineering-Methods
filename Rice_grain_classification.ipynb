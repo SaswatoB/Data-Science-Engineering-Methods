{
  "nbformat": 4,
  "nbformat_minor": 0,
  "metadata": {
    "colab": {
      "name": "Rice grain classification.ipynb",
      "provenance": [],
      "collapsed_sections": [],
      "authorship_tag": "ABX9TyN8YR3cTmMyRZ8CoHjDQE87",
      "include_colab_link": true
    },
    "kernelspec": {
      "name": "python3",
      "display_name": "Python 3"
    },
    "language_info": {
      "name": "python"
    }
  },
  "cells": [
    {
      "cell_type": "markdown",
      "metadata": {
        "id": "view-in-github",
        "colab_type": "text"
      },
      "source": [
        "<a href=\"https://colab.research.google.com/github/SaswatoB/Data-Science-Engineering-Methods/blob/main/Rice_grain_classification.ipynb\" target=\"_parent\"><img src=\"https://colab.research.google.com/assets/colab-badge.svg\" alt=\"Open In Colab\"/></a>"
      ]
    },
    {
      "cell_type": "markdown",
      "source": [
        "# Rice grain Classification using Auto-ML\n",
        "The aim of this model is to classify the type of rice grain using several parameters. \n",
        "Here we use Auto ML model for the predictions while also trying to predict the same using gradient boosting classifier."
      ],
      "metadata": {
        "id": "sVt8vJdi8zDA"
      }
    },
    {
      "cell_type": "code",
      "execution_count": 1,
      "metadata": {
        "colab": {
          "base_uri": "https://localhost:8080/"
        },
        "id": "gwPCBKRB8oaD",
        "outputId": "16dbb3a7-424b-4e9d-a238-8c0ebfe0fad7"
      },
      "outputs": [
        {
          "output_type": "stream",
          "name": "stdout",
          "text": [
            "Requirement already satisfied: requests in /usr/local/lib/python3.7/dist-packages (2.23.0)\n",
            "Requirement already satisfied: certifi>=2017.4.17 in /usr/local/lib/python3.7/dist-packages (from requests) (2021.10.8)\n",
            "Requirement already satisfied: idna<3,>=2.5 in /usr/local/lib/python3.7/dist-packages (from requests) (2.10)\n",
            "Requirement already satisfied: urllib3!=1.25.0,!=1.25.1,<1.26,>=1.21.1 in /usr/local/lib/python3.7/dist-packages (from requests) (1.24.3)\n",
            "Requirement already satisfied: chardet<4,>=3.0.2 in /usr/local/lib/python3.7/dist-packages (from requests) (3.0.4)\n",
            "Requirement already satisfied: tabulate in /usr/local/lib/python3.7/dist-packages (0.8.9)\n",
            "Collecting colorama>=0.3.8\n",
            "  Downloading colorama-0.4.4-py2.py3-none-any.whl (16 kB)\n",
            "Installing collected packages: colorama\n",
            "Successfully installed colorama-0.4.4\n",
            "Requirement already satisfied: future in /usr/local/lib/python3.7/dist-packages (0.16.0)\n",
            "\u001b[33mWARNING: Skipping h2o as it is not installed.\u001b[0m\n",
            "Looking in links: http://h2o-release.s3.amazonaws.com/h2o/latest_stable_Py.html\n",
            "\u001b[33mWARNING: The repository located at h2o-release.s3.amazonaws.com is not a trusted or secure host and is being ignored. If this repository is available via HTTPS we recommend you use HTTPS instead, otherwise you may silence this warning and allow it anyway with '--trusted-host h2o-release.s3.amazonaws.com'.\u001b[0m\n",
            "Collecting h2o\n",
            "  Downloading h2o-3.36.0.2.tar.gz (176.0 MB)\n",
            "\u001b[K     |████████████████████████████████| 176.0 MB 6.4 kB/s \n",
            "\u001b[?25hRequirement already satisfied: requests in /usr/local/lib/python3.7/dist-packages (from h2o) (2.23.0)\n",
            "Requirement already satisfied: tabulate in /usr/local/lib/python3.7/dist-packages (from h2o) (0.8.9)\n",
            "Requirement already satisfied: future in /usr/local/lib/python3.7/dist-packages (from h2o) (0.16.0)\n",
            "Requirement already satisfied: idna<3,>=2.5 in /usr/local/lib/python3.7/dist-packages (from requests->h2o) (2.10)\n",
            "Requirement already satisfied: urllib3!=1.25.0,!=1.25.1,<1.26,>=1.21.1 in /usr/local/lib/python3.7/dist-packages (from requests->h2o) (1.24.3)\n",
            "Requirement already satisfied: certifi>=2017.4.17 in /usr/local/lib/python3.7/dist-packages (from requests->h2o) (2021.10.8)\n",
            "Requirement already satisfied: chardet<4,>=3.0.2 in /usr/local/lib/python3.7/dist-packages (from requests->h2o) (3.0.4)\n",
            "Building wheels for collected packages: h2o\n",
            "  Building wheel for h2o (setup.py) ... \u001b[?25l\u001b[?25hdone\n",
            "  Created wheel for h2o: filename=h2o-3.36.0.2-py2.py3-none-any.whl size=176112127 sha256=6447cd90f08905301104f346eda4611a7f0d4c86a2b77be5f377b0cb333e1c51\n",
            "  Stored in directory: /root/.cache/pip/wheels/0b/83/bd/343a6140119b4098103e725e1cfe9f198568d13cf103acbc7c\n",
            "Successfully built h2o\n",
            "Installing collected packages: h2o\n",
            "Successfully installed h2o-3.36.0.2\n"
          ]
        }
      ],
      "source": [
        "!pip install requests\n",
        "!pip install tabulate\n",
        "!pip install \"colorama>=0.3.8\"\n",
        "!pip install future\n",
        "\n",
        "!pip uninstall h2o\n",
        "\n",
        "\n",
        "!pip install -f http://h2o-release.s3.amazonaws.com/h2o/latest_stable_Py.html h2o"
      ]
    },
    {
      "cell_type": "markdown",
      "source": [
        "**Importing required libraries**"
      ],
      "metadata": {
        "id": "zehFNGmw9U6S"
      }
    },
    {
      "cell_type": "code",
      "source": [
        "# Import libraries\n",
        "# Use pip install or conda install if missing a library\n",
        "import h2o\n",
        "from h2o.automl import H2OAutoML\n",
        "import random, os, sys\n",
        "from datetime import datetime\n",
        "import pandas as pd\n",
        "import logging\n",
        "import csv\n",
        "import optparse\n",
        "import time\n",
        "import json\n",
        "from distutils.util import strtobool\n",
        "import psutil\n",
        "import numpy as np\n",
        "import matplotlib.pyplot as plt\n",
        "import seaborn as sns"
      ],
      "metadata": {
        "id": "AxAuTyvk8shC"
      },
      "execution_count": 2,
      "outputs": []
    },
    {
      "cell_type": "markdown",
      "source": [
        "# Set a minimum memory size and a run time in seconds\n"
      ],
      "metadata": {
        "id": "PAUY3SLt9gd_"
      }
    },
    {
      "cell_type": "code",
      "source": [
        "min_mem_size=6 \n",
        "run_time=222"
      ],
      "metadata": {
        "id": "SKRq4TAT9RxQ"
      },
      "execution_count": 3,
      "outputs": []
    },
    {
      "cell_type": "markdown",
      "source": [
        "# Use 50% of availible resources\n"
      ],
      "metadata": {
        "id": "SKsYLaeR9oAH"
      }
    },
    {
      "cell_type": "code",
      "source": [
        "pct_memory=0.5\n",
        "virtual_memory=psutil.virtual_memory()\n",
        "min_mem_size=int(round(int(pct_memory*virtual_memory.available)/1073741824,0))\n",
        "print(min_mem_size)"
      ],
      "metadata": {
        "colab": {
          "base_uri": "https://localhost:8080/"
        },
        "id": "TN1R2yVf9vIB",
        "outputId": "7c3d6f93-74a6-4992-a723-3806169ab02b"
      },
      "execution_count": 4,
      "outputs": [
        {
          "output_type": "stream",
          "name": "stdout",
          "text": [
            "6\n"
          ]
        }
      ]
    },
    {
      "cell_type": "markdown",
      "source": [
        "65535 Highest port no\n",
        "Start the H2O server on a random port\n",
        "H2o is the base package of Auto-ML"
      ],
      "metadata": {
        "id": "9tK7IjOO9x-H"
      }
    },
    {
      "cell_type": "code",
      "source": [
        "port_no=random.randint(5555,55555)\n",
        "\n"
      ],
      "metadata": {
        "id": "5qbTRCPS99Qt"
      },
      "execution_count": 5,
      "outputs": []
    },
    {
      "cell_type": "code",
      "source": [
        "#  h2o.init(strict_version_check=False,min_mem_size_GB=min_mem_size,port=port_no) # start h2o\n",
        "try:\n",
        "  h2o.init(strict_version_check=False,min_mem_size_GB=min_mem_size,port=port_no) # start h2o\n",
        "except:\n",
        "  logging.critical('h2o.init')\n",
        "  h2o.download_all_logs(dirname=logs_path, filename=logfile)      \n",
        "  h2o.cluster().shutdown()\n",
        "  sys.exit(2)"
      ],
      "metadata": {
        "colab": {
          "base_uri": "https://localhost:8080/",
          "height": 547
        },
        "id": "x5S8FUZU9wlC",
        "outputId": "bda76738-31f7-4e0e-c1a0-1f927b9f3ac7"
      },
      "execution_count": 6,
      "outputs": [
        {
          "output_type": "stream",
          "name": "stdout",
          "text": [
            "Checking whether there is an H2O instance running at http://localhost:24121 ..... not found.\n",
            "Attempting to start a local H2O server...\n",
            "  Java Version: openjdk version \"11.0.13\" 2021-10-19; OpenJDK Runtime Environment (build 11.0.13+8-Ubuntu-0ubuntu1.18.04); OpenJDK 64-Bit Server VM (build 11.0.13+8-Ubuntu-0ubuntu1.18.04, mixed mode, sharing)\n",
            "  Starting server from /usr/local/lib/python3.7/dist-packages/h2o/backend/bin/h2o.jar\n",
            "  Ice root: /tmp/tmp7yjxmfc5\n",
            "  JVM stdout: /tmp/tmp7yjxmfc5/h2o_unknownUser_started_from_python.out\n",
            "  JVM stderr: /tmp/tmp7yjxmfc5/h2o_unknownUser_started_from_python.err\n",
            "  Server is running at http://127.0.0.1:24121\n",
            "Connecting to H2O server at http://127.0.0.1:24121 ... successful.\n"
          ]
        },
        {
          "output_type": "display_data",
          "data": {
            "text/html": [
              "<div style=\"overflow:auto\"><table style=\"width:50%\"><tr><td>H2O_cluster_uptime:</td>\n",
              "<td>04 secs</td></tr>\n",
              "<tr><td>H2O_cluster_timezone:</td>\n",
              "<td>Etc/UTC</td></tr>\n",
              "<tr><td>H2O_data_parsing_timezone:</td>\n",
              "<td>UTC</td></tr>\n",
              "<tr><td>H2O_cluster_version:</td>\n",
              "<td>3.36.0.2</td></tr>\n",
              "<tr><td>H2O_cluster_version_age:</td>\n",
              "<td>19 days </td></tr>\n",
              "<tr><td>H2O_cluster_name:</td>\n",
              "<td>H2O_from_python_unknownUser_bu840q</td></tr>\n",
              "<tr><td>H2O_cluster_total_nodes:</td>\n",
              "<td>1</td></tr>\n",
              "<tr><td>H2O_cluster_free_memory:</td>\n",
              "<td>6 Gb</td></tr>\n",
              "<tr><td>H2O_cluster_total_cores:</td>\n",
              "<td>2</td></tr>\n",
              "<tr><td>H2O_cluster_allowed_cores:</td>\n",
              "<td>2</td></tr>\n",
              "<tr><td>H2O_cluster_status:</td>\n",
              "<td>locked, healthy</td></tr>\n",
              "<tr><td>H2O_connection_url:</td>\n",
              "<td>http://127.0.0.1:24121</td></tr>\n",
              "<tr><td>H2O_connection_proxy:</td>\n",
              "<td>{\"http\": null, \"https\": null}</td></tr>\n",
              "<tr><td>H2O_internal_security:</td>\n",
              "<td>False</td></tr>\n",
              "<tr><td>H2O_API_Extensions:</td>\n",
              "<td>Amazon S3, XGBoost, Algos, Infogram, AutoML, Core V3, TargetEncoder, Core V4</td></tr>\n",
              "<tr><td>Python_version:</td>\n",
              "<td>3.7.12 final</td></tr></table></div>"
            ],
            "text/plain": [
              "--------------------------  ----------------------------------------------------------------------------\n",
              "H2O_cluster_uptime:         04 secs\n",
              "H2O_cluster_timezone:       Etc/UTC\n",
              "H2O_data_parsing_timezone:  UTC\n",
              "H2O_cluster_version:        3.36.0.2\n",
              "H2O_cluster_version_age:    19 days\n",
              "H2O_cluster_name:           H2O_from_python_unknownUser_bu840q\n",
              "H2O_cluster_total_nodes:    1\n",
              "H2O_cluster_free_memory:    6 Gb\n",
              "H2O_cluster_total_cores:    2\n",
              "H2O_cluster_allowed_cores:  2\n",
              "H2O_cluster_status:         locked, healthy\n",
              "H2O_connection_url:         http://127.0.0.1:24121\n",
              "H2O_connection_proxy:       {\"http\": null, \"https\": null}\n",
              "H2O_internal_security:      False\n",
              "H2O_API_Extensions:         Amazon S3, XGBoost, Algos, Infogram, AutoML, Core V3, TargetEncoder, Core V4\n",
              "Python_version:             3.7.12 final\n",
              "--------------------------  ----------------------------------------------------------------------------"
            ]
          },
          "metadata": {}
        }
      ]
    },
    {
      "cell_type": "markdown",
      "source": [
        "# Import Rice grain data set\n",
        "\n",
        "Data picked from the following link:\n",
        "https://www.kaggle.com/mssmartypants/rice-type-classification"
      ],
      "metadata": {
        "id": "9UBRgtFI-VKw"
      }
    },
    {
      "cell_type": "code",
      "source": [
        "from google.colab import files\n",
        "uploaded = files.upload()\n"
      ],
      "metadata": {
        "colab": {
          "resources": {
            "http://localhost:8080/nbextensions/google.colab/files.js": {
              "data": "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",
              "ok": true,
              "headers": [
                [
                  "content-type",
                  "application/javascript"
                ]
              ],
              "status": 200,
              "status_text": ""
            }
          },
          "base_uri": "https://localhost:8080/",
          "height": 74
        },
        "id": "n65i8EaW-CpG",
        "outputId": "b4f60779-483b-47e0-aa50-c2dc245a3969"
      },
      "execution_count": 7,
      "outputs": [
        {
          "output_type": "display_data",
          "data": {
            "text/html": [
              "\n",
              "     <input type=\"file\" id=\"files-52f22210-e517-48eb-a01e-022bd46588a9\" name=\"files[]\" multiple disabled\n",
              "        style=\"border:none\" />\n",
              "     <output id=\"result-52f22210-e517-48eb-a01e-022bd46588a9\">\n",
              "      Upload widget is only available when the cell has been executed in the\n",
              "      current browser session. Please rerun this cell to enable.\n",
              "      </output>\n",
              "      <script src=\"/nbextensions/google.colab/files.js\"></script> "
            ],
            "text/plain": [
              "<IPython.core.display.HTML object>"
            ]
          },
          "metadata": {}
        },
        {
          "output_type": "stream",
          "name": "stdout",
          "text": [
            "Saving riceClassification.csv to riceClassification.csv\n"
          ]
        }
      ]
    },
    {
      "cell_type": "markdown",
      "source": [
        "# Reading data in pandas and H2O dataframe"
      ],
      "metadata": {
        "id": "XUaleuJj_bW5"
      }
    },
    {
      "cell_type": "code",
      "source": [
        "import io\n",
        "\n",
        "df1 = pd.read_csv(io.StringIO(uploaded['riceClassification.csv'].decode('utf-8')))\n",
        "df = h2o.H2OFrame(df1)"
      ],
      "metadata": {
        "colab": {
          "base_uri": "https://localhost:8080/"
        },
        "id": "prQp0gM4-bX7",
        "outputId": "8679a9bc-7a85-4b78-c17d-610abb6eb7e8"
      },
      "execution_count": 8,
      "outputs": [
        {
          "output_type": "stream",
          "name": "stdout",
          "text": [
            "Parse progress: |████████████████████████████████████████████████████████████████| (done) 100%\n"
          ]
        }
      ]
    },
    {
      "cell_type": "code",
      "source": [
        "df.head()"
      ],
      "metadata": {
        "colab": {
          "base_uri": "https://localhost:8080/",
          "height": 249
        },
        "id": "gvCpeAb8_m6q",
        "outputId": "5ec71751-127f-4ec3-a032-30a31c62b708"
      },
      "execution_count": 9,
      "outputs": [
        {
          "output_type": "display_data",
          "data": {
            "text/html": [
              "<table>\n",
              "<thead>\n",
              "<tr><th style=\"text-align: right;\">  id</th><th style=\"text-align: right;\">  Area</th><th style=\"text-align: right;\">  MajorAxisLength</th><th style=\"text-align: right;\">  MinorAxisLength</th><th style=\"text-align: right;\">  Eccentricity</th><th style=\"text-align: right;\">  ConvexArea</th><th style=\"text-align: right;\">  EquivDiameter</th><th style=\"text-align: right;\">  Extent</th><th style=\"text-align: right;\">  Perimeter</th><th style=\"text-align: right;\">  Roundness</th><th style=\"text-align: right;\">  AspectRation</th><th style=\"text-align: right;\">  Class</th></tr>\n",
              "</thead>\n",
              "<tbody>\n",
              "<tr><td style=\"text-align: right;\">   1</td><td style=\"text-align: right;\">  4537</td><td style=\"text-align: right;\">          92.2293</td><td style=\"text-align: right;\">          64.0128</td><td style=\"text-align: right;\">      0.719916</td><td style=\"text-align: right;\">        4677</td><td style=\"text-align: right;\">        76.0045</td><td style=\"text-align: right;\">0.657536</td><td style=\"text-align: right;\">    273.085</td><td style=\"text-align: right;\">   0.76451 </td><td style=\"text-align: right;\">       1.4408 </td><td style=\"text-align: right;\">      1</td></tr>\n",
              "<tr><td style=\"text-align: right;\">   2</td><td style=\"text-align: right;\">  2872</td><td style=\"text-align: right;\">          74.6919</td><td style=\"text-align: right;\">          51.4005</td><td style=\"text-align: right;\">      0.725553</td><td style=\"text-align: right;\">        3015</td><td style=\"text-align: right;\">        60.471 </td><td style=\"text-align: right;\">0.713009</td><td style=\"text-align: right;\">    208.317</td><td style=\"text-align: right;\">   0.831658</td><td style=\"text-align: right;\">       1.45314</td><td style=\"text-align: right;\">      1</td></tr>\n",
              "<tr><td style=\"text-align: right;\">   3</td><td style=\"text-align: right;\">  3048</td><td style=\"text-align: right;\">          76.2932</td><td style=\"text-align: right;\">          52.0435</td><td style=\"text-align: right;\">      0.731211</td><td style=\"text-align: right;\">        3132</td><td style=\"text-align: right;\">        62.2963</td><td style=\"text-align: right;\">0.759153</td><td style=\"text-align: right;\">    210.012</td><td style=\"text-align: right;\">   0.868434</td><td style=\"text-align: right;\">       1.46595</td><td style=\"text-align: right;\">      1</td></tr>\n",
              "<tr><td style=\"text-align: right;\">   4</td><td style=\"text-align: right;\">  3073</td><td style=\"text-align: right;\">          77.0336</td><td style=\"text-align: right;\">          51.9285</td><td style=\"text-align: right;\">      0.738639</td><td style=\"text-align: right;\">        3157</td><td style=\"text-align: right;\">        62.5513</td><td style=\"text-align: right;\">0.783529</td><td style=\"text-align: right;\">    210.657</td><td style=\"text-align: right;\">   0.870203</td><td style=\"text-align: right;\">       1.48346</td><td style=\"text-align: right;\">      1</td></tr>\n",
              "<tr><td style=\"text-align: right;\">   5</td><td style=\"text-align: right;\">  3693</td><td style=\"text-align: right;\">          85.1248</td><td style=\"text-align: right;\">          56.374 </td><td style=\"text-align: right;\">      0.749282</td><td style=\"text-align: right;\">        3802</td><td style=\"text-align: right;\">        68.5717</td><td style=\"text-align: right;\">0.769375</td><td style=\"text-align: right;\">    230.332</td><td style=\"text-align: right;\">   0.874743</td><td style=\"text-align: right;\">       1.51   </td><td style=\"text-align: right;\">      1</td></tr>\n",
              "<tr><td style=\"text-align: right;\">   6</td><td style=\"text-align: right;\">  2990</td><td style=\"text-align: right;\">          77.4171</td><td style=\"text-align: right;\">          50.9543</td><td style=\"text-align: right;\">      0.752861</td><td style=\"text-align: right;\">        3080</td><td style=\"text-align: right;\">        61.7008</td><td style=\"text-align: right;\">0.584898</td><td style=\"text-align: right;\">    216.93 </td><td style=\"text-align: right;\">   0.798439</td><td style=\"text-align: right;\">       1.51934</td><td style=\"text-align: right;\">      1</td></tr>\n",
              "<tr><td style=\"text-align: right;\">   7</td><td style=\"text-align: right;\">  3556</td><td style=\"text-align: right;\">          84.3236</td><td style=\"text-align: right;\">          55.4131</td><td style=\"text-align: right;\">      0.753762</td><td style=\"text-align: right;\">        3636</td><td style=\"text-align: right;\">        67.2877</td><td style=\"text-align: right;\">0.750211</td><td style=\"text-align: right;\">    227.007</td><td style=\"text-align: right;\">   0.867148</td><td style=\"text-align: right;\">       1.52173</td><td style=\"text-align: right;\">      1</td></tr>\n",
              "<tr><td style=\"text-align: right;\">   8</td><td style=\"text-align: right;\">  3788</td><td style=\"text-align: right;\">          86.9524</td><td style=\"text-align: right;\">          56.4448</td><td style=\"text-align: right;\">      0.760664</td><td style=\"text-align: right;\">        3866</td><td style=\"text-align: right;\">        69.448 </td><td style=\"text-align: right;\">0.800676</td><td style=\"text-align: right;\">    235.476</td><td style=\"text-align: right;\">   0.858473</td><td style=\"text-align: right;\">       1.54049</td><td style=\"text-align: right;\">      1</td></tr>\n",
              "<tr><td style=\"text-align: right;\">   9</td><td style=\"text-align: right;\">  2629</td><td style=\"text-align: right;\">          74.1331</td><td style=\"text-align: right;\">          48.0741</td><td style=\"text-align: right;\">      0.761228</td><td style=\"text-align: right;\">        2790</td><td style=\"text-align: right;\">        57.8563</td><td style=\"text-align: right;\">0.640595</td><td style=\"text-align: right;\">    207.325</td><td style=\"text-align: right;\">   0.768594</td><td style=\"text-align: right;\">       1.54206</td><td style=\"text-align: right;\">      1</td></tr>\n",
              "<tr><td style=\"text-align: right;\">  10</td><td style=\"text-align: right;\">  5719</td><td style=\"text-align: right;\">         106.721 </td><td style=\"text-align: right;\">          68.9777</td><td style=\"text-align: right;\">      0.763053</td><td style=\"text-align: right;\">        5819</td><td style=\"text-align: right;\">        85.3326</td><td style=\"text-align: right;\">0.754983</td><td style=\"text-align: right;\">    281.839</td><td style=\"text-align: right;\">   0.904748</td><td style=\"text-align: right;\">       1.54718</td><td style=\"text-align: right;\">      1</td></tr>\n",
              "</tbody>\n",
              "</table>"
            ]
          },
          "metadata": {}
        },
        {
          "output_type": "execute_result",
          "data": {
            "text/plain": [
              ""
            ]
          },
          "metadata": {},
          "execution_count": 9
        }
      ]
    },
    {
      "cell_type": "markdown",
      "source": [
        "Dropping ID column"
      ],
      "metadata": {
        "id": "iO_Z-_N4B4uQ"
      }
    },
    {
      "cell_type": "code",
      "source": [
        "df1= df1.drop('id', axis = 1)\n",
        "df= df.drop('id', axis = 1)\n",
        "df.head()"
      ],
      "metadata": {
        "colab": {
          "base_uri": "https://localhost:8080/",
          "height": 249
        },
        "id": "igTJDzsMB883",
        "outputId": "83b55688-bddf-4b3d-da80-1ab554a25c74"
      },
      "execution_count": 10,
      "outputs": [
        {
          "output_type": "display_data",
          "data": {
            "text/html": [
              "<table>\n",
              "<thead>\n",
              "<tr><th style=\"text-align: right;\">  Area</th><th style=\"text-align: right;\">  MajorAxisLength</th><th style=\"text-align: right;\">  MinorAxisLength</th><th style=\"text-align: right;\">  Eccentricity</th><th style=\"text-align: right;\">  ConvexArea</th><th style=\"text-align: right;\">  EquivDiameter</th><th style=\"text-align: right;\">  Extent</th><th style=\"text-align: right;\">  Perimeter</th><th style=\"text-align: right;\">  Roundness</th><th style=\"text-align: right;\">  AspectRation</th><th style=\"text-align: right;\">  Class</th></tr>\n",
              "</thead>\n",
              "<tbody>\n",
              "<tr><td style=\"text-align: right;\">  4537</td><td style=\"text-align: right;\">          92.2293</td><td style=\"text-align: right;\">          64.0128</td><td style=\"text-align: right;\">      0.719916</td><td style=\"text-align: right;\">        4677</td><td style=\"text-align: right;\">        76.0045</td><td style=\"text-align: right;\">0.657536</td><td style=\"text-align: right;\">    273.085</td><td style=\"text-align: right;\">   0.76451 </td><td style=\"text-align: right;\">       1.4408 </td><td style=\"text-align: right;\">      1</td></tr>\n",
              "<tr><td style=\"text-align: right;\">  2872</td><td style=\"text-align: right;\">          74.6919</td><td style=\"text-align: right;\">          51.4005</td><td style=\"text-align: right;\">      0.725553</td><td style=\"text-align: right;\">        3015</td><td style=\"text-align: right;\">        60.471 </td><td style=\"text-align: right;\">0.713009</td><td style=\"text-align: right;\">    208.317</td><td style=\"text-align: right;\">   0.831658</td><td style=\"text-align: right;\">       1.45314</td><td style=\"text-align: right;\">      1</td></tr>\n",
              "<tr><td style=\"text-align: right;\">  3048</td><td style=\"text-align: right;\">          76.2932</td><td style=\"text-align: right;\">          52.0435</td><td style=\"text-align: right;\">      0.731211</td><td style=\"text-align: right;\">        3132</td><td style=\"text-align: right;\">        62.2963</td><td style=\"text-align: right;\">0.759153</td><td style=\"text-align: right;\">    210.012</td><td style=\"text-align: right;\">   0.868434</td><td style=\"text-align: right;\">       1.46595</td><td style=\"text-align: right;\">      1</td></tr>\n",
              "<tr><td style=\"text-align: right;\">  3073</td><td style=\"text-align: right;\">          77.0336</td><td style=\"text-align: right;\">          51.9285</td><td style=\"text-align: right;\">      0.738639</td><td style=\"text-align: right;\">        3157</td><td style=\"text-align: right;\">        62.5513</td><td style=\"text-align: right;\">0.783529</td><td style=\"text-align: right;\">    210.657</td><td style=\"text-align: right;\">   0.870203</td><td style=\"text-align: right;\">       1.48346</td><td style=\"text-align: right;\">      1</td></tr>\n",
              "<tr><td style=\"text-align: right;\">  3693</td><td style=\"text-align: right;\">          85.1248</td><td style=\"text-align: right;\">          56.374 </td><td style=\"text-align: right;\">      0.749282</td><td style=\"text-align: right;\">        3802</td><td style=\"text-align: right;\">        68.5717</td><td style=\"text-align: right;\">0.769375</td><td style=\"text-align: right;\">    230.332</td><td style=\"text-align: right;\">   0.874743</td><td style=\"text-align: right;\">       1.51   </td><td style=\"text-align: right;\">      1</td></tr>\n",
              "<tr><td style=\"text-align: right;\">  2990</td><td style=\"text-align: right;\">          77.4171</td><td style=\"text-align: right;\">          50.9543</td><td style=\"text-align: right;\">      0.752861</td><td style=\"text-align: right;\">        3080</td><td style=\"text-align: right;\">        61.7008</td><td style=\"text-align: right;\">0.584898</td><td style=\"text-align: right;\">    216.93 </td><td style=\"text-align: right;\">   0.798439</td><td style=\"text-align: right;\">       1.51934</td><td style=\"text-align: right;\">      1</td></tr>\n",
              "<tr><td style=\"text-align: right;\">  3556</td><td style=\"text-align: right;\">          84.3236</td><td style=\"text-align: right;\">          55.4131</td><td style=\"text-align: right;\">      0.753762</td><td style=\"text-align: right;\">        3636</td><td style=\"text-align: right;\">        67.2877</td><td style=\"text-align: right;\">0.750211</td><td style=\"text-align: right;\">    227.007</td><td style=\"text-align: right;\">   0.867148</td><td style=\"text-align: right;\">       1.52173</td><td style=\"text-align: right;\">      1</td></tr>\n",
              "<tr><td style=\"text-align: right;\">  3788</td><td style=\"text-align: right;\">          86.9524</td><td style=\"text-align: right;\">          56.4448</td><td style=\"text-align: right;\">      0.760664</td><td style=\"text-align: right;\">        3866</td><td style=\"text-align: right;\">        69.448 </td><td style=\"text-align: right;\">0.800676</td><td style=\"text-align: right;\">    235.476</td><td style=\"text-align: right;\">   0.858473</td><td style=\"text-align: right;\">       1.54049</td><td style=\"text-align: right;\">      1</td></tr>\n",
              "<tr><td style=\"text-align: right;\">  2629</td><td style=\"text-align: right;\">          74.1331</td><td style=\"text-align: right;\">          48.0741</td><td style=\"text-align: right;\">      0.761228</td><td style=\"text-align: right;\">        2790</td><td style=\"text-align: right;\">        57.8563</td><td style=\"text-align: right;\">0.640595</td><td style=\"text-align: right;\">    207.325</td><td style=\"text-align: right;\">   0.768594</td><td style=\"text-align: right;\">       1.54206</td><td style=\"text-align: right;\">      1</td></tr>\n",
              "<tr><td style=\"text-align: right;\">  5719</td><td style=\"text-align: right;\">         106.721 </td><td style=\"text-align: right;\">          68.9777</td><td style=\"text-align: right;\">      0.763053</td><td style=\"text-align: right;\">        5819</td><td style=\"text-align: right;\">        85.3326</td><td style=\"text-align: right;\">0.754983</td><td style=\"text-align: right;\">    281.839</td><td style=\"text-align: right;\">   0.904748</td><td style=\"text-align: right;\">       1.54718</td><td style=\"text-align: right;\">      1</td></tr>\n",
              "</tbody>\n",
              "</table>"
            ]
          },
          "metadata": {}
        },
        {
          "output_type": "execute_result",
          "data": {
            "text/plain": [
              ""
            ]
          },
          "metadata": {},
          "execution_count": 10
        }
      ]
    },
    {
      "cell_type": "markdown",
      "source": [
        "# Initial data inspection"
      ],
      "metadata": {
        "id": "OsiML865CmFM"
      }
    },
    {
      "cell_type": "code",
      "source": [
        "df.types"
      ],
      "metadata": {
        "colab": {
          "base_uri": "https://localhost:8080/"
        },
        "id": "-D1C0RDY_sOZ",
        "outputId": "6bf1dda8-b86c-44fc-8803-027def37b152"
      },
      "execution_count": 11,
      "outputs": [
        {
          "output_type": "execute_result",
          "data": {
            "text/plain": [
              "{'Area': 'int',\n",
              " 'AspectRation': 'real',\n",
              " 'Class': 'int',\n",
              " 'ConvexArea': 'int',\n",
              " 'Eccentricity': 'real',\n",
              " 'EquivDiameter': 'real',\n",
              " 'Extent': 'real',\n",
              " 'MajorAxisLength': 'real',\n",
              " 'MinorAxisLength': 'real',\n",
              " 'Perimeter': 'real',\n",
              " 'Roundness': 'real'}"
            ]
          },
          "metadata": {},
          "execution_count": 11
        }
      ]
    },
    {
      "cell_type": "code",
      "source": [
        "print('Total Number of rows:', df.shape[0] )\n",
        "print('Total Number of columns:', df.shape[1] )"
      ],
      "metadata": {
        "colab": {
          "base_uri": "https://localhost:8080/"
        },
        "id": "WfHWHRRCCYho",
        "outputId": "06b4a844-2545-4d8e-e086-603e788b7032"
      },
      "execution_count": 12,
      "outputs": [
        {
          "output_type": "stream",
          "name": "stdout",
          "text": [
            "Total Number of rows: 18185\n",
            "Total Number of columns: 11\n"
          ]
        }
      ]
    },
    {
      "cell_type": "code",
      "source": [
        "df.describe()"
      ],
      "metadata": {
        "colab": {
          "base_uri": "https://localhost:8080/",
          "height": 485
        },
        "id": "GwtJ1tv8CeUG",
        "outputId": "73199c31-1d74-473c-c33f-9dff4cdd213c"
      },
      "execution_count": 13,
      "outputs": [
        {
          "output_type": "stream",
          "name": "stdout",
          "text": [
            "Rows:18185\n",
            "Cols:11\n",
            "\n",
            "\n"
          ]
        },
        {
          "output_type": "display_data",
          "data": {
            "text/html": [
              "<table>\n",
              "<thead>\n",
              "<tr><th>       </th><th>Area              </th><th>MajorAxisLength   </th><th>MinorAxisLength   </th><th>Eccentricity        </th><th>ConvexArea        </th><th>EquivDiameter    </th><th>Extent             </th><th>Perimeter         </th><th>Roundness          </th><th>AspectRation      </th><th>Class             </th></tr>\n",
              "</thead>\n",
              "<tbody>\n",
              "<tr><td>type   </td><td>int               </td><td>real              </td><td>real              </td><td>real                </td><td>int               </td><td>real             </td><td>real               </td><td>real              </td><td>real               </td><td>real              </td><td>int               </td></tr>\n",
              "<tr><td>mins   </td><td>2522.0            </td><td>74.13311404       </td><td>34.40989421       </td><td>0.6766470565        </td><td>2579.0            </td><td>56.66665803      </td><td>0.3832391714       </td><td>197.015           </td><td>0.1745901779       </td><td>1.358128195       </td><td>0.0               </td></tr>\n",
              "<tr><td>mean   </td><td>7036.492988726975 </td><td>151.68075388107974</td><td>59.8078511594407  </td><td>0.9154063539308258  </td><td>7225.8178718724475</td><td>94.13295239997858</td><td>0.6166528250536815 </td><td>351.60694924387997</td><td>0.7079983422321539 </td><td>2.599081089354609 </td><td>0.5490789111905416</td></tr>\n",
              "<tr><td>maxs   </td><td>10210.0           </td><td>183.2114344       </td><td>82.55076212       </td><td>0.9667736672        </td><td>11008.0           </td><td>114.0165591      </td><td>0.8865730584       </td><td>508.511           </td><td>0.9047483132       </td><td>3.911844673       </td><td>1.0               </td></tr>\n",
              "<tr><td>sigma  </td><td>1467.1971501530709</td><td>12.37640247521008 </td><td>10.061652559363003</td><td>0.030575132488674692</td><td>1502.0065711989255</td><td>9.906250469738056</td><td>0.10438942430267777</td><td>29.500619875939645</td><td>0.06731016002659125</td><td>0.4348364637403783</td><td>0.497599112099058 </td></tr>\n",
              "<tr><td>zeros  </td><td>0                 </td><td>0                 </td><td>0                 </td><td>0                   </td><td>0                 </td><td>0                </td><td>0                  </td><td>0                 </td><td>0                  </td><td>0                 </td><td>8200              </td></tr>\n",
              "<tr><td>missing</td><td>0                 </td><td>0                 </td><td>0                 </td><td>0                   </td><td>0                 </td><td>0                </td><td>0                  </td><td>0                 </td><td>0                  </td><td>0                 </td><td>0                 </td></tr>\n",
              "<tr><td>0      </td><td>4537.0            </td><td>92.2293165        </td><td>64.01276874       </td><td>0.7199162256        </td><td>4677.0            </td><td>76.00452496      </td><td>0.6575362319       </td><td>273.085           </td><td>0.7645096145       </td><td>1.440795615       </td><td>1.0               </td></tr>\n",
              "<tr><td>1      </td><td>2872.0            </td><td>74.69188071       </td><td>51.40045446       </td><td>0.7255527468        </td><td>3015.0            </td><td>60.47101762      </td><td>0.7130089374       </td><td>208.317           </td><td>0.8316582009       </td><td>1.453136582       </td><td>1.0               </td></tr>\n",
              "<tr><td>2      </td><td>3048.0            </td><td>76.2931638        </td><td>52.04349114       </td><td>0.7312109273        </td><td>3132.0            </td><td>62.29634124      </td><td>0.7591531756       </td><td>210.012           </td><td>0.8684335737       </td><td>1.465950153       </td><td>1.0               </td></tr>\n",
              "<tr><td>3      </td><td>3073.0            </td><td>77.03362772       </td><td>51.92848667       </td><td>0.7386386945        </td><td>3157.0            </td><td>62.55129991      </td><td>0.7835288118       </td><td>210.657           </td><td>0.8702031163       </td><td>1.48345605        </td><td>1.0               </td></tr>\n",
              "<tr><td>4      </td><td>3693.0            </td><td>85.12478457       </td><td>56.37402054       </td><td>0.7492815788        </td><td>3802.0            </td><td>68.5716679       </td><td>0.769375           </td><td>230.332           </td><td>0.8747432792       </td><td>1.51000024        </td><td>1.0               </td></tr>\n",
              "<tr><td>5      </td><td>2990.0            </td><td>77.41707342       </td><td>50.9543441        </td><td>0.7528608886        </td><td>3080.0            </td><td>61.70077989      </td><td>0.5848982786       </td><td>216.93            </td><td>0.798439143        </td><td>1.519341968       </td><td>1.0               </td></tr>\n",
              "<tr><td>6      </td><td>3556.0            </td><td>84.32356418       </td><td>55.41306133       </td><td>0.7537615734        </td><td>3636.0            </td><td>67.28773901      </td><td>0.7502109705       </td><td>227.007           </td><td>0.8671477822       </td><td>1.521727227       </td><td>1.0               </td></tr>\n",
              "<tr><td>7      </td><td>3788.0            </td><td>86.95241143       </td><td>56.44476861       </td><td>0.7606642424        </td><td>3866.0            </td><td>69.44804818      </td><td>0.8006763898       </td><td>235.476           </td><td>0.8584727903       </td><td>1.540486631       </td><td>1.0               </td></tr>\n",
              "<tr><td>8      </td><td>2629.0            </td><td>74.13311404       </td><td>48.07414422       </td><td>0.7612282171        </td><td>2790.0            </td><td>57.8562595       </td><td>0.6405945419       </td><td>207.325           </td><td>0.7685941985       </td><td>1.542057903       </td><td>1.0               </td></tr>\n",
              "<tr><td>9      </td><td>5719.0            </td><td>106.7211415       </td><td>68.97769987       </td><td>0.7630530565        </td><td>5819.0            </td><td>85.33262539      </td><td>0.7549834983       </td><td>281.839           </td><td>0.9047483132       </td><td>1.547183245       </td><td>1.0               </td></tr>\n",
              "</tbody>\n",
              "</table>"
            ]
          },
          "metadata": {}
        }
      ]
    },
    {
      "cell_type": "markdown",
      "source": [
        "Splitting independent variables and target variables"
      ],
      "metadata": {
        "id": "WXFkka9JCzFt"
      }
    },
    {
      "cell_type": "code",
      "source": [
        "import statsmodels.api as sm\n",
        "\n",
        "X = df1.iloc[:,:-1]\n",
        "y = df1.iloc[:,-1]\n",
        "\n",
        "X.head()"
      ],
      "metadata": {
        "colab": {
          "base_uri": "https://localhost:8080/",
          "height": 261
        },
        "id": "Lyv4KfBoChLK",
        "outputId": "793f6db4-cce3-47a5-f16d-2d60aee49089"
      },
      "execution_count": 14,
      "outputs": [
        {
          "output_type": "stream",
          "name": "stderr",
          "text": [
            "/usr/local/lib/python3.7/dist-packages/statsmodels/tools/_testing.py:19: FutureWarning: pandas.util.testing is deprecated. Use the functions in the public API at pandas.testing instead.\n",
            "  import pandas.util.testing as tm\n"
          ]
        },
        {
          "output_type": "execute_result",
          "data": {
            "text/html": [
              "\n",
              "  <div id=\"df-e2da1f59-dbe7-404d-a241-5b36b4c48417\">\n",
              "    <div class=\"colab-df-container\">\n",
              "      <div>\n",
              "<style scoped>\n",
              "    .dataframe tbody tr th:only-of-type {\n",
              "        vertical-align: middle;\n",
              "    }\n",
              "\n",
              "    .dataframe tbody tr th {\n",
              "        vertical-align: top;\n",
              "    }\n",
              "\n",
              "    .dataframe thead th {\n",
              "        text-align: right;\n",
              "    }\n",
              "</style>\n",
              "<table border=\"1\" class=\"dataframe\">\n",
              "  <thead>\n",
              "    <tr style=\"text-align: right;\">\n",
              "      <th></th>\n",
              "      <th>Area</th>\n",
              "      <th>MajorAxisLength</th>\n",
              "      <th>MinorAxisLength</th>\n",
              "      <th>Eccentricity</th>\n",
              "      <th>ConvexArea</th>\n",
              "      <th>EquivDiameter</th>\n",
              "      <th>Extent</th>\n",
              "      <th>Perimeter</th>\n",
              "      <th>Roundness</th>\n",
              "      <th>AspectRation</th>\n",
              "    </tr>\n",
              "  </thead>\n",
              "  <tbody>\n",
              "    <tr>\n",
              "      <th>0</th>\n",
              "      <td>4537</td>\n",
              "      <td>92.229316</td>\n",
              "      <td>64.012769</td>\n",
              "      <td>0.719916</td>\n",
              "      <td>4677</td>\n",
              "      <td>76.004525</td>\n",
              "      <td>0.657536</td>\n",
              "      <td>273.085</td>\n",
              "      <td>0.764510</td>\n",
              "      <td>1.440796</td>\n",
              "    </tr>\n",
              "    <tr>\n",
              "      <th>1</th>\n",
              "      <td>2872</td>\n",
              "      <td>74.691881</td>\n",
              "      <td>51.400454</td>\n",
              "      <td>0.725553</td>\n",
              "      <td>3015</td>\n",
              "      <td>60.471018</td>\n",
              "      <td>0.713009</td>\n",
              "      <td>208.317</td>\n",
              "      <td>0.831658</td>\n",
              "      <td>1.453137</td>\n",
              "    </tr>\n",
              "    <tr>\n",
              "      <th>2</th>\n",
              "      <td>3048</td>\n",
              "      <td>76.293164</td>\n",
              "      <td>52.043491</td>\n",
              "      <td>0.731211</td>\n",
              "      <td>3132</td>\n",
              "      <td>62.296341</td>\n",
              "      <td>0.759153</td>\n",
              "      <td>210.012</td>\n",
              "      <td>0.868434</td>\n",
              "      <td>1.465950</td>\n",
              "    </tr>\n",
              "    <tr>\n",
              "      <th>3</th>\n",
              "      <td>3073</td>\n",
              "      <td>77.033628</td>\n",
              "      <td>51.928487</td>\n",
              "      <td>0.738639</td>\n",
              "      <td>3157</td>\n",
              "      <td>62.551300</td>\n",
              "      <td>0.783529</td>\n",
              "      <td>210.657</td>\n",
              "      <td>0.870203</td>\n",
              "      <td>1.483456</td>\n",
              "    </tr>\n",
              "    <tr>\n",
              "      <th>4</th>\n",
              "      <td>3693</td>\n",
              "      <td>85.124785</td>\n",
              "      <td>56.374021</td>\n",
              "      <td>0.749282</td>\n",
              "      <td>3802</td>\n",
              "      <td>68.571668</td>\n",
              "      <td>0.769375</td>\n",
              "      <td>230.332</td>\n",
              "      <td>0.874743</td>\n",
              "      <td>1.510000</td>\n",
              "    </tr>\n",
              "  </tbody>\n",
              "</table>\n",
              "</div>\n",
              "      <button class=\"colab-df-convert\" onclick=\"convertToInteractive('df-e2da1f59-dbe7-404d-a241-5b36b4c48417')\"\n",
              "              title=\"Convert this dataframe to an interactive table.\"\n",
              "              style=\"display:none;\">\n",
              "        \n",
              "  <svg xmlns=\"http://www.w3.org/2000/svg\" height=\"24px\"viewBox=\"0 0 24 24\"\n",
              "       width=\"24px\">\n",
              "    <path d=\"M0 0h24v24H0V0z\" fill=\"none\"/>\n",
              "    <path d=\"M18.56 5.44l.94 2.06.94-2.06 2.06-.94-2.06-.94-.94-2.06-.94 2.06-2.06.94zm-11 1L8.5 8.5l.94-2.06 2.06-.94-2.06-.94L8.5 2.5l-.94 2.06-2.06.94zm10 10l.94 2.06.94-2.06 2.06-.94-2.06-.94-.94-2.06-.94 2.06-2.06.94z\"/><path d=\"M17.41 7.96l-1.37-1.37c-.4-.4-.92-.59-1.43-.59-.52 0-1.04.2-1.43.59L10.3 9.45l-7.72 7.72c-.78.78-.78 2.05 0 2.83L4 21.41c.39.39.9.59 1.41.59.51 0 1.02-.2 1.41-.59l7.78-7.78 2.81-2.81c.8-.78.8-2.07 0-2.86zM5.41 20L4 18.59l7.72-7.72 1.47 1.35L5.41 20z\"/>\n",
              "  </svg>\n",
              "      </button>\n",
              "      \n",
              "  <style>\n",
              "    .colab-df-container {\n",
              "      display:flex;\n",
              "      flex-wrap:wrap;\n",
              "      gap: 12px;\n",
              "    }\n",
              "\n",
              "    .colab-df-convert {\n",
              "      background-color: #E8F0FE;\n",
              "      border: none;\n",
              "      border-radius: 50%;\n",
              "      cursor: pointer;\n",
              "      display: none;\n",
              "      fill: #1967D2;\n",
              "      height: 32px;\n",
              "      padding: 0 0 0 0;\n",
              "      width: 32px;\n",
              "    }\n",
              "\n",
              "    .colab-df-convert:hover {\n",
              "      background-color: #E2EBFA;\n",
              "      box-shadow: 0px 1px 2px rgba(60, 64, 67, 0.3), 0px 1px 3px 1px rgba(60, 64, 67, 0.15);\n",
              "      fill: #174EA6;\n",
              "    }\n",
              "\n",
              "    [theme=dark] .colab-df-convert {\n",
              "      background-color: #3B4455;\n",
              "      fill: #D2E3FC;\n",
              "    }\n",
              "\n",
              "    [theme=dark] .colab-df-convert:hover {\n",
              "      background-color: #434B5C;\n",
              "      box-shadow: 0px 1px 3px 1px rgba(0, 0, 0, 0.15);\n",
              "      filter: drop-shadow(0px 1px 2px rgba(0, 0, 0, 0.3));\n",
              "      fill: #FFFFFF;\n",
              "    }\n",
              "  </style>\n",
              "\n",
              "      <script>\n",
              "        const buttonEl =\n",
              "          document.querySelector('#df-e2da1f59-dbe7-404d-a241-5b36b4c48417 button.colab-df-convert');\n",
              "        buttonEl.style.display =\n",
              "          google.colab.kernel.accessAllowed ? 'block' : 'none';\n",
              "\n",
              "        async function convertToInteractive(key) {\n",
              "          const element = document.querySelector('#df-e2da1f59-dbe7-404d-a241-5b36b4c48417');\n",
              "          const dataTable =\n",
              "            await google.colab.kernel.invokeFunction('convertToInteractive',\n",
              "                                                     [key], {});\n",
              "          if (!dataTable) return;\n",
              "\n",
              "          const docLinkHtml = 'Like what you see? Visit the ' +\n",
              "            '<a target=\"_blank\" href=https://colab.research.google.com/notebooks/data_table.ipynb>data table notebook</a>'\n",
              "            + ' to learn more about interactive tables.';\n",
              "          element.innerHTML = '';\n",
              "          dataTable['output_type'] = 'display_data';\n",
              "          await google.colab.output.renderOutput(dataTable, element);\n",
              "          const docLink = document.createElement('div');\n",
              "          docLink.innerHTML = docLinkHtml;\n",
              "          element.appendChild(docLink);\n",
              "        }\n",
              "      </script>\n",
              "    </div>\n",
              "  </div>\n",
              "  "
            ],
            "text/plain": [
              "   Area  MajorAxisLength  MinorAxisLength  ...  Perimeter  Roundness  AspectRation\n",
              "0  4537        92.229316        64.012769  ...    273.085   0.764510      1.440796\n",
              "1  2872        74.691881        51.400454  ...    208.317   0.831658      1.453137\n",
              "2  3048        76.293164        52.043491  ...    210.012   0.868434      1.465950\n",
              "3  3073        77.033628        51.928487  ...    210.657   0.870203      1.483456\n",
              "4  3693        85.124785        56.374021  ...    230.332   0.874743      1.510000\n",
              "\n",
              "[5 rows x 10 columns]"
            ]
          },
          "metadata": {},
          "execution_count": 14
        }
      ]
    },
    {
      "cell_type": "markdown",
      "source": [
        "# Checking for Multicollinearity\n",
        "\n",
        "If there is multicollinearity present between two independent variables i.e. if two parameters are highly correlated say above 90% , it is possible to drop one of those parameters as both of them are very similar.\n",
        "\n",
        "Multicollinearity can be found by plotting a heatmap of the correlation of all the parameters.\n",
        "\n",
        "Here we will also be using **Variance Inflation Factor**  or **VIF**.\n",
        "It is calculated by the inverse of **(1 - R^2)**.  \n",
        "The higher the R^2 the higher the VIF and multicollinearity.\n",
        "\n",
        "The disadvantage to this is that our model might lose some kind of information.\n",
        "\n",
        "Detecting and rectifying multicollinearity can be better understood in the following article:\n",
        "https://www.analyticsvidhya.com/blog/2020/03/what-is-multicollinearity/"
      ],
      "metadata": {
        "id": "CnmFATkIEPPi"
      }
    },
    {
      "cell_type": "code",
      "source": [
        "#Initial Heatmap\n",
        "sns.set(rc = {'figure.figsize':(15,8)})\n",
        "sns.heatmap(X.corr(), linewidths=1, annot = True)"
      ],
      "metadata": {
        "colab": {
          "base_uri": "https://localhost:8080/",
          "height": 588
        },
        "id": "66JJUlVZgpJI",
        "outputId": "ad79b85a-e7e1-45ad-eb64-d60b9d126700"
      },
      "execution_count": 15,
      "outputs": [
        {
          "output_type": "execute_result",
          "data": {
            "text/plain": [
              "<matplotlib.axes._subplots.AxesSubplot at 0x7f8f2773d910>"
            ]
          },
          "metadata": {},
          "execution_count": 15
        },
        {
          "output_type": "display_data",
          "data": {
            "image/png": "[encoded data removed]",
            "text/plain": [
              "<Figure size 1080x576 with 2 Axes>"
            ]
          },
          "metadata": {}
        }
      ]
    },
    {
      "cell_type": "markdown",
      "source": [
        "The above plot shows that multicollinearity is present. We will further confirm this using VIF below."
      ],
      "metadata": {
        "id": "ItKGpzMOg5oj"
      }
    },
    {
      "cell_type": "code",
      "source": [
        "from statsmodels.stats.outliers_influence import variance_inflation_factor\n",
        "\n",
        "def calc_vif(X):\n",
        "\n",
        "    # Calculating VIF\n",
        "    vif = pd.DataFrame()\n",
        "    vif[\"variables\"] = X.columns\n",
        "    vif[\"VIF\"] = [variance_inflation_factor(X.values, i) for i in range(X.shape[1])]\n",
        "\n",
        "    return(vif)"
      ],
      "metadata": {
        "id": "eBojudEkPmAL"
      },
      "execution_count": 16,
      "outputs": []
    },
    {
      "cell_type": "markdown",
      "source": [
        "The above function will now be used to calculate the VIF of the hyperparameters."
      ],
      "metadata": {
        "id": "Ol17yMFMaGHL"
      }
    },
    {
      "cell_type": "code",
      "source": [
        "\n",
        "X = df1.iloc[:,:-1]\n",
        "calc_vif(X).sort_values(by = 'VIF', ascending=False)\n"
      ],
      "metadata": {
        "colab": {
          "base_uri": "https://localhost:8080/",
          "height": 363
        },
        "id": "QhcYd91DaGiF",
        "outputId": "cbff1b37-367b-4f94-eee5-38395492e072"
      },
      "execution_count": 17,
      "outputs": [
        {
          "output_type": "execute_result",
          "data": {
            "text/html": [
              "\n",
              "  <div id=\"df-1abea0fd-6c90-4ef7-a464-bcf5e52deb65\">\n",
              "    <div class=\"colab-df-container\">\n",
              "      <div>\n",
              "<style scoped>\n",
              "    .dataframe tbody tr th:only-of-type {\n",
              "        vertical-align: middle;\n",
              "    }\n",
              "\n",
              "    .dataframe tbody tr th {\n",
              "        vertical-align: top;\n",
              "    }\n",
              "\n",
              "    .dataframe thead th {\n",
              "        text-align: right;\n",
              "    }\n",
              "</style>\n",
              "<table border=\"1\" class=\"dataframe\">\n",
              "  <thead>\n",
              "    <tr style=\"text-align: right;\">\n",
              "      <th></th>\n",
              "      <th>variables</th>\n",
              "      <th>VIF</th>\n",
              "    </tr>\n",
              "  </thead>\n",
              "  <tbody>\n",
              "    <tr>\n",
              "      <th>5</th>\n",
              "      <td>EquivDiameter</td>\n",
              "      <td>200374.161541</td>\n",
              "    </tr>\n",
              "    <tr>\n",
              "      <th>0</th>\n",
              "      <td>Area</td>\n",
              "      <td>55974.250088</td>\n",
              "    </tr>\n",
              "    <tr>\n",
              "      <th>1</th>\n",
              "      <td>MajorAxisLength</td>\n",
              "      <td>48064.134542</td>\n",
              "    </tr>\n",
              "    <tr>\n",
              "      <th>4</th>\n",
              "      <td>ConvexArea</td>\n",
              "      <td>43762.833933</td>\n",
              "    </tr>\n",
              "    <tr>\n",
              "      <th>2</th>\n",
              "      <td>MinorAxisLength</td>\n",
              "      <td>30871.549461</td>\n",
              "    </tr>\n",
              "    <tr>\n",
              "      <th>7</th>\n",
              "      <td>Perimeter</td>\n",
              "      <td>26668.994678</td>\n",
              "    </tr>\n",
              "    <tr>\n",
              "      <th>3</th>\n",
              "      <td>Eccentricity</td>\n",
              "      <td>14799.718257</td>\n",
              "    </tr>\n",
              "    <tr>\n",
              "      <th>8</th>\n",
              "      <td>Roundness</td>\n",
              "      <td>8747.344897</td>\n",
              "    </tr>\n",
              "    <tr>\n",
              "      <th>9</th>\n",
              "      <td>AspectRation</td>\n",
              "      <td>3481.452873</td>\n",
              "    </tr>\n",
              "    <tr>\n",
              "      <th>6</th>\n",
              "      <td>Extent</td>\n",
              "      <td>41.550619</td>\n",
              "    </tr>\n",
              "  </tbody>\n",
              "</table>\n",
              "</div>\n",
              "      <button class=\"colab-df-convert\" onclick=\"convertToInteractive('df-1abea0fd-6c90-4ef7-a464-bcf5e52deb65')\"\n",
              "              title=\"Convert this dataframe to an interactive table.\"\n",
              "              style=\"display:none;\">\n",
              "        \n",
              "  <svg xmlns=\"http://www.w3.org/2000/svg\" height=\"24px\"viewBox=\"0 0 24 24\"\n",
              "       width=\"24px\">\n",
              "    <path d=\"M0 0h24v24H0V0z\" fill=\"none\"/>\n",
              "    <path d=\"M18.56 5.44l.94 2.06.94-2.06 2.06-.94-2.06-.94-.94-2.06-.94 2.06-2.06.94zm-11 1L8.5 8.5l.94-2.06 2.06-.94-2.06-.94L8.5 2.5l-.94 2.06-2.06.94zm10 10l.94 2.06.94-2.06 2.06-.94-2.06-.94-.94-2.06-.94 2.06-2.06.94z\"/><path d=\"M17.41 7.96l-1.37-1.37c-.4-.4-.92-.59-1.43-.59-.52 0-1.04.2-1.43.59L10.3 9.45l-7.72 7.72c-.78.78-.78 2.05 0 2.83L4 21.41c.39.39.9.59 1.41.59.51 0 1.02-.2 1.41-.59l7.78-7.78 2.81-2.81c.8-.78.8-2.07 0-2.86zM5.41 20L4 18.59l7.72-7.72 1.47 1.35L5.41 20z\"/>\n",
              "  </svg>\n",
              "      </button>\n",
              "      \n",
              "  <style>\n",
              "    .colab-df-container {\n",
              "      display:flex;\n",
              "      flex-wrap:wrap;\n",
              "      gap: 12px;\n",
              "    }\n",
              "\n",
              "    .colab-df-convert {\n",
              "      background-color: #E8F0FE;\n",
              "      border: none;\n",
              "      border-radius: 50%;\n",
              "      cursor: pointer;\n",
              "      display: none;\n",
              "      fill: #1967D2;\n",
              "      height: 32px;\n",
              "      padding: 0 0 0 0;\n",
              "      width: 32px;\n",
              "    }\n",
              "\n",
              "    .colab-df-convert:hover {\n",
              "      background-color: #E2EBFA;\n",
              "      box-shadow: 0px 1px 2px rgba(60, 64, 67, 0.3), 0px 1px 3px 1px rgba(60, 64, 67, 0.15);\n",
              "      fill: #174EA6;\n",
              "    }\n",
              "\n",
              "    [theme=dark] .colab-df-convert {\n",
              "      background-color: #3B4455;\n",
              "      fill: #D2E3FC;\n",
              "    }\n",
              "\n",
              "    [theme=dark] .colab-df-convert:hover {\n",
              "      background-color: #434B5C;\n",
              "      box-shadow: 0px 1px 3px 1px rgba(0, 0, 0, 0.15);\n",
              "      filter: drop-shadow(0px 1px 2px rgba(0, 0, 0, 0.3));\n",
              "      fill: #FFFFFF;\n",
              "    }\n",
              "  </style>\n",
              "\n",
              "      <script>\n",
              "        const buttonEl =\n",
              "          document.querySelector('#df-1abea0fd-6c90-4ef7-a464-bcf5e52deb65 button.colab-df-convert');\n",
              "        buttonEl.style.display =\n",
              "          google.colab.kernel.accessAllowed ? 'block' : 'none';\n",
              "\n",
              "        async function convertToInteractive(key) {\n",
              "          const element = document.querySelector('#df-1abea0fd-6c90-4ef7-a464-bcf5e52deb65');\n",
              "          const dataTable =\n",
              "            await google.colab.kernel.invokeFunction('convertToInteractive',\n",
              "                                                     [key], {});\n",
              "          if (!dataTable) return;\n",
              "\n",
              "          const docLinkHtml = 'Like what you see? Visit the ' +\n",
              "            '<a target=\"_blank\" href=https://colab.research.google.com/notebooks/data_table.ipynb>data table notebook</a>'\n",
              "            + ' to learn more about interactive tables.';\n",
              "          element.innerHTML = '';\n",
              "          dataTable['output_type'] = 'display_data';\n",
              "          await google.colab.output.renderOutput(dataTable, element);\n",
              "          const docLink = document.createElement('div');\n",
              "          docLink.innerHTML = docLinkHtml;\n",
              "          element.appendChild(docLink);\n",
              "        }\n",
              "      </script>\n",
              "    </div>\n",
              "  </div>\n",
              "  "
            ],
            "text/plain": [
              "         variables            VIF\n",
              "5    EquivDiameter  200374.161541\n",
              "0             Area   55974.250088\n",
              "1  MajorAxisLength   48064.134542\n",
              "4       ConvexArea   43762.833933\n",
              "2  MinorAxisLength   30871.549461\n",
              "7        Perimeter   26668.994678\n",
              "3     Eccentricity   14799.718257\n",
              "8        Roundness    8747.344897\n",
              "9     AspectRation    3481.452873\n",
              "6           Extent      41.550619"
            ]
          },
          "metadata": {},
          "execution_count": 17
        }
      ]
    },
    {
      "cell_type": "markdown",
      "source": [
        "Sequentially removing the variable with the highest VIF value. This also alters the VIF value for rest of the parameters."
      ],
      "metadata": {
        "id": "nV2B3SzwfZ9y"
      }
    },
    {
      "cell_type": "code",
      "source": [
        "X = X.drop('EquivDiameter',axis = 1)\n",
        "calc_vif(X).sort_values(by = 'VIF', ascending=False)"
      ],
      "metadata": {
        "colab": {
          "base_uri": "https://localhost:8080/",
          "height": 331
        },
        "id": "5f6A2REJaHpP",
        "outputId": "f40452ae-698d-4855-f8e2-1743cb10b92e"
      },
      "execution_count": 18,
      "outputs": [
        {
          "output_type": "execute_result",
          "data": {
            "text/html": [
              "\n",
              "  <div id=\"df-fca88aff-f171-4ff0-846b-35c9a7e8d536\">\n",
              "    <div class=\"colab-df-container\">\n",
              "      <div>\n",
              "<style scoped>\n",
              "    .dataframe tbody tr th:only-of-type {\n",
              "        vertical-align: middle;\n",
              "    }\n",
              "\n",
              "    .dataframe tbody tr th {\n",
              "        vertical-align: top;\n",
              "    }\n",
              "\n",
              "    .dataframe thead th {\n",
              "        text-align: right;\n",
              "    }\n",
              "</style>\n",
              "<table border=\"1\" class=\"dataframe\">\n",
              "  <thead>\n",
              "    <tr style=\"text-align: right;\">\n",
              "      <th></th>\n",
              "      <th>variables</th>\n",
              "      <th>VIF</th>\n",
              "    </tr>\n",
              "  </thead>\n",
              "  <tbody>\n",
              "    <tr>\n",
              "      <th>4</th>\n",
              "      <td>ConvexArea</td>\n",
              "      <td>39012.960289</td>\n",
              "    </tr>\n",
              "    <tr>\n",
              "      <th>0</th>\n",
              "      <td>Area</td>\n",
              "      <td>38076.227025</td>\n",
              "    </tr>\n",
              "    <tr>\n",
              "      <th>6</th>\n",
              "      <td>Perimeter</td>\n",
              "      <td>25878.829460</td>\n",
              "    </tr>\n",
              "    <tr>\n",
              "      <th>1</th>\n",
              "      <td>MajorAxisLength</td>\n",
              "      <td>17391.601633</td>\n",
              "    </tr>\n",
              "    <tr>\n",
              "      <th>2</th>\n",
              "      <td>MinorAxisLength</td>\n",
              "      <td>14889.276930</td>\n",
              "    </tr>\n",
              "    <tr>\n",
              "      <th>3</th>\n",
              "      <td>Eccentricity</td>\n",
              "      <td>9682.081349</td>\n",
              "    </tr>\n",
              "    <tr>\n",
              "      <th>7</th>\n",
              "      <td>Roundness</td>\n",
              "      <td>8439.243594</td>\n",
              "    </tr>\n",
              "    <tr>\n",
              "      <th>8</th>\n",
              "      <td>AspectRation</td>\n",
              "      <td>2248.536015</td>\n",
              "    </tr>\n",
              "    <tr>\n",
              "      <th>5</th>\n",
              "      <td>Extent</td>\n",
              "      <td>41.538436</td>\n",
              "    </tr>\n",
              "  </tbody>\n",
              "</table>\n",
              "</div>\n",
              "      <button class=\"colab-df-convert\" onclick=\"convertToInteractive('df-fca88aff-f171-4ff0-846b-35c9a7e8d536')\"\n",
              "              title=\"Convert this dataframe to an interactive table.\"\n",
              "              style=\"display:none;\">\n",
              "        \n",
              "  <svg xmlns=\"http://www.w3.org/2000/svg\" height=\"24px\"viewBox=\"0 0 24 24\"\n",
              "       width=\"24px\">\n",
              "    <path d=\"M0 0h24v24H0V0z\" fill=\"none\"/>\n",
              "    <path d=\"M18.56 5.44l.94 2.06.94-2.06 2.06-.94-2.06-.94-.94-2.06-.94 2.06-2.06.94zm-11 1L8.5 8.5l.94-2.06 2.06-.94-2.06-.94L8.5 2.5l-.94 2.06-2.06.94zm10 10l.94 2.06.94-2.06 2.06-.94-2.06-.94-.94-2.06-.94 2.06-2.06.94z\"/><path d=\"M17.41 7.96l-1.37-1.37c-.4-.4-.92-.59-1.43-.59-.52 0-1.04.2-1.43.59L10.3 9.45l-7.72 7.72c-.78.78-.78 2.05 0 2.83L4 21.41c.39.39.9.59 1.41.59.51 0 1.02-.2 1.41-.59l7.78-7.78 2.81-2.81c.8-.78.8-2.07 0-2.86zM5.41 20L4 18.59l7.72-7.72 1.47 1.35L5.41 20z\"/>\n",
              "  </svg>\n",
              "      </button>\n",
              "      \n",
              "  <style>\n",
              "    .colab-df-container {\n",
              "      display:flex;\n",
              "      flex-wrap:wrap;\n",
              "      gap: 12px;\n",
              "    }\n",
              "\n",
              "    .colab-df-convert {\n",
              "      background-color: #E8F0FE;\n",
              "      border: none;\n",
              "      border-radius: 50%;\n",
              "      cursor: pointer;\n",
              "      display: none;\n",
              "      fill: #1967D2;\n",
              "      height: 32px;\n",
              "      padding: 0 0 0 0;\n",
              "      width: 32px;\n",
              "    }\n",
              "\n",
              "    .colab-df-convert:hover {\n",
              "      background-color: #E2EBFA;\n",
              "      box-shadow: 0px 1px 2px rgba(60, 64, 67, 0.3), 0px 1px 3px 1px rgba(60, 64, 67, 0.15);\n",
              "      fill: #174EA6;\n",
              "    }\n",
              "\n",
              "    [theme=dark] .colab-df-convert {\n",
              "      background-color: #3B4455;\n",
              "      fill: #D2E3FC;\n",
              "    }\n",
              "\n",
              "    [theme=dark] .colab-df-convert:hover {\n",
              "      background-color: #434B5C;\n",
              "      box-shadow: 0px 1px 3px 1px rgba(0, 0, 0, 0.15);\n",
              "      filter: drop-shadow(0px 1px 2px rgba(0, 0, 0, 0.3));\n",
              "      fill: #FFFFFF;\n",
              "    }\n",
              "  </style>\n",
              "\n",
              "      <script>\n",
              "        const buttonEl =\n",
              "          document.querySelector('#df-fca88aff-f171-4ff0-846b-35c9a7e8d536 button.colab-df-convert');\n",
              "        buttonEl.style.display =\n",
              "          google.colab.kernel.accessAllowed ? 'block' : 'none';\n",
              "\n",
              "        async function convertToInteractive(key) {\n",
              "          const element = document.querySelector('#df-fca88aff-f171-4ff0-846b-35c9a7e8d536');\n",
              "          const dataTable =\n",
              "            await google.colab.kernel.invokeFunction('convertToInteractive',\n",
              "                                                     [key], {});\n",
              "          if (!dataTable) return;\n",
              "\n",
              "          const docLinkHtml = 'Like what you see? Visit the ' +\n",
              "            '<a target=\"_blank\" href=https://colab.research.google.com/notebooks/data_table.ipynb>data table notebook</a>'\n",
              "            + ' to learn more about interactive tables.';\n",
              "          element.innerHTML = '';\n",
              "          dataTable['output_type'] = 'display_data';\n",
              "          await google.colab.output.renderOutput(dataTable, element);\n",
              "          const docLink = document.createElement('div');\n",
              "          docLink.innerHTML = docLinkHtml;\n",
              "          element.appendChild(docLink);\n",
              "        }\n",
              "      </script>\n",
              "    </div>\n",
              "  </div>\n",
              "  "
            ],
            "text/plain": [
              "         variables           VIF\n",
              "4       ConvexArea  39012.960289\n",
              "0             Area  38076.227025\n",
              "6        Perimeter  25878.829460\n",
              "1  MajorAxisLength  17391.601633\n",
              "2  MinorAxisLength  14889.276930\n",
              "3     Eccentricity   9682.081349\n",
              "7        Roundness   8439.243594\n",
              "8     AspectRation   2248.536015\n",
              "5           Extent     41.538436"
            ]
          },
          "metadata": {},
          "execution_count": 18
        }
      ]
    },
    {
      "cell_type": "code",
      "source": [
        "X = X.drop('ConvexArea',axis = 1)\n",
        "calc_vif(X).sort_values(by = 'VIF', ascending=False)"
      ],
      "metadata": {
        "colab": {
          "base_uri": "https://localhost:8080/",
          "height": 300
        },
        "id": "SY0dE-A2aq4v",
        "outputId": "2a9d8cc9-4ce0-43b3-ac09-190d45c647c5"
      },
      "execution_count": 19,
      "outputs": [
        {
          "output_type": "execute_result",
          "data": {
            "text/html": [
              "\n",
              "  <div id=\"df-a0dabc26-1a23-4808-b28f-16d37dd49c28\">\n",
              "    <div class=\"colab-df-container\">\n",
              "      <div>\n",
              "<style scoped>\n",
              "    .dataframe tbody tr th:only-of-type {\n",
              "        vertical-align: middle;\n",
              "    }\n",
              "\n",
              "    .dataframe tbody tr th {\n",
              "        vertical-align: top;\n",
              "    }\n",
              "\n",
              "    .dataframe thead th {\n",
              "        text-align: right;\n",
              "    }\n",
              "</style>\n",
              "<table border=\"1\" class=\"dataframe\">\n",
              "  <thead>\n",
              "    <tr style=\"text-align: right;\">\n",
              "      <th></th>\n",
              "      <th>variables</th>\n",
              "      <th>VIF</th>\n",
              "    </tr>\n",
              "  </thead>\n",
              "  <tbody>\n",
              "    <tr>\n",
              "      <th>5</th>\n",
              "      <td>Perimeter</td>\n",
              "      <td>25853.940945</td>\n",
              "    </tr>\n",
              "    <tr>\n",
              "      <th>1</th>\n",
              "      <td>MajorAxisLength</td>\n",
              "      <td>17350.099272</td>\n",
              "    </tr>\n",
              "    <tr>\n",
              "      <th>2</th>\n",
              "      <td>MinorAxisLength</td>\n",
              "      <td>13795.383639</td>\n",
              "    </tr>\n",
              "    <tr>\n",
              "      <th>3</th>\n",
              "      <td>Eccentricity</td>\n",
              "      <td>8808.972116</td>\n",
              "    </tr>\n",
              "    <tr>\n",
              "      <th>6</th>\n",
              "      <td>Roundness</td>\n",
              "      <td>7161.376136</td>\n",
              "    </tr>\n",
              "    <tr>\n",
              "      <th>0</th>\n",
              "      <td>Area</td>\n",
              "      <td>3470.522790</td>\n",
              "    </tr>\n",
              "    <tr>\n",
              "      <th>7</th>\n",
              "      <td>AspectRation</td>\n",
              "      <td>2232.048952</td>\n",
              "    </tr>\n",
              "    <tr>\n",
              "      <th>4</th>\n",
              "      <td>Extent</td>\n",
              "      <td>41.526091</td>\n",
              "    </tr>\n",
              "  </tbody>\n",
              "</table>\n",
              "</div>\n",
              "      <button class=\"colab-df-convert\" onclick=\"convertToInteractive('df-a0dabc26-1a23-4808-b28f-16d37dd49c28')\"\n",
              "              title=\"Convert this dataframe to an interactive table.\"\n",
              "              style=\"display:none;\">\n",
              "        \n",
              "  <svg xmlns=\"http://www.w3.org/2000/svg\" height=\"24px\"viewBox=\"0 0 24 24\"\n",
              "       width=\"24px\">\n",
              "    <path d=\"M0 0h24v24H0V0z\" fill=\"none\"/>\n",
              "    <path d=\"M18.56 5.44l.94 2.06.94-2.06 2.06-.94-2.06-.94-.94-2.06-.94 2.06-2.06.94zm-11 1L8.5 8.5l.94-2.06 2.06-.94-2.06-.94L8.5 2.5l-.94 2.06-2.06.94zm10 10l.94 2.06.94-2.06 2.06-.94-2.06-.94-.94-2.06-.94 2.06-2.06.94z\"/><path d=\"M17.41 7.96l-1.37-1.37c-.4-.4-.92-.59-1.43-.59-.52 0-1.04.2-1.43.59L10.3 9.45l-7.72 7.72c-.78.78-.78 2.05 0 2.83L4 21.41c.39.39.9.59 1.41.59.51 0 1.02-.2 1.41-.59l7.78-7.78 2.81-2.81c.8-.78.8-2.07 0-2.86zM5.41 20L4 18.59l7.72-7.72 1.47 1.35L5.41 20z\"/>\n",
              "  </svg>\n",
              "      </button>\n",
              "      \n",
              "  <style>\n",
              "    .colab-df-container {\n",
              "      display:flex;\n",
              "      flex-wrap:wrap;\n",
              "      gap: 12px;\n",
              "    }\n",
              "\n",
              "    .colab-df-convert {\n",
              "      background-color: #E8F0FE;\n",
              "      border: none;\n",
              "      border-radius: 50%;\n",
              "      cursor: pointer;\n",
              "      display: none;\n",
              "      fill: #1967D2;\n",
              "      height: 32px;\n",
              "      padding: 0 0 0 0;\n",
              "      width: 32px;\n",
              "    }\n",
              "\n",
              "    .colab-df-convert:hover {\n",
              "      background-color: #E2EBFA;\n",
              "      box-shadow: 0px 1px 2px rgba(60, 64, 67, 0.3), 0px 1px 3px 1px rgba(60, 64, 67, 0.15);\n",
              "      fill: #174EA6;\n",
              "    }\n",
              "\n",
              "    [theme=dark] .colab-df-convert {\n",
              "      background-color: #3B4455;\n",
              "      fill: #D2E3FC;\n",
              "    }\n",
              "\n",
              "    [theme=dark] .colab-df-convert:hover {\n",
              "      background-color: #434B5C;\n",
              "      box-shadow: 0px 1px 3px 1px rgba(0, 0, 0, 0.15);\n",
              "      filter: drop-shadow(0px 1px 2px rgba(0, 0, 0, 0.3));\n",
              "      fill: #FFFFFF;\n",
              "    }\n",
              "  </style>\n",
              "\n",
              "      <script>\n",
              "        const buttonEl =\n",
              "          document.querySelector('#df-a0dabc26-1a23-4808-b28f-16d37dd49c28 button.colab-df-convert');\n",
              "        buttonEl.style.display =\n",
              "          google.colab.kernel.accessAllowed ? 'block' : 'none';\n",
              "\n",
              "        async function convertToInteractive(key) {\n",
              "          const element = document.querySelector('#df-a0dabc26-1a23-4808-b28f-16d37dd49c28');\n",
              "          const dataTable =\n",
              "            await google.colab.kernel.invokeFunction('convertToInteractive',\n",
              "                                                     [key], {});\n",
              "          if (!dataTable) return;\n",
              "\n",
              "          const docLinkHtml = 'Like what you see? Visit the ' +\n",
              "            '<a target=\"_blank\" href=https://colab.research.google.com/notebooks/data_table.ipynb>data table notebook</a>'\n",
              "            + ' to learn more about interactive tables.';\n",
              "          element.innerHTML = '';\n",
              "          dataTable['output_type'] = 'display_data';\n",
              "          await google.colab.output.renderOutput(dataTable, element);\n",
              "          const docLink = document.createElement('div');\n",
              "          docLink.innerHTML = docLinkHtml;\n",
              "          element.appendChild(docLink);\n",
              "        }\n",
              "      </script>\n",
              "    </div>\n",
              "  </div>\n",
              "  "
            ],
            "text/plain": [
              "         variables           VIF\n",
              "5        Perimeter  25853.940945\n",
              "1  MajorAxisLength  17350.099272\n",
              "2  MinorAxisLength  13795.383639\n",
              "3     Eccentricity   8808.972116\n",
              "6        Roundness   7161.376136\n",
              "0             Area   3470.522790\n",
              "7     AspectRation   2232.048952\n",
              "4           Extent     41.526091"
            ]
          },
          "metadata": {},
          "execution_count": 19
        }
      ]
    },
    {
      "cell_type": "markdown",
      "source": [
        "Checking for multicollinearity using heatmap."
      ],
      "metadata": {
        "id": "TLPcXTeMftfm"
      }
    },
    {
      "cell_type": "code",
      "source": [
        "sns.heatmap(X.corr(), linewidths=1,annot=True)"
      ],
      "metadata": {
        "colab": {
          "base_uri": "https://localhost:8080/",
          "height": 588
        },
        "id": "ZDUjnwoFbqb4",
        "outputId": "33c739f0-0de8-4f7e-a68f-973398e52a26"
      },
      "execution_count": 20,
      "outputs": [
        {
          "output_type": "execute_result",
          "data": {
            "text/plain": [
              "<matplotlib.axes._subplots.AxesSubplot at 0x7f8f1d063bd0>"
            ]
          },
          "metadata": {},
          "execution_count": 20
        },
        {
          "output_type": "display_data",
          "data": {
            "image/png": "[encoded data removed]",
            "text/plain": [
              "<Figure size 1080x576 with 2 Axes>"
            ]
          },
          "metadata": {}
        }
      ]
    },
    {
      "cell_type": "code",
      "source": [
        "X = X.drop('Perimeter',axis = 1)\n",
        "calc_vif(X).sort_values(by = 'VIF', ascending=False)"
      ],
      "metadata": {
        "colab": {
          "base_uri": "https://localhost:8080/",
          "height": 269
        },
        "id": "ahfkQ37tb2RA",
        "outputId": "5e86a558-8287-4c72-da94-8338dbef47bf"
      },
      "execution_count": 21,
      "outputs": [
        {
          "output_type": "execute_result",
          "data": {
            "text/html": [
              "\n",
              "  <div id=\"df-5d156060-75c7-43fb-9546-1e5283ccc80f\">\n",
              "    <div class=\"colab-df-container\">\n",
              "      <div>\n",
              "<style scoped>\n",
              "    .dataframe tbody tr th:only-of-type {\n",
              "        vertical-align: middle;\n",
              "    }\n",
              "\n",
              "    .dataframe tbody tr th {\n",
              "        vertical-align: top;\n",
              "    }\n",
              "\n",
              "    .dataframe thead th {\n",
              "        text-align: right;\n",
              "    }\n",
              "</style>\n",
              "<table border=\"1\" class=\"dataframe\">\n",
              "  <thead>\n",
              "    <tr style=\"text-align: right;\">\n",
              "      <th></th>\n",
              "      <th>variables</th>\n",
              "      <th>VIF</th>\n",
              "    </tr>\n",
              "  </thead>\n",
              "  <tbody>\n",
              "    <tr>\n",
              "      <th>1</th>\n",
              "      <td>MajorAxisLength</td>\n",
              "      <td>8433.104359</td>\n",
              "    </tr>\n",
              "    <tr>\n",
              "      <th>3</th>\n",
              "      <td>Eccentricity</td>\n",
              "      <td>4140.574175</td>\n",
              "    </tr>\n",
              "    <tr>\n",
              "      <th>0</th>\n",
              "      <td>Area</td>\n",
              "      <td>3034.265972</td>\n",
              "    </tr>\n",
              "    <tr>\n",
              "      <th>2</th>\n",
              "      <td>MinorAxisLength</td>\n",
              "      <td>2524.728084</td>\n",
              "    </tr>\n",
              "    <tr>\n",
              "      <th>6</th>\n",
              "      <td>AspectRation</td>\n",
              "      <td>2146.244565</td>\n",
              "    </tr>\n",
              "    <tr>\n",
              "      <th>5</th>\n",
              "      <td>Roundness</td>\n",
              "      <td>1105.281603</td>\n",
              "    </tr>\n",
              "    <tr>\n",
              "      <th>4</th>\n",
              "      <td>Extent</td>\n",
              "      <td>41.491321</td>\n",
              "    </tr>\n",
              "  </tbody>\n",
              "</table>\n",
              "</div>\n",
              "      <button class=\"colab-df-convert\" onclick=\"convertToInteractive('df-5d156060-75c7-43fb-9546-1e5283ccc80f')\"\n",
              "              title=\"Convert this dataframe to an interactive table.\"\n",
              "              style=\"display:none;\">\n",
              "        \n",
              "  <svg xmlns=\"http://www.w3.org/2000/svg\" height=\"24px\"viewBox=\"0 0 24 24\"\n",
              "       width=\"24px\">\n",
              "    <path d=\"M0 0h24v24H0V0z\" fill=\"none\"/>\n",
              "    <path d=\"M18.56 5.44l.94 2.06.94-2.06 2.06-.94-2.06-.94-.94-2.06-.94 2.06-2.06.94zm-11 1L8.5 8.5l.94-2.06 2.06-.94-2.06-.94L8.5 2.5l-.94 2.06-2.06.94zm10 10l.94 2.06.94-2.06 2.06-.94-2.06-.94-.94-2.06-.94 2.06-2.06.94z\"/><path d=\"M17.41 7.96l-1.37-1.37c-.4-.4-.92-.59-1.43-.59-.52 0-1.04.2-1.43.59L10.3 9.45l-7.72 7.72c-.78.78-.78 2.05 0 2.83L4 21.41c.39.39.9.59 1.41.59.51 0 1.02-.2 1.41-.59l7.78-7.78 2.81-2.81c.8-.78.8-2.07 0-2.86zM5.41 20L4 18.59l7.72-7.72 1.47 1.35L5.41 20z\"/>\n",
              "  </svg>\n",
              "      </button>\n",
              "      \n",
              "  <style>\n",
              "    .colab-df-container {\n",
              "      display:flex;\n",
              "      flex-wrap:wrap;\n",
              "      gap: 12px;\n",
              "    }\n",
              "\n",
              "    .colab-df-convert {\n",
              "      background-color: #E8F0FE;\n",
              "      border: none;\n",
              "      border-radius: 50%;\n",
              "      cursor: pointer;\n",
              "      display: none;\n",
              "      fill: #1967D2;\n",
              "      height: 32px;\n",
              "      padding: 0 0 0 0;\n",
              "      width: 32px;\n",
              "    }\n",
              "\n",
              "    .colab-df-convert:hover {\n",
              "      background-color: #E2EBFA;\n",
              "      box-shadow: 0px 1px 2px rgba(60, 64, 67, 0.3), 0px 1px 3px 1px rgba(60, 64, 67, 0.15);\n",
              "      fill: #174EA6;\n",
              "    }\n",
              "\n",
              "    [theme=dark] .colab-df-convert {\n",
              "      background-color: #3B4455;\n",
              "      fill: #D2E3FC;\n",
              "    }\n",
              "\n",
              "    [theme=dark] .colab-df-convert:hover {\n",
              "      background-color: #434B5C;\n",
              "      box-shadow: 0px 1px 3px 1px rgba(0, 0, 0, 0.15);\n",
              "      filter: drop-shadow(0px 1px 2px rgba(0, 0, 0, 0.3));\n",
              "      fill: #FFFFFF;\n",
              "    }\n",
              "  </style>\n",
              "\n",
              "      <script>\n",
              "        const buttonEl =\n",
              "          document.querySelector('#df-5d156060-75c7-43fb-9546-1e5283ccc80f button.colab-df-convert');\n",
              "        buttonEl.style.display =\n",
              "          google.colab.kernel.accessAllowed ? 'block' : 'none';\n",
              "\n",
              "        async function convertToInteractive(key) {\n",
              "          const element = document.querySelector('#df-5d156060-75c7-43fb-9546-1e5283ccc80f');\n",
              "          const dataTable =\n",
              "            await google.colab.kernel.invokeFunction('convertToInteractive',\n",
              "                                                     [key], {});\n",
              "          if (!dataTable) return;\n",
              "\n",
              "          const docLinkHtml = 'Like what you see? Visit the ' +\n",
              "            '<a target=\"_blank\" href=https://colab.research.google.com/notebooks/data_table.ipynb>data table notebook</a>'\n",
              "            + ' to learn more about interactive tables.';\n",
              "          element.innerHTML = '';\n",
              "          dataTable['output_type'] = 'display_data';\n",
              "          await google.colab.output.renderOutput(dataTable, element);\n",
              "          const docLink = document.createElement('div');\n",
              "          docLink.innerHTML = docLinkHtml;\n",
              "          element.appendChild(docLink);\n",
              "        }\n",
              "      </script>\n",
              "    </div>\n",
              "  </div>\n",
              "  "
            ],
            "text/plain": [
              "         variables          VIF\n",
              "1  MajorAxisLength  8433.104359\n",
              "3     Eccentricity  4140.574175\n",
              "0             Area  3034.265972\n",
              "2  MinorAxisLength  2524.728084\n",
              "6     AspectRation  2146.244565\n",
              "5        Roundness  1105.281603\n",
              "4           Extent    41.491321"
            ]
          },
          "metadata": {},
          "execution_count": 21
        }
      ]
    },
    {
      "cell_type": "code",
      "source": [
        "X = X.drop('MajorAxisLength',axis = 1)\n",
        "calc_vif(X).sort_values(by = 'VIF', ascending=False)"
      ],
      "metadata": {
        "colab": {
          "base_uri": "https://localhost:8080/",
          "height": 238
        },
        "id": "PV8X4xaNcA2W",
        "outputId": "0cbae230-7f93-4c28-e3c9-f9145c53a8dc"
      },
      "execution_count": 22,
      "outputs": [
        {
          "output_type": "execute_result",
          "data": {
            "text/html": [
              "\n",
              "  <div id=\"df-5891094b-73ca-43e3-8980-b83e645185ea\">\n",
              "    <div class=\"colab-df-container\">\n",
              "      <div>\n",
              "<style scoped>\n",
              "    .dataframe tbody tr th:only-of-type {\n",
              "        vertical-align: middle;\n",
              "    }\n",
              "\n",
              "    .dataframe tbody tr th {\n",
              "        vertical-align: top;\n",
              "    }\n",
              "\n",
              "    .dataframe thead th {\n",
              "        text-align: right;\n",
              "    }\n",
              "</style>\n",
              "<table border=\"1\" class=\"dataframe\">\n",
              "  <thead>\n",
              "    <tr style=\"text-align: right;\">\n",
              "      <th></th>\n",
              "      <th>variables</th>\n",
              "      <th>VIF</th>\n",
              "    </tr>\n",
              "  </thead>\n",
              "  <tbody>\n",
              "    <tr>\n",
              "      <th>2</th>\n",
              "      <td>Eccentricity</td>\n",
              "      <td>3474.789067</td>\n",
              "    </tr>\n",
              "    <tr>\n",
              "      <th>1</th>\n",
              "      <td>MinorAxisLength</td>\n",
              "      <td>2485.240821</td>\n",
              "    </tr>\n",
              "    <tr>\n",
              "      <th>4</th>\n",
              "      <td>Roundness</td>\n",
              "      <td>1042.034861</td>\n",
              "    </tr>\n",
              "    <tr>\n",
              "      <th>5</th>\n",
              "      <td>AspectRation</td>\n",
              "      <td>1039.737426</td>\n",
              "    </tr>\n",
              "    <tr>\n",
              "      <th>0</th>\n",
              "      <td>Area</td>\n",
              "      <td>721.529624</td>\n",
              "    </tr>\n",
              "    <tr>\n",
              "      <th>3</th>\n",
              "      <td>Extent</td>\n",
              "      <td>41.490184</td>\n",
              "    </tr>\n",
              "  </tbody>\n",
              "</table>\n",
              "</div>\n",
              "      <button class=\"colab-df-convert\" onclick=\"convertToInteractive('df-5891094b-73ca-43e3-8980-b83e645185ea')\"\n",
              "              title=\"Convert this dataframe to an interactive table.\"\n",
              "              style=\"display:none;\">\n",
              "        \n",
              "  <svg xmlns=\"http://www.w3.org/2000/svg\" height=\"24px\"viewBox=\"0 0 24 24\"\n",
              "       width=\"24px\">\n",
              "    <path d=\"M0 0h24v24H0V0z\" fill=\"none\"/>\n",
              "    <path d=\"M18.56 5.44l.94 2.06.94-2.06 2.06-.94-2.06-.94-.94-2.06-.94 2.06-2.06.94zm-11 1L8.5 8.5l.94-2.06 2.06-.94-2.06-.94L8.5 2.5l-.94 2.06-2.06.94zm10 10l.94 2.06.94-2.06 2.06-.94-2.06-.94-.94-2.06-.94 2.06-2.06.94z\"/><path d=\"M17.41 7.96l-1.37-1.37c-.4-.4-.92-.59-1.43-.59-.52 0-1.04.2-1.43.59L10.3 9.45l-7.72 7.72c-.78.78-.78 2.05 0 2.83L4 21.41c.39.39.9.59 1.41.59.51 0 1.02-.2 1.41-.59l7.78-7.78 2.81-2.81c.8-.78.8-2.07 0-2.86zM5.41 20L4 18.59l7.72-7.72 1.47 1.35L5.41 20z\"/>\n",
              "  </svg>\n",
              "      </button>\n",
              "      \n",
              "  <style>\n",
              "    .colab-df-container {\n",
              "      display:flex;\n",
              "      flex-wrap:wrap;\n",
              "      gap: 12px;\n",
              "    }\n",
              "\n",
              "    .colab-df-convert {\n",
              "      background-color: #E8F0FE;\n",
              "      border: none;\n",
              "      border-radius: 50%;\n",
              "      cursor: pointer;\n",
              "      display: none;\n",
              "      fill: #1967D2;\n",
              "      height: 32px;\n",
              "      padding: 0 0 0 0;\n",
              "      width: 32px;\n",
              "    }\n",
              "\n",
              "    .colab-df-convert:hover {\n",
              "      background-color: #E2EBFA;\n",
              "      box-shadow: 0px 1px 2px rgba(60, 64, 67, 0.3), 0px 1px 3px 1px rgba(60, 64, 67, 0.15);\n",
              "      fill: #174EA6;\n",
              "    }\n",
              "\n",
              "    [theme=dark] .colab-df-convert {\n",
              "      background-color: #3B4455;\n",
              "      fill: #D2E3FC;\n",
              "    }\n",
              "\n",
              "    [theme=dark] .colab-df-convert:hover {\n",
              "      background-color: #434B5C;\n",
              "      box-shadow: 0px 1px 3px 1px rgba(0, 0, 0, 0.15);\n",
              "      filter: drop-shadow(0px 1px 2px rgba(0, 0, 0, 0.3));\n",
              "      fill: #FFFFFF;\n",
              "    }\n",
              "  </style>\n",
              "\n",
              "      <script>\n",
              "        const buttonEl =\n",
              "          document.querySelector('#df-5891094b-73ca-43e3-8980-b83e645185ea button.colab-df-convert');\n",
              "        buttonEl.style.display =\n",
              "          google.colab.kernel.accessAllowed ? 'block' : 'none';\n",
              "\n",
              "        async function convertToInteractive(key) {\n",
              "          const element = document.querySelector('#df-5891094b-73ca-43e3-8980-b83e645185ea');\n",
              "          const dataTable =\n",
              "            await google.colab.kernel.invokeFunction('convertToInteractive',\n",
              "                                                     [key], {});\n",
              "          if (!dataTable) return;\n",
              "\n",
              "          const docLinkHtml = 'Like what you see? Visit the ' +\n",
              "            '<a target=\"_blank\" href=https://colab.research.google.com/notebooks/data_table.ipynb>data table notebook</a>'\n",
              "            + ' to learn more about interactive tables.';\n",
              "          element.innerHTML = '';\n",
              "          dataTable['output_type'] = 'display_data';\n",
              "          await google.colab.output.renderOutput(dataTable, element);\n",
              "          const docLink = document.createElement('div');\n",
              "          docLink.innerHTML = docLinkHtml;\n",
              "          element.appendChild(docLink);\n",
              "        }\n",
              "      </script>\n",
              "    </div>\n",
              "  </div>\n",
              "  "
            ],
            "text/plain": [
              "         variables          VIF\n",
              "2     Eccentricity  3474.789067\n",
              "1  MinorAxisLength  2485.240821\n",
              "4        Roundness  1042.034861\n",
              "5     AspectRation  1039.737426\n",
              "0             Area   721.529624\n",
              "3           Extent    41.490184"
            ]
          },
          "metadata": {},
          "execution_count": 22
        }
      ]
    },
    {
      "cell_type": "code",
      "source": [
        "X = X.drop('Eccentricity',axis = 1)\n",
        "calc_vif(X).sort_values(by = 'VIF', ascending=False)"
      ],
      "metadata": {
        "colab": {
          "base_uri": "https://localhost:8080/",
          "height": 206
        },
        "id": "r6mmFvvAcdZz",
        "outputId": "09573c05-bdb0-4504-ee13-4c15a9caa096"
      },
      "execution_count": 23,
      "outputs": [
        {
          "output_type": "execute_result",
          "data": {
            "text/html": [
              "\n",
              "  <div id=\"df-edec68c4-44b2-471a-a9cb-2dedf6e084f2\">\n",
              "    <div class=\"colab-df-container\">\n",
              "      <div>\n",
              "<style scoped>\n",
              "    .dataframe tbody tr th:only-of-type {\n",
              "        vertical-align: middle;\n",
              "    }\n",
              "\n",
              "    .dataframe tbody tr th {\n",
              "        vertical-align: top;\n",
              "    }\n",
              "\n",
              "    .dataframe thead th {\n",
              "        text-align: right;\n",
              "    }\n",
              "</style>\n",
              "<table border=\"1\" class=\"dataframe\">\n",
              "  <thead>\n",
              "    <tr style=\"text-align: right;\">\n",
              "      <th></th>\n",
              "      <th>variables</th>\n",
              "      <th>VIF</th>\n",
              "    </tr>\n",
              "  </thead>\n",
              "  <tbody>\n",
              "    <tr>\n",
              "      <th>1</th>\n",
              "      <td>MinorAxisLength</td>\n",
              "      <td>2013.072678</td>\n",
              "    </tr>\n",
              "    <tr>\n",
              "      <th>3</th>\n",
              "      <td>Roundness</td>\n",
              "      <td>775.212038</td>\n",
              "    </tr>\n",
              "    <tr>\n",
              "      <th>0</th>\n",
              "      <td>Area</td>\n",
              "      <td>614.600436</td>\n",
              "    </tr>\n",
              "    <tr>\n",
              "      <th>4</th>\n",
              "      <td>AspectRation</td>\n",
              "      <td>47.059175</td>\n",
              "    </tr>\n",
              "    <tr>\n",
              "      <th>2</th>\n",
              "      <td>Extent</td>\n",
              "      <td>41.419426</td>\n",
              "    </tr>\n",
              "  </tbody>\n",
              "</table>\n",
              "</div>\n",
              "      <button class=\"colab-df-convert\" onclick=\"convertToInteractive('df-edec68c4-44b2-471a-a9cb-2dedf6e084f2')\"\n",
              "              title=\"Convert this dataframe to an interactive table.\"\n",
              "              style=\"display:none;\">\n",
              "        \n",
              "  <svg xmlns=\"http://www.w3.org/2000/svg\" height=\"24px\"viewBox=\"0 0 24 24\"\n",
              "       width=\"24px\">\n",
              "    <path d=\"M0 0h24v24H0V0z\" fill=\"none\"/>\n",
              "    <path d=\"M18.56 5.44l.94 2.06.94-2.06 2.06-.94-2.06-.94-.94-2.06-.94 2.06-2.06.94zm-11 1L8.5 8.5l.94-2.06 2.06-.94-2.06-.94L8.5 2.5l-.94 2.06-2.06.94zm10 10l.94 2.06.94-2.06 2.06-.94-2.06-.94-.94-2.06-.94 2.06-2.06.94z\"/><path d=\"M17.41 7.96l-1.37-1.37c-.4-.4-.92-.59-1.43-.59-.52 0-1.04.2-1.43.59L10.3 9.45l-7.72 7.72c-.78.78-.78 2.05 0 2.83L4 21.41c.39.39.9.59 1.41.59.51 0 1.02-.2 1.41-.59l7.78-7.78 2.81-2.81c.8-.78.8-2.07 0-2.86zM5.41 20L4 18.59l7.72-7.72 1.47 1.35L5.41 20z\"/>\n",
              "  </svg>\n",
              "      </button>\n",
              "      \n",
              "  <style>\n",
              "    .colab-df-container {\n",
              "      display:flex;\n",
              "      flex-wrap:wrap;\n",
              "      gap: 12px;\n",
              "    }\n",
              "\n",
              "    .colab-df-convert {\n",
              "      background-color: #E8F0FE;\n",
              "      border: none;\n",
              "      border-radius: 50%;\n",
              "      cursor: pointer;\n",
              "      display: none;\n",
              "      fill: #1967D2;\n",
              "      height: 32px;\n",
              "      padding: 0 0 0 0;\n",
              "      width: 32px;\n",
              "    }\n",
              "\n",
              "    .colab-df-convert:hover {\n",
              "      background-color: #E2EBFA;\n",
              "      box-shadow: 0px 1px 2px rgba(60, 64, 67, 0.3), 0px 1px 3px 1px rgba(60, 64, 67, 0.15);\n",
              "      fill: #174EA6;\n",
              "    }\n",
              "\n",
              "    [theme=dark] .colab-df-convert {\n",
              "      background-color: #3B4455;\n",
              "      fill: #D2E3FC;\n",
              "    }\n",
              "\n",
              "    [theme=dark] .colab-df-convert:hover {\n",
              "      background-color: #434B5C;\n",
              "      box-shadow: 0px 1px 3px 1px rgba(0, 0, 0, 0.15);\n",
              "      filter: drop-shadow(0px 1px 2px rgba(0, 0, 0, 0.3));\n",
              "      fill: #FFFFFF;\n",
              "    }\n",
              "  </style>\n",
              "\n",
              "      <script>\n",
              "        const buttonEl =\n",
              "          document.querySelector('#df-edec68c4-44b2-471a-a9cb-2dedf6e084f2 button.colab-df-convert');\n",
              "        buttonEl.style.display =\n",
              "          google.colab.kernel.accessAllowed ? 'block' : 'none';\n",
              "\n",
              "        async function convertToInteractive(key) {\n",
              "          const element = document.querySelector('#df-edec68c4-44b2-471a-a9cb-2dedf6e084f2');\n",
              "          const dataTable =\n",
              "            await google.colab.kernel.invokeFunction('convertToInteractive',\n",
              "                                                     [key], {});\n",
              "          if (!dataTable) return;\n",
              "\n",
              "          const docLinkHtml = 'Like what you see? Visit the ' +\n",
              "            '<a target=\"_blank\" href=https://colab.research.google.com/notebooks/data_table.ipynb>data table notebook</a>'\n",
              "            + ' to learn more about interactive tables.';\n",
              "          element.innerHTML = '';\n",
              "          dataTable['output_type'] = 'display_data';\n",
              "          await google.colab.output.renderOutput(dataTable, element);\n",
              "          const docLink = document.createElement('div');\n",
              "          docLink.innerHTML = docLinkHtml;\n",
              "          element.appendChild(docLink);\n",
              "        }\n",
              "      </script>\n",
              "    </div>\n",
              "  </div>\n",
              "  "
            ],
            "text/plain": [
              "         variables          VIF\n",
              "1  MinorAxisLength  2013.072678\n",
              "3        Roundness   775.212038\n",
              "0             Area   614.600436\n",
              "4     AspectRation    47.059175\n",
              "2           Extent    41.419426"
            ]
          },
          "metadata": {},
          "execution_count": 23
        }
      ]
    },
    {
      "cell_type": "code",
      "source": [
        "X = X.drop('MinorAxisLength',axis = 1)\n",
        "calc_vif(X).sort_values(by = 'VIF', ascending=False)"
      ],
      "metadata": {
        "colab": {
          "base_uri": "https://localhost:8080/",
          "height": 174
        },
        "id": "s4LaxwerdOZR",
        "outputId": "0f2954fc-fee5-4e06-ba14-7d899a133f6c"
      },
      "execution_count": 24,
      "outputs": [
        {
          "output_type": "execute_result",
          "data": {
            "text/html": [
              "\n",
              "  <div id=\"df-fc4cb993-d39d-4da8-9428-68ca815ddf5b\">\n",
              "    <div class=\"colab-df-container\">\n",
              "      <div>\n",
              "<style scoped>\n",
              "    .dataframe tbody tr th:only-of-type {\n",
              "        vertical-align: middle;\n",
              "    }\n",
              "\n",
              "    .dataframe tbody tr th {\n",
              "        vertical-align: top;\n",
              "    }\n",
              "\n",
              "    .dataframe thead th {\n",
              "        text-align: right;\n",
              "    }\n",
              "</style>\n",
              "<table border=\"1\" class=\"dataframe\">\n",
              "  <thead>\n",
              "    <tr style=\"text-align: right;\">\n",
              "      <th></th>\n",
              "      <th>variables</th>\n",
              "      <th>VIF</th>\n",
              "    </tr>\n",
              "  </thead>\n",
              "  <tbody>\n",
              "    <tr>\n",
              "      <th>2</th>\n",
              "      <td>Roundness</td>\n",
              "      <td>96.306182</td>\n",
              "    </tr>\n",
              "    <tr>\n",
              "      <th>1</th>\n",
              "      <td>Extent</td>\n",
              "      <td>41.365955</td>\n",
              "    </tr>\n",
              "    <tr>\n",
              "      <th>0</th>\n",
              "      <td>Area</td>\n",
              "      <td>39.468977</td>\n",
              "    </tr>\n",
              "    <tr>\n",
              "      <th>3</th>\n",
              "      <td>AspectRation</td>\n",
              "      <td>16.927149</td>\n",
              "    </tr>\n",
              "  </tbody>\n",
              "</table>\n",
              "</div>\n",
              "      <button class=\"colab-df-convert\" onclick=\"convertToInteractive('df-fc4cb993-d39d-4da8-9428-68ca815ddf5b')\"\n",
              "              title=\"Convert this dataframe to an interactive table.\"\n",
              "              style=\"display:none;\">\n",
              "        \n",
              "  <svg xmlns=\"http://www.w3.org/2000/svg\" height=\"24px\"viewBox=\"0 0 24 24\"\n",
              "       width=\"24px\">\n",
              "    <path d=\"M0 0h24v24H0V0z\" fill=\"none\"/>\n",
              "    <path d=\"M18.56 5.44l.94 2.06.94-2.06 2.06-.94-2.06-.94-.94-2.06-.94 2.06-2.06.94zm-11 1L8.5 8.5l.94-2.06 2.06-.94-2.06-.94L8.5 2.5l-.94 2.06-2.06.94zm10 10l.94 2.06.94-2.06 2.06-.94-2.06-.94-.94-2.06-.94 2.06-2.06.94z\"/><path d=\"M17.41 7.96l-1.37-1.37c-.4-.4-.92-.59-1.43-.59-.52 0-1.04.2-1.43.59L10.3 9.45l-7.72 7.72c-.78.78-.78 2.05 0 2.83L4 21.41c.39.39.9.59 1.41.59.51 0 1.02-.2 1.41-.59l7.78-7.78 2.81-2.81c.8-.78.8-2.07 0-2.86zM5.41 20L4 18.59l7.72-7.72 1.47 1.35L5.41 20z\"/>\n",
              "  </svg>\n",
              "      </button>\n",
              "      \n",
              "  <style>\n",
              "    .colab-df-container {\n",
              "      display:flex;\n",
              "      flex-wrap:wrap;\n",
              "      gap: 12px;\n",
              "    }\n",
              "\n",
              "    .colab-df-convert {\n",
              "      background-color: #E8F0FE;\n",
              "      border: none;\n",
              "      border-radius: 50%;\n",
              "      cursor: pointer;\n",
              "      display: none;\n",
              "      fill: #1967D2;\n",
              "      height: 32px;\n",
              "      padding: 0 0 0 0;\n",
              "      width: 32px;\n",
              "    }\n",
              "\n",
              "    .colab-df-convert:hover {\n",
              "      background-color: #E2EBFA;\n",
              "      box-shadow: 0px 1px 2px rgba(60, 64, 67, 0.3), 0px 1px 3px 1px rgba(60, 64, 67, 0.15);\n",
              "      fill: #174EA6;\n",
              "    }\n",
              "\n",
              "    [theme=dark] .colab-df-convert {\n",
              "      background-color: #3B4455;\n",
              "      fill: #D2E3FC;\n",
              "    }\n",
              "\n",
              "    [theme=dark] .colab-df-convert:hover {\n",
              "      background-color: #434B5C;\n",
              "      box-shadow: 0px 1px 3px 1px rgba(0, 0, 0, 0.15);\n",
              "      filter: drop-shadow(0px 1px 2px rgba(0, 0, 0, 0.3));\n",
              "      fill: #FFFFFF;\n",
              "    }\n",
              "  </style>\n",
              "\n",
              "      <script>\n",
              "        const buttonEl =\n",
              "          document.querySelector('#df-fc4cb993-d39d-4da8-9428-68ca815ddf5b button.colab-df-convert');\n",
              "        buttonEl.style.display =\n",
              "          google.colab.kernel.accessAllowed ? 'block' : 'none';\n",
              "\n",
              "        async function convertToInteractive(key) {\n",
              "          const element = document.querySelector('#df-fc4cb993-d39d-4da8-9428-68ca815ddf5b');\n",
              "          const dataTable =\n",
              "            await google.colab.kernel.invokeFunction('convertToInteractive',\n",
              "                                                     [key], {});\n",
              "          if (!dataTable) return;\n",
              "\n",
              "          const docLinkHtml = 'Like what you see? Visit the ' +\n",
              "            '<a target=\"_blank\" href=https://colab.research.google.com/notebooks/data_table.ipynb>data table notebook</a>'\n",
              "            + ' to learn more about interactive tables.';\n",
              "          element.innerHTML = '';\n",
              "          dataTable['output_type'] = 'display_data';\n",
              "          await google.colab.output.renderOutput(dataTable, element);\n",
              "          const docLink = document.createElement('div');\n",
              "          docLink.innerHTML = docLinkHtml;\n",
              "          element.appendChild(docLink);\n",
              "        }\n",
              "      </script>\n",
              "    </div>\n",
              "  </div>\n",
              "  "
            ],
            "text/plain": [
              "      variables        VIF\n",
              "2     Roundness  96.306182\n",
              "1        Extent  41.365955\n",
              "0          Area  39.468977\n",
              "3  AspectRation  16.927149"
            ]
          },
          "metadata": {},
          "execution_count": 24
        }
      ]
    },
    {
      "cell_type": "code",
      "source": [
        "sns.heatmap(X.corr(),linewidths=1,annot = True)"
      ],
      "metadata": {
        "colab": {
          "base_uri": "https://localhost:8080/",
          "height": 506
        },
        "id": "DXO9vrKDda3A",
        "outputId": "ee9c1971-dbd8-4334-e81f-b9b8e49b62a2"
      },
      "execution_count": 25,
      "outputs": [
        {
          "output_type": "execute_result",
          "data": {
            "text/plain": [
              "<matplotlib.axes._subplots.AxesSubplot at 0x7f8f1cf127d0>"
            ]
          },
          "metadata": {},
          "execution_count": 25
        },
        {
          "output_type": "display_data",
          "data": {
            "image/png": "[encoded data removed]",
            "text/plain": [
              "<Figure size 1080x576 with 2 Axes>"
            ]
          },
          "metadata": {}
        }
      ]
    },
    {
      "cell_type": "markdown",
      "source": [
        "The above plot shows most of the multicollinearity is removed.\n",
        "So now, we will make changes in the H2O dataframe accordingly."
      ],
      "metadata": {
        "id": "q0PtUhM2gXNX"
      }
    },
    {
      "cell_type": "code",
      "source": [
        "df1 = df1[['Area','Extent','Roundness','AspectRation','Class']]\n",
        "df = df[['Area','Extent','Roundness','AspectRation','Class']]\n",
        "df.head()"
      ],
      "metadata": {
        "colab": {
          "base_uri": "https://localhost:8080/",
          "height": 249
        },
        "id": "WahH0kskdnIR",
        "outputId": "c862cba8-980c-45e5-d78d-0b6f33b088fa"
      },
      "execution_count": 26,
      "outputs": [
        {
          "output_type": "display_data",
          "data": {
            "text/html": [
              "<table>\n",
              "<thead>\n",
              "<tr><th style=\"text-align: right;\">  Area</th><th style=\"text-align: right;\">  Extent</th><th style=\"text-align: right;\">  Roundness</th><th style=\"text-align: right;\">  AspectRation</th><th style=\"text-align: right;\">  Class</th></tr>\n",
              "</thead>\n",
              "<tbody>\n",
              "<tr><td style=\"text-align: right;\">  4537</td><td style=\"text-align: right;\">0.657536</td><td style=\"text-align: right;\">   0.76451 </td><td style=\"text-align: right;\">       1.4408 </td><td style=\"text-align: right;\">      1</td></tr>\n",
              "<tr><td style=\"text-align: right;\">  2872</td><td style=\"text-align: right;\">0.713009</td><td style=\"text-align: right;\">   0.831658</td><td style=\"text-align: right;\">       1.45314</td><td style=\"text-align: right;\">      1</td></tr>\n",
              "<tr><td style=\"text-align: right;\">  3048</td><td style=\"text-align: right;\">0.759153</td><td style=\"text-align: right;\">   0.868434</td><td style=\"text-align: right;\">       1.46595</td><td style=\"text-align: right;\">      1</td></tr>\n",
              "<tr><td style=\"text-align: right;\">  3073</td><td style=\"text-align: right;\">0.783529</td><td style=\"text-align: right;\">   0.870203</td><td style=\"text-align: right;\">       1.48346</td><td style=\"text-align: right;\">      1</td></tr>\n",
              "<tr><td style=\"text-align: right;\">  3693</td><td style=\"text-align: right;\">0.769375</td><td style=\"text-align: right;\">   0.874743</td><td style=\"text-align: right;\">       1.51   </td><td style=\"text-align: right;\">      1</td></tr>\n",
              "<tr><td style=\"text-align: right;\">  2990</td><td style=\"text-align: right;\">0.584898</td><td style=\"text-align: right;\">   0.798439</td><td style=\"text-align: right;\">       1.51934</td><td style=\"text-align: right;\">      1</td></tr>\n",
              "<tr><td style=\"text-align: right;\">  3556</td><td style=\"text-align: right;\">0.750211</td><td style=\"text-align: right;\">   0.867148</td><td style=\"text-align: right;\">       1.52173</td><td style=\"text-align: right;\">      1</td></tr>\n",
              "<tr><td style=\"text-align: right;\">  3788</td><td style=\"text-align: right;\">0.800676</td><td style=\"text-align: right;\">   0.858473</td><td style=\"text-align: right;\">       1.54049</td><td style=\"text-align: right;\">      1</td></tr>\n",
              "<tr><td style=\"text-align: right;\">  2629</td><td style=\"text-align: right;\">0.640595</td><td style=\"text-align: right;\">   0.768594</td><td style=\"text-align: right;\">       1.54206</td><td style=\"text-align: right;\">      1</td></tr>\n",
              "<tr><td style=\"text-align: right;\">  5719</td><td style=\"text-align: right;\">0.754983</td><td style=\"text-align: right;\">   0.904748</td><td style=\"text-align: right;\">       1.54718</td><td style=\"text-align: right;\">      1</td></tr>\n",
              "</tbody>\n",
              "</table>"
            ]
          },
          "metadata": {}
        },
        {
          "output_type": "execute_result",
          "data": {
            "text/plain": [
              ""
            ]
          },
          "metadata": {},
          "execution_count": 26
        }
      ]
    },
    {
      "cell_type": "markdown",
      "source": [
        "Splitting the data into test and train set."
      ],
      "metadata": {
        "id": "pKBR1hpTjwI2"
      }
    },
    {
      "cell_type": "code",
      "source": [
        "# Create a 80/20 train/test split\n",
        "pct_rows=0.80\n",
        "df_train, df_test = df.split_frame([pct_rows])"
      ],
      "metadata": {
        "id": "pLqQ5pjjjWbi"
      },
      "execution_count": 27,
      "outputs": []
    },
    {
      "cell_type": "code",
      "source": [
        "df_train.head()"
      ],
      "metadata": {
        "colab": {
          "base_uri": "https://localhost:8080/",
          "height": 249
        },
        "id": "xV_5H33oj5I9",
        "outputId": "8818839e-71d7-4681-b705-8e381ac702c0"
      },
      "execution_count": 28,
      "outputs": [
        {
          "output_type": "display_data",
          "data": {
            "text/html": [
              "<table>\n",
              "<thead>\n",
              "<tr><th style=\"text-align: right;\">  Area</th><th style=\"text-align: right;\">  Extent</th><th style=\"text-align: right;\">  Roundness</th><th style=\"text-align: right;\">  AspectRation</th><th style=\"text-align: right;\">  Class</th></tr>\n",
              "</thead>\n",
              "<tbody>\n",
              "<tr><td style=\"text-align: right;\">  4537</td><td style=\"text-align: right;\">0.657536</td><td style=\"text-align: right;\">   0.76451 </td><td style=\"text-align: right;\">       1.4408 </td><td style=\"text-align: right;\">      1</td></tr>\n",
              "<tr><td style=\"text-align: right;\">  2872</td><td style=\"text-align: right;\">0.713009</td><td style=\"text-align: right;\">   0.831658</td><td style=\"text-align: right;\">       1.45314</td><td style=\"text-align: right;\">      1</td></tr>\n",
              "<tr><td style=\"text-align: right;\">  3048</td><td style=\"text-align: right;\">0.759153</td><td style=\"text-align: right;\">   0.868434</td><td style=\"text-align: right;\">       1.46595</td><td style=\"text-align: right;\">      1</td></tr>\n",
              "<tr><td style=\"text-align: right;\">  3073</td><td style=\"text-align: right;\">0.783529</td><td style=\"text-align: right;\">   0.870203</td><td style=\"text-align: right;\">       1.48346</td><td style=\"text-align: right;\">      1</td></tr>\n",
              "<tr><td style=\"text-align: right;\">  3693</td><td style=\"text-align: right;\">0.769375</td><td style=\"text-align: right;\">   0.874743</td><td style=\"text-align: right;\">       1.51   </td><td style=\"text-align: right;\">      1</td></tr>\n",
              "<tr><td style=\"text-align: right;\">  2990</td><td style=\"text-align: right;\">0.584898</td><td style=\"text-align: right;\">   0.798439</td><td style=\"text-align: right;\">       1.51934</td><td style=\"text-align: right;\">      1</td></tr>\n",
              "<tr><td style=\"text-align: right;\">  3556</td><td style=\"text-align: right;\">0.750211</td><td style=\"text-align: right;\">   0.867148</td><td style=\"text-align: right;\">       1.52173</td><td style=\"text-align: right;\">      1</td></tr>\n",
              "<tr><td style=\"text-align: right;\">  3788</td><td style=\"text-align: right;\">0.800676</td><td style=\"text-align: right;\">   0.858473</td><td style=\"text-align: right;\">       1.54049</td><td style=\"text-align: right;\">      1</td></tr>\n",
              "<tr><td style=\"text-align: right;\">  2629</td><td style=\"text-align: right;\">0.640595</td><td style=\"text-align: right;\">   0.768594</td><td style=\"text-align: right;\">       1.54206</td><td style=\"text-align: right;\">      1</td></tr>\n",
              "<tr><td style=\"text-align: right;\">  5719</td><td style=\"text-align: right;\">0.754983</td><td style=\"text-align: right;\">   0.904748</td><td style=\"text-align: right;\">       1.54718</td><td style=\"text-align: right;\">      1</td></tr>\n",
              "</tbody>\n",
              "</table>"
            ]
          },
          "metadata": {}
        },
        {
          "output_type": "execute_result",
          "data": {
            "text/plain": [
              ""
            ]
          },
          "metadata": {},
          "execution_count": 28
        }
      ]
    },
    {
      "cell_type": "code",
      "source": [
        "#Setting predictor and Target variables\n",
        "X= df.columns\n",
        "y= 'Class'\n",
        "X.remove(y)\n",
        "X"
      ],
      "metadata": {
        "colab": {
          "base_uri": "https://localhost:8080/"
        },
        "id": "387ifJygj8Bl",
        "outputId": "a83df00c-edb2-4bd3-eedc-0384ee4e3e3c"
      },
      "execution_count": 29,
      "outputs": [
        {
          "output_type": "execute_result",
          "data": {
            "text/plain": [
              "['Area', 'Extent', 'Roundness', 'AspectRation']"
            ]
          },
          "metadata": {},
          "execution_count": 29
        }
      ]
    },
    {
      "cell_type": "markdown",
      "source": [
        "# Setting up the model\n",
        "AutoML will automatically predict whether to perform classification or regression based on the target parameter's data type"
      ],
      "metadata": {
        "id": "mzLNSgHpkNBo"
      }
    },
    {
      "cell_type": "code",
      "source": [
        "# Set up AutoML\n",
        "aml = H2OAutoML(max_runtime_secs=run_time, seed=1)"
      ],
      "metadata": {
        "id": "RxwvD4lvkFfA"
      },
      "execution_count": 30,
      "outputs": []
    },
    {
      "cell_type": "code",
      "source": [
        "aml.train(x=X,y=y,training_frame=df_train)  "
      ],
      "metadata": {
        "colab": {
          "base_uri": "https://localhost:8080/"
        },
        "id": "Ax6SpqbjkUE-",
        "outputId": "e1d89ec0-44a3-41e7-db5c-38c20bf2e2b1"
      },
      "execution_count": 31,
      "outputs": [
        {
          "output_type": "stream",
          "name": "stdout",
          "text": [
            "AutoML progress: |\n",
            "03:21:02.834: _response param, Response is numeric, so the regression model will be trained. However, the cardinality is equaled to two, so if you want to train a classification model, convert the response column to categorical before training.\n",
            "\n",
            "████\n",
            "03:21:15.911: _response param, Response is numeric, so the regression model will be trained. However, the cardinality is equaled to two, so if you want to train a classification model, convert the response column to categorical before training.\n",
            "\n",
            "█\n",
            "03:21:18.919: _response param, Response is numeric, so the regression model will be trained. However, the cardinality is equaled to two, so if you want to train a classification model, convert the response column to categorical before training.\n",
            "\n",
            "██████\n",
            "03:21:38.936: _response param, Response is numeric, so the regression model will be trained. However, the cardinality is equaled to two, so if you want to train a classification model, convert the response column to categorical before training.\n",
            "\n",
            "\n",
            "03:21:39.949: _response param, Response is numeric, so the regression model will be trained. However, the cardinality is equaled to two, so if you want to train a classification model, convert the response column to categorical before training.\n",
            "\n",
            "██\n",
            "03:21:48.959: _response param, Response is numeric, so the regression model will be trained. However, the cardinality is equaled to two, so if you want to train a classification model, convert the response column to categorical before training.\n",
            "\n",
            "████\n",
            "03:22:00.983: _response param, Response is numeric, so the regression model will be trained. However, the cardinality is equaled to two, so if you want to train a classification model, convert the response column to categorical before training.\n",
            "\n",
            "██\n",
            "03:22:07.992: _response param, Response is numeric, so the regression model will be trained. However, the cardinality is equaled to two, so if you want to train a classification model, convert the response column to categorical before training.\n",
            "\n",
            "██\n",
            "03:22:15.6: _response param, Response is numeric, so the regression model will be trained. However, the cardinality is equaled to two, so if you want to train a classification model, convert the response column to categorical before training.\n",
            "\n",
            "██\n",
            "03:22:22.16: _response param, Response is numeric, so the regression model will be trained. However, the cardinality is equaled to two, so if you want to train a classification model, convert the response column to categorical before training.\n",
            "03:22:23.29: _response param, Response is numeric, so the regression model will be trained. However, the cardinality is equaled to two, so if you want to train a classification model, convert the response column to categorical before training.\n",
            "\n",
            "█\n",
            "03:22:25.34: _response param, Response is numeric, so the regression model will be trained. However, the cardinality is equaled to two, so if you want to train a classification model, convert the response column to categorical before training.\n",
            "\n",
            "█\n",
            "03:22:29.45: _response param, Response is numeric, so the regression model will be trained. However, the cardinality is equaled to two, so if you want to train a classification model, convert the response column to categorical before training.\n",
            "\n",
            "██\n",
            "03:22:39.56: _response param, Response is numeric, so the regression model will be trained. However, the cardinality is equaled to two, so if you want to train a classification model, convert the response column to categorical before training.\n",
            "\n",
            "██\n",
            "03:22:45.65: _response param, Response is numeric, so the regression model will be trained. However, the cardinality is equaled to two, so if you want to train a classification model, convert the response column to categorical before training.\n",
            "\n",
            "██\n",
            "03:22:52.95: _response param, Response is numeric, so the regression model will be trained. However, the cardinality is equaled to two, so if you want to train a classification model, convert the response column to categorical before training.\n",
            "03:22:53.108: _response param, Response is numeric, so the regression model will be trained. However, the cardinality is equaled to two, so if you want to train a classification model, convert the response column to categorical before training.\n",
            "\n",
            "██████████████████████████████\n",
            "03:24:39.249: _response param, Response is numeric, so the regression model will be trained. However, the cardinality is equaled to two, so if you want to train a classification model, convert the response column to categorical before training.\n",
            "\n",
            "\n",
            "03:24:40.254: _response param, Response is numeric, so the regression model will be trained. However, the cardinality is equaled to two, so if you want to train a classification model, convert the response column to categorical before training.\n",
            "\n",
            "██| (done) 100%\n",
            "Model Details\n",
            "=============\n",
            "H2OStackedEnsembleEstimator :  Stacked Ensemble\n",
            "Model Key:  StackedEnsemble_AllModels_3_AutoML_1_20220214_32102\n",
            "\n",
            "No model summary for this model\n",
            "\n",
            "ModelMetricsRegressionGLM: stackedensemble\n",
            "** Reported on train data. **\n",
            "\n",
            "MSE: 0.005697085155116402\n",
            "RMSE: 0.07547903785234945\n",
            "MAE: 0.01549580531369447\n",
            "RMSLE: 0.05354656450042833\n",
            "R^2: 0.9769829995072498\n",
            "Mean Residual Deviance: 0.005697085155116402\n",
            "Null degrees of freedom: 10042\n",
            "Residual degrees of freedom: 10036\n",
            "Null deviance: 2485.8987469855288\n",
            "Residual deviance: 57.215826212834024\n",
            "AIC: -23383.42216067854\n",
            "\n",
            "ModelMetricsRegressionGLM: stackedensemble\n",
            "** Reported on cross-validation data. **\n",
            "\n",
            "MSE: 0.007961652173535174\n",
            "RMSE: 0.08922809071999228\n",
            "MAE: 0.018435389408756775\n",
            "RMSLE: 0.06249156569328521\n",
            "R^2: 0.9678717122021621\n",
            "Mean Residual Deviance: 0.007961652173535174\n",
            "Null degrees of freedom: 14545\n",
            "Residual degrees of freedom: 14538\n",
            "Null deviance: 3606.037523140053\n",
            "Residual deviance: 115.81019251624264\n",
            "AIC: -29004.78540112656\n"
          ]
        },
        {
          "output_type": "execute_result",
          "data": {
            "text/plain": [
              ""
            ]
          },
          "metadata": {},
          "execution_count": 31
        }
      ]
    },
    {
      "cell_type": "code",
      "source": [
        "print(aml.leaderboard)"
      ],
      "metadata": {
        "colab": {
          "base_uri": "https://localhost:8080/",
          "height": 266
        },
        "id": "kvFVCZLVkaEx",
        "outputId": "9e54c119-e190-4fda-810c-2e0708184979"
      },
      "execution_count": 32,
      "outputs": [
        {
          "output_type": "display_data",
          "data": {
            "text/html": [
              "<table>\n",
              "<thead>\n",
              "<tr><th>model_id                                              </th><th style=\"text-align: right;\">  mean_residual_deviance</th><th style=\"text-align: right;\">     rmse</th><th style=\"text-align: right;\">       mse</th><th style=\"text-align: right;\">      mae</th><th style=\"text-align: right;\">    rmsle</th></tr>\n",
              "</thead>\n",
              "<tbody>\n",
              "<tr><td>StackedEnsemble_AllModels_3_AutoML_1_20220214_32102   </td><td style=\"text-align: right;\">              0.00796165</td><td style=\"text-align: right;\">0.0892281</td><td style=\"text-align: right;\">0.00796165</td><td style=\"text-align: right;\">0.0184354</td><td style=\"text-align: right;\">0.0624916</td></tr>\n",
              "<tr><td>StackedEnsemble_BestOfFamily_4_AutoML_1_20220214_32102</td><td style=\"text-align: right;\">              0.00801573</td><td style=\"text-align: right;\">0.0895306</td><td style=\"text-align: right;\">0.00801573</td><td style=\"text-align: right;\">0.018846 </td><td style=\"text-align: right;\">0.0627434</td></tr>\n",
              "<tr><td>GBM_grid_1_AutoML_1_20220214_32102_model_2            </td><td style=\"text-align: right;\">              0.00805605</td><td style=\"text-align: right;\">0.0897555</td><td style=\"text-align: right;\">0.00805605</td><td style=\"text-align: right;\">0.0188365</td><td style=\"text-align: right;\">0.0629013</td></tr>\n",
              "<tr><td>StackedEnsemble_AllModels_2_AutoML_1_20220214_32102   </td><td style=\"text-align: right;\">              0.00807238</td><td style=\"text-align: right;\">0.0898464</td><td style=\"text-align: right;\">0.00807238</td><td style=\"text-align: right;\">0.0188977</td><td style=\"text-align: right;\">0.0628982</td></tr>\n",
              "<tr><td>StackedEnsemble_AllModels_1_AutoML_1_20220214_32102   </td><td style=\"text-align: right;\">              0.00807335</td><td style=\"text-align: right;\">0.0898518</td><td style=\"text-align: right;\">0.00807335</td><td style=\"text-align: right;\">0.0189583</td><td style=\"text-align: right;\">0.0629116</td></tr>\n",
              "<tr><td>StackedEnsemble_BestOfFamily_3_AutoML_1_20220214_32102</td><td style=\"text-align: right;\">              0.00809076</td><td style=\"text-align: right;\">0.0899486</td><td style=\"text-align: right;\">0.00809076</td><td style=\"text-align: right;\">0.0190525</td><td style=\"text-align: right;\">0.0629789</td></tr>\n",
              "<tr><td>StackedEnsemble_BestOfFamily_2_AutoML_1_20220214_32102</td><td style=\"text-align: right;\">              0.00809309</td><td style=\"text-align: right;\">0.0899616</td><td style=\"text-align: right;\">0.00809309</td><td style=\"text-align: right;\">0.0190712</td><td style=\"text-align: right;\">0.0629842</td></tr>\n",
              "<tr><td>GBM_2_AutoML_1_20220214_32102                         </td><td style=\"text-align: right;\">              0.00814762</td><td style=\"text-align: right;\">0.0902642</td><td style=\"text-align: right;\">0.00814762</td><td style=\"text-align: right;\">0.0199509</td><td style=\"text-align: right;\">0.0631876</td></tr>\n",
              "<tr><td>GBM_3_AutoML_1_20220214_32102                         </td><td style=\"text-align: right;\">              0.00824813</td><td style=\"text-align: right;\">0.0908192</td><td style=\"text-align: right;\">0.00824813</td><td style=\"text-align: right;\">0.0205764</td><td style=\"text-align: right;\">0.0636297</td></tr>\n",
              "<tr><td>GBM_4_AutoML_1_20220214_32102                         </td><td style=\"text-align: right;\">              0.0083195 </td><td style=\"text-align: right;\">0.0912113</td><td style=\"text-align: right;\">0.0083195 </td><td style=\"text-align: right;\">0.0206857</td><td style=\"text-align: right;\">0.063746 </td></tr>\n",
              "</tbody>\n",
              "</table>"
            ]
          },
          "metadata": {}
        },
        {
          "output_type": "stream",
          "name": "stdout",
          "text": [
            "\n"
          ]
        }
      ]
    },
    {
      "cell_type": "code",
      "source": [
        "model_index=0\n",
        "glm_index=0\n",
        "glm_model=''\n",
        "aml_leaderboard_df=aml.leaderboard.as_data_frame()\n",
        "models_dict={}\n",
        "for m in aml_leaderboard_df['model_id']:\n",
        "  models_dict[m]=model_index\n",
        "  if 'StackedEnsemble' not in m:\n",
        "    break \n",
        "  model_index=model_index+1  \n",
        "\n",
        "for m in aml_leaderboard_df['model_id']:\n",
        "  if 'GLM' in m:\n",
        "    models_dict[m]=glm_index\n",
        "    break  \n",
        "  glm_index=glm_index+1     \n",
        "models_dict"
      ],
      "metadata": {
        "colab": {
          "base_uri": "https://localhost:8080/"
        },
        "id": "PwFbIuz5lz95",
        "outputId": "e316a038-4750-47b7-a87a-10acad3aa884"
      },
      "execution_count": 33,
      "outputs": [
        {
          "output_type": "execute_result",
          "data": {
            "text/plain": [
              "{'GBM_grid_1_AutoML_1_20220214_32102_model_2': 2,\n",
              " 'GLM_1_AutoML_1_20220214_32102': 26,\n",
              " 'StackedEnsemble_AllModels_3_AutoML_1_20220214_32102': 0,\n",
              " 'StackedEnsemble_BestOfFamily_4_AutoML_1_20220214_32102': 1}"
            ]
          },
          "metadata": {},
          "execution_count": 33
        }
      ]
    },
    {
      "cell_type": "markdown",
      "source": [
        "Checking the Best Model"
      ],
      "metadata": {
        "id": "_NQihz8KnLfU"
      }
    },
    {
      "cell_type": "code",
      "source": [
        "print(model_index)\n",
        "best_model = h2o.get_model(aml.leaderboard[model_index,'model_id'])"
      ],
      "metadata": {
        "colab": {
          "base_uri": "https://localhost:8080/"
        },
        "id": "3QQUPvwjm_5u",
        "outputId": "b5b83c9e-048c-4a22-a861-053bf2ae5ec9"
      },
      "execution_count": 34,
      "outputs": [
        {
          "output_type": "stream",
          "name": "stdout",
          "text": [
            "2\n"
          ]
        }
      ]
    },
    {
      "cell_type": "code",
      "source": [
        "best_model.algo"
      ],
      "metadata": {
        "colab": {
          "base_uri": "https://localhost:8080/",
          "height": 35
        },
        "id": "m2UFY04anPg9",
        "outputId": "68e26f3b-1895-4e44-fe65-3ea76732bf36"
      },
      "execution_count": 35,
      "outputs": [
        {
          "output_type": "execute_result",
          "data": {
            "application/vnd.google.colaboratory.intrinsic+json": {
              "type": "string"
            },
            "text/plain": [
              "'gbm'"
            ]
          },
          "metadata": {},
          "execution_count": 35
        }
      ]
    },
    {
      "cell_type": "markdown",
      "source": [
        "Finding the most important variables"
      ],
      "metadata": {
        "id": "nNc5yvP3v01D"
      }
    },
    {
      "cell_type": "code",
      "source": [
        "import matplotlib.pyplot as plt\n",
        "%matplotlib inline\n",
        "\n",
        "import warnings\n",
        "import matplotlib.cbook\n",
        "warnings.filterwarnings(\"ignore\", category = matplotlib.cbook.mplDeprecation)"
      ],
      "metadata": {
        "id": "wC_XNxuOnS-P"
      },
      "execution_count": 36,
      "outputs": []
    },
    {
      "cell_type": "code",
      "source": [
        "if best_model.algo in ['gbm','drf','xrt','xgboost']:\n",
        "  best_model.varimp_plot()"
      ],
      "metadata": {
        "colab": {
          "base_uri": "https://localhost:8080/",
          "height": 632
        },
        "id": "bQyIDHC8nXg0",
        "outputId": "502e934f-ccb4-4acf-ba69-fa26c0227a58"
      },
      "execution_count": 37,
      "outputs": [
        {
          "output_type": "display_data",
          "data": {
            "image/png": "[encoded data removed]",
            "text/plain": [
              "<Figure size 1008x720 with 1 Axes>"
            ]
          },
          "metadata": {
            "needs_background": "light"
          }
        },
        {
          "output_type": "display_data",
          "data": {
            "text/plain": [
              "<Figure size 432x288 with 0 Axes>"
            ]
          },
          "metadata": {}
        }
      ]
    },
    {
      "cell_type": "code",
      "source": [
        "if glm_index is not 0:\n",
        "  print(glm_index)\n",
        "  glm_model=h2o.get_model(aml.leaderboard[glm_index,'model_id'])\n",
        "  print(glm_model.algo) \n",
        "  glm_model.std_coef_plot()"
      ],
      "metadata": {
        "colab": {
          "base_uri": "https://localhost:8080/",
          "height": 650
        },
        "id": "_1goowL0nbif",
        "outputId": "31c1d703-648b-4af0-d3d5-fc3bb6951edd"
      },
      "execution_count": 38,
      "outputs": [
        {
          "output_type": "stream",
          "name": "stdout",
          "text": [
            "26\n",
            "glm\n"
          ]
        },
        {
          "output_type": "display_data",
          "data": {
            "image/png": "[encoded data removed]",
            "text/plain": [
              "<Figure size 1008x720 with 1 Axes>"
            ]
          },
          "metadata": {
            "needs_background": "light"
          }
        }
      ]
    },
    {
      "cell_type": "code",
      "source": [
        "print(best_model.rmse(train = True))"
      ],
      "metadata": {
        "colab": {
          "base_uri": "https://localhost:8080/"
        },
        "id": "tY1cPLmCnhhi",
        "outputId": "32152f88-37ac-4d26-e45b-fa4c2ec22f3e"
      },
      "execution_count": 39,
      "outputs": [
        {
          "output_type": "stream",
          "name": "stdout",
          "text": [
            "0.07968349439481422\n"
          ]
        }
      ]
    },
    {
      "cell_type": "code",
      "source": [
        "def model_performance_stats(perf):\n",
        "    d={}\n",
        "    try:    \n",
        "      d['mse']=perf.mse()\n",
        "    except:\n",
        "      pass      \n",
        "    try:    \n",
        "      d['rmse']=perf.rmse() \n",
        "    except:\n",
        "      pass      \n",
        "    try:    \n",
        "      d['null_degrees_of_freedom']=perf.null_degrees_of_freedom()\n",
        "    except:\n",
        "      pass      \n",
        "    try:    \n",
        "      d['residual_degrees_of_freedom']=perf.residual_degrees_of_freedom()\n",
        "    except:\n",
        "      pass      \n",
        "    try:    \n",
        "      d['residual_deviance']=perf.residual_deviance() \n",
        "    except:\n",
        "      pass      \n",
        "    try:    \n",
        "      d['null_deviance']=perf.null_deviance() \n",
        "    except:\n",
        "      pass      \n",
        "    try:    \n",
        "      d['aic']=perf.aic() \n",
        "    except:\n",
        "      pass      \n",
        "    try:\n",
        "      d['logloss']=perf.logloss() \n",
        "    except:\n",
        "      pass    \n",
        "    try:\n",
        "      d['auc']=perf.auc()\n",
        "    except:\n",
        "      pass  \n",
        "    try:\n",
        "      d['gini']=perf.gini()\n",
        "    except:\n",
        "      pass    \n",
        "    return d"
      ],
      "metadata": {
        "id": "IbKRKX8LnobV"
      },
      "execution_count": 40,
      "outputs": []
    },
    {
      "cell_type": "code",
      "source": [
        "mod_perf=best_model.model_performance(df_test)\n",
        "stats_test={}\n",
        "stats_test=model_performance_stats(mod_perf)\n",
        "stats_test"
      ],
      "metadata": {
        "colab": {
          "base_uri": "https://localhost:8080/"
        },
        "id": "zhVkNMjdnuc0",
        "outputId": "002e76dc-e95a-4c7a-ab18-d01d0cf4c28c"
      },
      "execution_count": 41,
      "outputs": [
        {
          "output_type": "execute_result",
          "data": {
            "text/plain": [
              "{'mse': 0.008706875058014499,\n",
              " 'null_degrees_of_freedom': None,\n",
              " 'null_deviance': None,\n",
              " 'residual_degrees_of_freedom': None,\n",
              " 'residual_deviance': None,\n",
              " 'rmse': 0.09331063743225902}"
            ]
          },
          "metadata": {},
          "execution_count": 41
        }
      ]
    },
    {
      "cell_type": "code",
      "source": [
        "predictions = best_model.predict(df_test)"
      ],
      "metadata": {
        "colab": {
          "base_uri": "https://localhost:8080/"
        },
        "id": "DGVfndEanxhY",
        "outputId": "8c84e652-14ce-4ad4-bd9b-7f65bc1a707f"
      },
      "execution_count": 42,
      "outputs": [
        {
          "output_type": "stream",
          "name": "stdout",
          "text": [
            "gbm prediction progress: |███████████████████████████████████████████████████████| (done) 100%\n"
          ]
        }
      ]
    },
    {
      "cell_type": "code",
      "source": [
        "y_pred=h2o.as_list(predictions)\n",
        "y_pred[0:5]"
      ],
      "metadata": {
        "colab": {
          "base_uri": "https://localhost:8080/",
          "height": 206
        },
        "id": "t8kU-8U2n_pl",
        "outputId": "0df40fc4-8929-4f93-e085-82ff368f61df"
      },
      "execution_count": 43,
      "outputs": [
        {
          "output_type": "execute_result",
          "data": {
            "text/html": [
              "\n",
              "  <div id=\"df-4fe3dcce-899c-4544-a5e6-6230034a6038\">\n",
              "    <div class=\"colab-df-container\">\n",
              "      <div>\n",
              "<style scoped>\n",
              "    .dataframe tbody tr th:only-of-type {\n",
              "        vertical-align: middle;\n",
              "    }\n",
              "\n",
              "    .dataframe tbody tr th {\n",
              "        vertical-align: top;\n",
              "    }\n",
              "\n",
              "    .dataframe thead th {\n",
              "        text-align: right;\n",
              "    }\n",
              "</style>\n",
              "<table border=\"1\" class=\"dataframe\">\n",
              "  <thead>\n",
              "    <tr style=\"text-align: right;\">\n",
              "      <th></th>\n",
              "      <th>predict</th>\n",
              "    </tr>\n",
              "  </thead>\n",
              "  <tbody>\n",
              "    <tr>\n",
              "      <th>0</th>\n",
              "      <td>0.982697</td>\n",
              "    </tr>\n",
              "    <tr>\n",
              "      <th>1</th>\n",
              "      <td>0.980565</td>\n",
              "    </tr>\n",
              "    <tr>\n",
              "      <th>2</th>\n",
              "      <td>1.000234</td>\n",
              "    </tr>\n",
              "    <tr>\n",
              "      <th>3</th>\n",
              "      <td>0.987439</td>\n",
              "    </tr>\n",
              "    <tr>\n",
              "      <th>4</th>\n",
              "      <td>0.989119</td>\n",
              "    </tr>\n",
              "  </tbody>\n",
              "</table>\n",
              "</div>\n",
              "      <button class=\"colab-df-convert\" onclick=\"convertToInteractive('df-4fe3dcce-899c-4544-a5e6-6230034a6038')\"\n",
              "              title=\"Convert this dataframe to an interactive table.\"\n",
              "              style=\"display:none;\">\n",
              "        \n",
              "  <svg xmlns=\"http://www.w3.org/2000/svg\" height=\"24px\"viewBox=\"0 0 24 24\"\n",
              "       width=\"24px\">\n",
              "    <path d=\"M0 0h24v24H0V0z\" fill=\"none\"/>\n",
              "    <path d=\"M18.56 5.44l.94 2.06.94-2.06 2.06-.94-2.06-.94-.94-2.06-.94 2.06-2.06.94zm-11 1L8.5 8.5l.94-2.06 2.06-.94-2.06-.94L8.5 2.5l-.94 2.06-2.06.94zm10 10l.94 2.06.94-2.06 2.06-.94-2.06-.94-.94-2.06-.94 2.06-2.06.94z\"/><path d=\"M17.41 7.96l-1.37-1.37c-.4-.4-.92-.59-1.43-.59-.52 0-1.04.2-1.43.59L10.3 9.45l-7.72 7.72c-.78.78-.78 2.05 0 2.83L4 21.41c.39.39.9.59 1.41.59.51 0 1.02-.2 1.41-.59l7.78-7.78 2.81-2.81c.8-.78.8-2.07 0-2.86zM5.41 20L4 18.59l7.72-7.72 1.47 1.35L5.41 20z\"/>\n",
              "  </svg>\n",
              "      </button>\n",
              "      \n",
              "  <style>\n",
              "    .colab-df-container {\n",
              "      display:flex;\n",
              "      flex-wrap:wrap;\n",
              "      gap: 12px;\n",
              "    }\n",
              "\n",
              "    .colab-df-convert {\n",
              "      background-color: #E8F0FE;\n",
              "      border: none;\n",
              "      border-radius: 50%;\n",
              "      cursor: pointer;\n",
              "      display: none;\n",
              "      fill: #1967D2;\n",
              "      height: 32px;\n",
              "      padding: 0 0 0 0;\n",
              "      width: 32px;\n",
              "    }\n",
              "\n",
              "    .colab-df-convert:hover {\n",
              "      background-color: #E2EBFA;\n",
              "      box-shadow: 0px 1px 2px rgba(60, 64, 67, 0.3), 0px 1px 3px 1px rgba(60, 64, 67, 0.15);\n",
              "      fill: #174EA6;\n",
              "    }\n",
              "\n",
              "    [theme=dark] .colab-df-convert {\n",
              "      background-color: #3B4455;\n",
              "      fill: #D2E3FC;\n",
              "    }\n",
              "\n",
              "    [theme=dark] .colab-df-convert:hover {\n",
              "      background-color: #434B5C;\n",
              "      box-shadow: 0px 1px 3px 1px rgba(0, 0, 0, 0.15);\n",
              "      filter: drop-shadow(0px 1px 2px rgba(0, 0, 0, 0.3));\n",
              "      fill: #FFFFFF;\n",
              "    }\n",
              "  </style>\n",
              "\n",
              "      <script>\n",
              "        const buttonEl =\n",
              "          document.querySelector('#df-4fe3dcce-899c-4544-a5e6-6230034a6038 button.colab-df-convert');\n",
              "        buttonEl.style.display =\n",
              "          google.colab.kernel.accessAllowed ? 'block' : 'none';\n",
              "\n",
              "        async function convertToInteractive(key) {\n",
              "          const element = document.querySelector('#df-4fe3dcce-899c-4544-a5e6-6230034a6038');\n",
              "          const dataTable =\n",
              "            await google.colab.kernel.invokeFunction('convertToInteractive',\n",
              "                                                     [key], {});\n",
              "          if (!dataTable) return;\n",
              "\n",
              "          const docLinkHtml = 'Like what you see? Visit the ' +\n",
              "            '<a target=\"_blank\" href=https://colab.research.google.com/notebooks/data_table.ipynb>data table notebook</a>'\n",
              "            + ' to learn more about interactive tables.';\n",
              "          element.innerHTML = '';\n",
              "          dataTable['output_type'] = 'display_data';\n",
              "          await google.colab.output.renderOutput(dataTable, element);\n",
              "          const docLink = document.createElement('div');\n",
              "          docLink.innerHTML = docLinkHtml;\n",
              "          element.appendChild(docLink);\n",
              "        }\n",
              "      </script>\n",
              "    </div>\n",
              "  </div>\n",
              "  "
            ],
            "text/plain": [
              "    predict\n",
              "0  0.982697\n",
              "1  0.980565\n",
              "2  1.000234\n",
              "3  0.987439\n",
              "4  0.989119"
            ]
          },
          "metadata": {},
          "execution_count": 43
        }
      ]
    },
    {
      "cell_type": "code",
      "source": [
        "y_test=h2o.as_list(df_test[y])\n",
        "y_test[0:5]"
      ],
      "metadata": {
        "colab": {
          "base_uri": "https://localhost:8080/",
          "height": 206
        },
        "id": "S9d-tc4aoDq2",
        "outputId": "a2ac2a84-e819-494c-b0b5-e3e2cacb9f97"
      },
      "execution_count": 44,
      "outputs": [
        {
          "output_type": "execute_result",
          "data": {
            "text/html": [
              "\n",
              "  <div id=\"df-f0aa8871-f7bc-4013-9d27-431d76f85e9c\">\n",
              "    <div class=\"colab-df-container\">\n",
              "      <div>\n",
              "<style scoped>\n",
              "    .dataframe tbody tr th:only-of-type {\n",
              "        vertical-align: middle;\n",
              "    }\n",
              "\n",
              "    .dataframe tbody tr th {\n",
              "        vertical-align: top;\n",
              "    }\n",
              "\n",
              "    .dataframe thead th {\n",
              "        text-align: right;\n",
              "    }\n",
              "</style>\n",
              "<table border=\"1\" class=\"dataframe\">\n",
              "  <thead>\n",
              "    <tr style=\"text-align: right;\">\n",
              "      <th></th>\n",
              "      <th>Class</th>\n",
              "    </tr>\n",
              "  </thead>\n",
              "  <tbody>\n",
              "    <tr>\n",
              "      <th>0</th>\n",
              "      <td>1</td>\n",
              "    </tr>\n",
              "    <tr>\n",
              "      <th>1</th>\n",
              "      <td>1</td>\n",
              "    </tr>\n",
              "    <tr>\n",
              "      <th>2</th>\n",
              "      <td>1</td>\n",
              "    </tr>\n",
              "    <tr>\n",
              "      <th>3</th>\n",
              "      <td>1</td>\n",
              "    </tr>\n",
              "    <tr>\n",
              "      <th>4</th>\n",
              "      <td>1</td>\n",
              "    </tr>\n",
              "  </tbody>\n",
              "</table>\n",
              "</div>\n",
              "      <button class=\"colab-df-convert\" onclick=\"convertToInteractive('df-f0aa8871-f7bc-4013-9d27-431d76f85e9c')\"\n",
              "              title=\"Convert this dataframe to an interactive table.\"\n",
              "              style=\"display:none;\">\n",
              "        \n",
              "  <svg xmlns=\"http://www.w3.org/2000/svg\" height=\"24px\"viewBox=\"0 0 24 24\"\n",
              "       width=\"24px\">\n",
              "    <path d=\"M0 0h24v24H0V0z\" fill=\"none\"/>\n",
              "    <path d=\"M18.56 5.44l.94 2.06.94-2.06 2.06-.94-2.06-.94-.94-2.06-.94 2.06-2.06.94zm-11 1L8.5 8.5l.94-2.06 2.06-.94-2.06-.94L8.5 2.5l-.94 2.06-2.06.94zm10 10l.94 2.06.94-2.06 2.06-.94-2.06-.94-.94-2.06-.94 2.06-2.06.94z\"/><path d=\"M17.41 7.96l-1.37-1.37c-.4-.4-.92-.59-1.43-.59-.52 0-1.04.2-1.43.59L10.3 9.45l-7.72 7.72c-.78.78-.78 2.05 0 2.83L4 21.41c.39.39.9.59 1.41.59.51 0 1.02-.2 1.41-.59l7.78-7.78 2.81-2.81c.8-.78.8-2.07 0-2.86zM5.41 20L4 18.59l7.72-7.72 1.47 1.35L5.41 20z\"/>\n",
              "  </svg>\n",
              "      </button>\n",
              "      \n",
              "  <style>\n",
              "    .colab-df-container {\n",
              "      display:flex;\n",
              "      flex-wrap:wrap;\n",
              "      gap: 12px;\n",
              "    }\n",
              "\n",
              "    .colab-df-convert {\n",
              "      background-color: #E8F0FE;\n",
              "      border: none;\n",
              "      border-radius: 50%;\n",
              "      cursor: pointer;\n",
              "      display: none;\n",
              "      fill: #1967D2;\n",
              "      height: 32px;\n",
              "      padding: 0 0 0 0;\n",
              "      width: 32px;\n",
              "    }\n",
              "\n",
              "    .colab-df-convert:hover {\n",
              "      background-color: #E2EBFA;\n",
              "      box-shadow: 0px 1px 2px rgba(60, 64, 67, 0.3), 0px 1px 3px 1px rgba(60, 64, 67, 0.15);\n",
              "      fill: #174EA6;\n",
              "    }\n",
              "\n",
              "    [theme=dark] .colab-df-convert {\n",
              "      background-color: #3B4455;\n",
              "      fill: #D2E3FC;\n",
              "    }\n",
              "\n",
              "    [theme=dark] .colab-df-convert:hover {\n",
              "      background-color: #434B5C;\n",
              "      box-shadow: 0px 1px 3px 1px rgba(0, 0, 0, 0.15);\n",
              "      filter: drop-shadow(0px 1px 2px rgba(0, 0, 0, 0.3));\n",
              "      fill: #FFFFFF;\n",
              "    }\n",
              "  </style>\n",
              "\n",
              "      <script>\n",
              "        const buttonEl =\n",
              "          document.querySelector('#df-f0aa8871-f7bc-4013-9d27-431d76f85e9c button.colab-df-convert');\n",
              "        buttonEl.style.display =\n",
              "          google.colab.kernel.accessAllowed ? 'block' : 'none';\n",
              "\n",
              "        async function convertToInteractive(key) {\n",
              "          const element = document.querySelector('#df-f0aa8871-f7bc-4013-9d27-431d76f85e9c');\n",
              "          const dataTable =\n",
              "            await google.colab.kernel.invokeFunction('convertToInteractive',\n",
              "                                                     [key], {});\n",
              "          if (!dataTable) return;\n",
              "\n",
              "          const docLinkHtml = 'Like what you see? Visit the ' +\n",
              "            '<a target=\"_blank\" href=https://colab.research.google.com/notebooks/data_table.ipynb>data table notebook</a>'\n",
              "            + ' to learn more about interactive tables.';\n",
              "          element.innerHTML = '';\n",
              "          dataTable['output_type'] = 'display_data';\n",
              "          await google.colab.output.renderOutput(dataTable, element);\n",
              "          const docLink = document.createElement('div');\n",
              "          docLink.innerHTML = docLinkHtml;\n",
              "          element.appendChild(docLink);\n",
              "        }\n",
              "      </script>\n",
              "    </div>\n",
              "  </div>\n",
              "  "
            ],
            "text/plain": [
              "   Class\n",
              "0      1\n",
              "1      1\n",
              "2      1\n",
              "3      1\n",
              "4      1"
            ]
          },
          "metadata": {},
          "execution_count": 44
        }
      ]
    },
    {
      "cell_type": "markdown",
      "source": [
        "# H2O Best Model performance and Variable Importance"
      ],
      "metadata": {
        "id": "wKaDY7FBng31"
      }
    },
    {
      "cell_type": "code",
      "source": [
        "print(best_model.cross_validation_metrics_summary)"
      ],
      "metadata": {
        "colab": {
          "base_uri": "https://localhost:8080/",
          "height": 1000
        },
        "id": "nIczgY04lAEV",
        "outputId": "2918d4c2-6a94-4da8-a6d5-9a95e1025665"
      },
      "execution_count": 45,
      "outputs": [
        {
          "output_type": "stream",
          "name": "stdout",
          "text": [
            "Model Details\n",
            "=============\n",
            "H2OGradientBoostingEstimator :  Gradient Boosting Machine\n",
            "Model Key:  GBM_grid_1_AutoML_1_20220214_32102_model_2\n",
            "\n",
            "\n",
            "Model Summary: \n"
          ]
        },
        {
          "output_type": "display_data",
          "data": {
            "text/html": [
              "\n",
              "  <div id=\"df-a1e44a4f-e212-43b5-a0dd-993bce65f862\">\n",
              "    <div class=\"colab-df-container\">\n",
              "      <div>\n",
              "<style scoped>\n",
              "    .dataframe tbody tr th:only-of-type {\n",
              "        vertical-align: middle;\n",
              "    }\n",
              "\n",
              "    .dataframe tbody tr th {\n",
              "        vertical-align: top;\n",
              "    }\n",
              "\n",
              "    .dataframe thead th {\n",
              "        text-align: right;\n",
              "    }\n",
              "</style>\n",
              "<table border=\"1\" class=\"dataframe\">\n",
              "  <thead>\n",
              "    <tr style=\"text-align: right;\">\n",
              "      <th></th>\n",
              "      <th></th>\n",
              "      <th>number_of_trees</th>\n",
              "      <th>number_of_internal_trees</th>\n",
              "      <th>model_size_in_bytes</th>\n",
              "      <th>min_depth</th>\n",
              "      <th>max_depth</th>\n",
              "      <th>mean_depth</th>\n",
              "      <th>min_leaves</th>\n",
              "      <th>max_leaves</th>\n",
              "      <th>mean_leaves</th>\n",
              "    </tr>\n",
              "  </thead>\n",
              "  <tbody>\n",
              "    <tr>\n",
              "      <th>0</th>\n",
              "      <td></td>\n",
              "      <td>67.0</td>\n",
              "      <td>67.0</td>\n",
              "      <td>15640.0</td>\n",
              "      <td>4.0</td>\n",
              "      <td>4.0</td>\n",
              "      <td>4.0</td>\n",
              "      <td>6.0</td>\n",
              "      <td>16.0</td>\n",
              "      <td>13.985075</td>\n",
              "    </tr>\n",
              "  </tbody>\n",
              "</table>\n",
              "</div>\n",
              "      <button class=\"colab-df-convert\" onclick=\"convertToInteractive('df-a1e44a4f-e212-43b5-a0dd-993bce65f862')\"\n",
              "              title=\"Convert this dataframe to an interactive table.\"\n",
              "              style=\"display:none;\">\n",
              "        \n",
              "  <svg xmlns=\"http://www.w3.org/2000/svg\" height=\"24px\"viewBox=\"0 0 24 24\"\n",
              "       width=\"24px\">\n",
              "    <path d=\"M0 0h24v24H0V0z\" fill=\"none\"/>\n",
              "    <path d=\"M18.56 5.44l.94 2.06.94-2.06 2.06-.94-2.06-.94-.94-2.06-.94 2.06-2.06.94zm-11 1L8.5 8.5l.94-2.06 2.06-.94-2.06-.94L8.5 2.5l-.94 2.06-2.06.94zm10 10l.94 2.06.94-2.06 2.06-.94-2.06-.94-.94-2.06-.94 2.06-2.06.94z\"/><path d=\"M17.41 7.96l-1.37-1.37c-.4-.4-.92-.59-1.43-.59-.52 0-1.04.2-1.43.59L10.3 9.45l-7.72 7.72c-.78.78-.78 2.05 0 2.83L4 21.41c.39.39.9.59 1.41.59.51 0 1.02-.2 1.41-.59l7.78-7.78 2.81-2.81c.8-.78.8-2.07 0-2.86zM5.41 20L4 18.59l7.72-7.72 1.47 1.35L5.41 20z\"/>\n",
              "  </svg>\n",
              "      </button>\n",
              "      \n",
              "  <style>\n",
              "    .colab-df-container {\n",
              "      display:flex;\n",
              "      flex-wrap:wrap;\n",
              "      gap: 12px;\n",
              "    }\n",
              "\n",
              "    .colab-df-convert {\n",
              "      background-color: #E8F0FE;\n",
              "      border: none;\n",
              "      border-radius: 50%;\n",
              "      cursor: pointer;\n",
              "      display: none;\n",
              "      fill: #1967D2;\n",
              "      height: 32px;\n",
              "      padding: 0 0 0 0;\n",
              "      width: 32px;\n",
              "    }\n",
              "\n",
              "    .colab-df-convert:hover {\n",
              "      background-color: #E2EBFA;\n",
              "      box-shadow: 0px 1px 2px rgba(60, 64, 67, 0.3), 0px 1px 3px 1px rgba(60, 64, 67, 0.15);\n",
              "      fill: #174EA6;\n",
              "    }\n",
              "\n",
              "    [theme=dark] .colab-df-convert {\n",
              "      background-color: #3B4455;\n",
              "      fill: #D2E3FC;\n",
              "    }\n",
              "\n",
              "    [theme=dark] .colab-df-convert:hover {\n",
              "      background-color: #434B5C;\n",
              "      box-shadow: 0px 1px 3px 1px rgba(0, 0, 0, 0.15);\n",
              "      filter: drop-shadow(0px 1px 2px rgba(0, 0, 0, 0.3));\n",
              "      fill: #FFFFFF;\n",
              "    }\n",
              "  </style>\n",
              "\n",
              "      <script>\n",
              "        const buttonEl =\n",
              "          document.querySelector('#df-a1e44a4f-e212-43b5-a0dd-993bce65f862 button.colab-df-convert');\n",
              "        buttonEl.style.display =\n",
              "          google.colab.kernel.accessAllowed ? 'block' : 'none';\n",
              "\n",
              "        async function convertToInteractive(key) {\n",
              "          const element = document.querySelector('#df-a1e44a4f-e212-43b5-a0dd-993bce65f862');\n",
              "          const dataTable =\n",
              "            await google.colab.kernel.invokeFunction('convertToInteractive',\n",
              "                                                     [key], {});\n",
              "          if (!dataTable) return;\n",
              "\n",
              "          const docLinkHtml = 'Like what you see? Visit the ' +\n",
              "            '<a target=\"_blank\" href=https://colab.research.google.com/notebooks/data_table.ipynb>data table notebook</a>'\n",
              "            + ' to learn more about interactive tables.';\n",
              "          element.innerHTML = '';\n",
              "          dataTable['output_type'] = 'display_data';\n",
              "          await google.colab.output.renderOutput(dataTable, element);\n",
              "          const docLink = document.createElement('div');\n",
              "          docLink.innerHTML = docLinkHtml;\n",
              "          element.appendChild(docLink);\n",
              "        }\n",
              "      </script>\n",
              "    </div>\n",
              "  </div>\n",
              "  "
            ],
            "text/plain": [
              "     number_of_trees  ...  max_leaves  mean_leaves\n",
              "0               67.0  ...        16.0    13.985075\n",
              "\n",
              "[1 rows x 10 columns]"
            ]
          },
          "metadata": {}
        },
        {
          "output_type": "stream",
          "name": "stdout",
          "text": [
            "\n",
            "\n",
            "ModelMetricsRegression: gbm\n",
            "** Reported on train data. **\n",
            "\n",
            "MSE: 0.006349459278968389\n",
            "RMSE: 0.07968349439481422\n",
            "MAE: 0.016500848430294743\n",
            "RMSLE: 0.05599409955596102\n",
            "Mean Residual Deviance: 0.006349459278968389\n",
            "\n",
            "ModelMetricsRegression: gbm\n",
            "** Reported on cross-validation data. **\n",
            "\n",
            "MSE: 0.008056048516135382\n",
            "RMSE: 0.08975549295801\n",
            "MAE: 0.01883651513504091\n",
            "RMSLE: 0.06290129852276931\n",
            "Mean Residual Deviance: 0.008056048516135382\n",
            "\n",
            "Cross-Validation Metrics Summary: \n"
          ]
        },
        {
          "output_type": "display_data",
          "data": {
            "text/html": [
              "\n",
              "  <div id=\"df-6148d2a5-9212-4b34-9a3b-a1d4aeb9d8b7\">\n",
              "    <div class=\"colab-df-container\">\n",
              "      <div>\n",
              "<style scoped>\n",
              "    .dataframe tbody tr th:only-of-type {\n",
              "        vertical-align: middle;\n",
              "    }\n",
              "\n",
              "    .dataframe tbody tr th {\n",
              "        vertical-align: top;\n",
              "    }\n",
              "\n",
              "    .dataframe thead th {\n",
              "        text-align: right;\n",
              "    }\n",
              "</style>\n",
              "<table border=\"1\" class=\"dataframe\">\n",
              "  <thead>\n",
              "    <tr style=\"text-align: right;\">\n",
              "      <th></th>\n",
              "      <th></th>\n",
              "      <th>mean</th>\n",
              "      <th>sd</th>\n",
              "      <th>cv_1_valid</th>\n",
              "      <th>cv_2_valid</th>\n",
              "      <th>cv_3_valid</th>\n",
              "      <th>cv_4_valid</th>\n",
              "      <th>cv_5_valid</th>\n",
              "    </tr>\n",
              "  </thead>\n",
              "  <tbody>\n",
              "    <tr>\n",
              "      <th>0</th>\n",
              "      <td>mae</td>\n",
              "      <td>0.018872</td>\n",
              "      <td>0.001328</td>\n",
              "      <td>0.019885</td>\n",
              "      <td>0.017924</td>\n",
              "      <td>0.019200</td>\n",
              "      <td>0.017103</td>\n",
              "      <td>0.020247</td>\n",
              "    </tr>\n",
              "    <tr>\n",
              "      <th>1</th>\n",
              "      <td>mean_residual_deviance</td>\n",
              "      <td>0.008059</td>\n",
              "      <td>0.001165</td>\n",
              "      <td>0.009772</td>\n",
              "      <td>0.007487</td>\n",
              "      <td>0.007022</td>\n",
              "      <td>0.007267</td>\n",
              "      <td>0.008745</td>\n",
              "    </tr>\n",
              "    <tr>\n",
              "      <th>2</th>\n",
              "      <td>mse</td>\n",
              "      <td>0.008059</td>\n",
              "      <td>0.001165</td>\n",
              "      <td>0.009772</td>\n",
              "      <td>0.007487</td>\n",
              "      <td>0.007022</td>\n",
              "      <td>0.007267</td>\n",
              "      <td>0.008745</td>\n",
              "    </tr>\n",
              "    <tr>\n",
              "      <th>3</th>\n",
              "      <td>r2</td>\n",
              "      <td>0.967475</td>\n",
              "      <td>0.004675</td>\n",
              "      <td>0.960655</td>\n",
              "      <td>0.969729</td>\n",
              "      <td>0.971771</td>\n",
              "      <td>0.970555</td>\n",
              "      <td>0.964666</td>\n",
              "    </tr>\n",
              "    <tr>\n",
              "      <th>4</th>\n",
              "      <td>residual_deviance</td>\n",
              "      <td>0.008059</td>\n",
              "      <td>0.001165</td>\n",
              "      <td>0.009772</td>\n",
              "      <td>0.007487</td>\n",
              "      <td>0.007022</td>\n",
              "      <td>0.007267</td>\n",
              "      <td>0.008745</td>\n",
              "    </tr>\n",
              "    <tr>\n",
              "      <th>5</th>\n",
              "      <td>rmse</td>\n",
              "      <td>0.089588</td>\n",
              "      <td>0.006383</td>\n",
              "      <td>0.098851</td>\n",
              "      <td>0.086526</td>\n",
              "      <td>0.083798</td>\n",
              "      <td>0.085247</td>\n",
              "      <td>0.093516</td>\n",
              "    </tr>\n",
              "    <tr>\n",
              "      <th>6</th>\n",
              "      <td>rmsle</td>\n",
              "      <td>0.062797</td>\n",
              "      <td>0.004298</td>\n",
              "      <td>0.068842</td>\n",
              "      <td>0.060218</td>\n",
              "      <td>0.059505</td>\n",
              "      <td>0.059557</td>\n",
              "      <td>0.065860</td>\n",
              "    </tr>\n",
              "  </tbody>\n",
              "</table>\n",
              "</div>\n",
              "      <button class=\"colab-df-convert\" onclick=\"convertToInteractive('df-6148d2a5-9212-4b34-9a3b-a1d4aeb9d8b7')\"\n",
              "              title=\"Convert this dataframe to an interactive table.\"\n",
              "              style=\"display:none;\">\n",
              "        \n",
              "  <svg xmlns=\"http://www.w3.org/2000/svg\" height=\"24px\"viewBox=\"0 0 24 24\"\n",
              "       width=\"24px\">\n",
              "    <path d=\"M0 0h24v24H0V0z\" fill=\"none\"/>\n",
              "    <path d=\"M18.56 5.44l.94 2.06.94-2.06 2.06-.94-2.06-.94-.94-2.06-.94 2.06-2.06.94zm-11 1L8.5 8.5l.94-2.06 2.06-.94-2.06-.94L8.5 2.5l-.94 2.06-2.06.94zm10 10l.94 2.06.94-2.06 2.06-.94-2.06-.94-.94-2.06-.94 2.06-2.06.94z\"/><path d=\"M17.41 7.96l-1.37-1.37c-.4-.4-.92-.59-1.43-.59-.52 0-1.04.2-1.43.59L10.3 9.45l-7.72 7.72c-.78.78-.78 2.05 0 2.83L4 21.41c.39.39.9.59 1.41.59.51 0 1.02-.2 1.41-.59l7.78-7.78 2.81-2.81c.8-.78.8-2.07 0-2.86zM5.41 20L4 18.59l7.72-7.72 1.47 1.35L5.41 20z\"/>\n",
              "  </svg>\n",
              "      </button>\n",
              "      \n",
              "  <style>\n",
              "    .colab-df-container {\n",
              "      display:flex;\n",
              "      flex-wrap:wrap;\n",
              "      gap: 12px;\n",
              "    }\n",
              "\n",
              "    .colab-df-convert {\n",
              "      background-color: #E8F0FE;\n",
              "      border: none;\n",
              "      border-radius: 50%;\n",
              "      cursor: pointer;\n",
              "      display: none;\n",
              "      fill: #1967D2;\n",
              "      height: 32px;\n",
              "      padding: 0 0 0 0;\n",
              "      width: 32px;\n",
              "    }\n",
              "\n",
              "    .colab-df-convert:hover {\n",
              "      background-color: #E2EBFA;\n",
              "      box-shadow: 0px 1px 2px rgba(60, 64, 67, 0.3), 0px 1px 3px 1px rgba(60, 64, 67, 0.15);\n",
              "      fill: #174EA6;\n",
              "    }\n",
              "\n",
              "    [theme=dark] .colab-df-convert {\n",
              "      background-color: #3B4455;\n",
              "      fill: #D2E3FC;\n",
              "    }\n",
              "\n",
              "    [theme=dark] .colab-df-convert:hover {\n",
              "      background-color: #434B5C;\n",
              "      box-shadow: 0px 1px 3px 1px rgba(0, 0, 0, 0.15);\n",
              "      filter: drop-shadow(0px 1px 2px rgba(0, 0, 0, 0.3));\n",
              "      fill: #FFFFFF;\n",
              "    }\n",
              "  </style>\n",
              "\n",
              "      <script>\n",
              "        const buttonEl =\n",
              "          document.querySelector('#df-6148d2a5-9212-4b34-9a3b-a1d4aeb9d8b7 button.colab-df-convert');\n",
              "        buttonEl.style.display =\n",
              "          google.colab.kernel.accessAllowed ? 'block' : 'none';\n",
              "\n",
              "        async function convertToInteractive(key) {\n",
              "          const element = document.querySelector('#df-6148d2a5-9212-4b34-9a3b-a1d4aeb9d8b7');\n",
              "          const dataTable =\n",
              "            await google.colab.kernel.invokeFunction('convertToInteractive',\n",
              "                                                     [key], {});\n",
              "          if (!dataTable) return;\n",
              "\n",
              "          const docLinkHtml = 'Like what you see? Visit the ' +\n",
              "            '<a target=\"_blank\" href=https://colab.research.google.com/notebooks/data_table.ipynb>data table notebook</a>'\n",
              "            + ' to learn more about interactive tables.';\n",
              "          element.innerHTML = '';\n",
              "          dataTable['output_type'] = 'display_data';\n",
              "          await google.colab.output.renderOutput(dataTable, element);\n",
              "          const docLink = document.createElement('div');\n",
              "          docLink.innerHTML = docLinkHtml;\n",
              "          element.appendChild(docLink);\n",
              "        }\n",
              "      </script>\n",
              "    </div>\n",
              "  </div>\n",
              "  "
            ],
            "text/plain": [
              "                               mean  ...  cv_4_valid  cv_5_valid\n",
              "0                     mae  0.018872  ...    0.017103    0.020247\n",
              "1  mean_residual_deviance  0.008059  ...    0.007267    0.008745\n",
              "2                     mse  0.008059  ...    0.007267    0.008745\n",
              "3                      r2  0.967475  ...    0.970555    0.964666\n",
              "4       residual_deviance  0.008059  ...    0.007267    0.008745\n",
              "5                    rmse  0.089588  ...    0.085247    0.093516\n",
              "6                   rmsle  0.062797  ...    0.059557    0.065860\n",
              "\n",
              "[7 rows x 8 columns]"
            ]
          },
          "metadata": {}
        },
        {
          "output_type": "stream",
          "name": "stdout",
          "text": [
            "\n",
            "Scoring History: \n"
          ]
        },
        {
          "output_type": "display_data",
          "data": {
            "text/html": [
              "\n",
              "  <div id=\"df-d5e62cb6-9c6e-4160-a13a-f3adb7f5dfe9\">\n",
              "    <div class=\"colab-df-container\">\n",
              "      <div>\n",
              "<style scoped>\n",
              "    .dataframe tbody tr th:only-of-type {\n",
              "        vertical-align: middle;\n",
              "    }\n",
              "\n",
              "    .dataframe tbody tr th {\n",
              "        vertical-align: top;\n",
              "    }\n",
              "\n",
              "    .dataframe thead th {\n",
              "        text-align: right;\n",
              "    }\n",
              "</style>\n",
              "<table border=\"1\" class=\"dataframe\">\n",
              "  <thead>\n",
              "    <tr style=\"text-align: right;\">\n",
              "      <th></th>\n",
              "      <th></th>\n",
              "      <th>timestamp</th>\n",
              "      <th>duration</th>\n",
              "      <th>number_of_trees</th>\n",
              "      <th>training_rmse</th>\n",
              "      <th>training_mae</th>\n",
              "      <th>training_deviance</th>\n",
              "    </tr>\n",
              "  </thead>\n",
              "  <tbody>\n",
              "    <tr>\n",
              "      <th>0</th>\n",
              "      <td></td>\n",
              "      <td>2022-02-14 03:24:01</td>\n",
              "      <td>15.117 sec</td>\n",
              "      <td>0.0</td>\n",
              "      <td>0.497803</td>\n",
              "      <td>0.495616</td>\n",
              "      <td>0.247808</td>\n",
              "    </tr>\n",
              "    <tr>\n",
              "      <th>1</th>\n",
              "      <td></td>\n",
              "      <td>2022-02-14 03:24:01</td>\n",
              "      <td>15.157 sec</td>\n",
              "      <td>5.0</td>\n",
              "      <td>0.308163</td>\n",
              "      <td>0.304344</td>\n",
              "      <td>0.094964</td>\n",
              "    </tr>\n",
              "    <tr>\n",
              "      <th>2</th>\n",
              "      <td></td>\n",
              "      <td>2022-02-14 03:24:01</td>\n",
              "      <td>15.197 sec</td>\n",
              "      <td>10.0</td>\n",
              "      <td>0.196528</td>\n",
              "      <td>0.187167</td>\n",
              "      <td>0.038623</td>\n",
              "    </tr>\n",
              "    <tr>\n",
              "      <th>3</th>\n",
              "      <td></td>\n",
              "      <td>2022-02-14 03:24:01</td>\n",
              "      <td>15.239 sec</td>\n",
              "      <td>15.0</td>\n",
              "      <td>0.136604</td>\n",
              "      <td>0.118033</td>\n",
              "      <td>0.018661</td>\n",
              "    </tr>\n",
              "    <tr>\n",
              "      <th>4</th>\n",
              "      <td></td>\n",
              "      <td>2022-02-14 03:24:01</td>\n",
              "      <td>15.278 sec</td>\n",
              "      <td>20.0</td>\n",
              "      <td>0.106526</td>\n",
              "      <td>0.076447</td>\n",
              "      <td>0.011348</td>\n",
              "    </tr>\n",
              "    <tr>\n",
              "      <th>5</th>\n",
              "      <td></td>\n",
              "      <td>2022-02-14 03:24:01</td>\n",
              "      <td>15.316 sec</td>\n",
              "      <td>25.0</td>\n",
              "      <td>0.092855</td>\n",
              "      <td>0.051428</td>\n",
              "      <td>0.008622</td>\n",
              "    </tr>\n",
              "    <tr>\n",
              "      <th>6</th>\n",
              "      <td></td>\n",
              "      <td>2022-02-14 03:24:01</td>\n",
              "      <td>15.355 sec</td>\n",
              "      <td>30.0</td>\n",
              "      <td>0.086977</td>\n",
              "      <td>0.037012</td>\n",
              "      <td>0.007565</td>\n",
              "    </tr>\n",
              "    <tr>\n",
              "      <th>7</th>\n",
              "      <td></td>\n",
              "      <td>2022-02-14 03:24:01</td>\n",
              "      <td>15.403 sec</td>\n",
              "      <td>35.0</td>\n",
              "      <td>0.084263</td>\n",
              "      <td>0.028104</td>\n",
              "      <td>0.007100</td>\n",
              "    </tr>\n",
              "    <tr>\n",
              "      <th>8</th>\n",
              "      <td></td>\n",
              "      <td>2022-02-14 03:24:01</td>\n",
              "      <td>15.441 sec</td>\n",
              "      <td>40.0</td>\n",
              "      <td>0.082299</td>\n",
              "      <td>0.022645</td>\n",
              "      <td>0.006773</td>\n",
              "    </tr>\n",
              "    <tr>\n",
              "      <th>9</th>\n",
              "      <td></td>\n",
              "      <td>2022-02-14 03:24:01</td>\n",
              "      <td>15.481 sec</td>\n",
              "      <td>45.0</td>\n",
              "      <td>0.081441</td>\n",
              "      <td>0.019694</td>\n",
              "      <td>0.006633</td>\n",
              "    </tr>\n",
              "    <tr>\n",
              "      <th>10</th>\n",
              "      <td></td>\n",
              "      <td>2022-02-14 03:24:01</td>\n",
              "      <td>15.519 sec</td>\n",
              "      <td>50.0</td>\n",
              "      <td>0.080631</td>\n",
              "      <td>0.017642</td>\n",
              "      <td>0.006501</td>\n",
              "    </tr>\n",
              "    <tr>\n",
              "      <th>11</th>\n",
              "      <td></td>\n",
              "      <td>2022-02-14 03:24:01</td>\n",
              "      <td>15.557 sec</td>\n",
              "      <td>55.0</td>\n",
              "      <td>0.080147</td>\n",
              "      <td>0.016672</td>\n",
              "      <td>0.006423</td>\n",
              "    </tr>\n",
              "    <tr>\n",
              "      <th>12</th>\n",
              "      <td></td>\n",
              "      <td>2022-02-14 03:24:01</td>\n",
              "      <td>15.595 sec</td>\n",
              "      <td>60.0</td>\n",
              "      <td>0.079902</td>\n",
              "      <td>0.016486</td>\n",
              "      <td>0.006384</td>\n",
              "    </tr>\n",
              "    <tr>\n",
              "      <th>13</th>\n",
              "      <td></td>\n",
              "      <td>2022-02-14 03:24:01</td>\n",
              "      <td>15.660 sec</td>\n",
              "      <td>65.0</td>\n",
              "      <td>0.079755</td>\n",
              "      <td>0.016460</td>\n",
              "      <td>0.006361</td>\n",
              "    </tr>\n",
              "    <tr>\n",
              "      <th>14</th>\n",
              "      <td></td>\n",
              "      <td>2022-02-14 03:24:01</td>\n",
              "      <td>15.681 sec</td>\n",
              "      <td>67.0</td>\n",
              "      <td>0.079683</td>\n",
              "      <td>0.016501</td>\n",
              "      <td>0.006349</td>\n",
              "    </tr>\n",
              "  </tbody>\n",
              "</table>\n",
              "</div>\n",
              "      <button class=\"colab-df-convert\" onclick=\"convertToInteractive('df-d5e62cb6-9c6e-4160-a13a-f3adb7f5dfe9')\"\n",
              "              title=\"Convert this dataframe to an interactive table.\"\n",
              "              style=\"display:none;\">\n",
              "        \n",
              "  <svg xmlns=\"http://www.w3.org/2000/svg\" height=\"24px\"viewBox=\"0 0 24 24\"\n",
              "       width=\"24px\">\n",
              "    <path d=\"M0 0h24v24H0V0z\" fill=\"none\"/>\n",
              "    <path d=\"M18.56 5.44l.94 2.06.94-2.06 2.06-.94-2.06-.94-.94-2.06-.94 2.06-2.06.94zm-11 1L8.5 8.5l.94-2.06 2.06-.94-2.06-.94L8.5 2.5l-.94 2.06-2.06.94zm10 10l.94 2.06.94-2.06 2.06-.94-2.06-.94-.94-2.06-.94 2.06-2.06.94z\"/><path d=\"M17.41 7.96l-1.37-1.37c-.4-.4-.92-.59-1.43-.59-.52 0-1.04.2-1.43.59L10.3 9.45l-7.72 7.72c-.78.78-.78 2.05 0 2.83L4 21.41c.39.39.9.59 1.41.59.51 0 1.02-.2 1.41-.59l7.78-7.78 2.81-2.81c.8-.78.8-2.07 0-2.86zM5.41 20L4 18.59l7.72-7.72 1.47 1.35L5.41 20z\"/>\n",
              "  </svg>\n",
              "      </button>\n",
              "      \n",
              "  <style>\n",
              "    .colab-df-container {\n",
              "      display:flex;\n",
              "      flex-wrap:wrap;\n",
              "      gap: 12px;\n",
              "    }\n",
              "\n",
              "    .colab-df-convert {\n",
              "      background-color: #E8F0FE;\n",
              "      border: none;\n",
              "      border-radius: 50%;\n",
              "      cursor: pointer;\n",
              "      display: none;\n",
              "      fill: #1967D2;\n",
              "      height: 32px;\n",
              "      padding: 0 0 0 0;\n",
              "      width: 32px;\n",
              "    }\n",
              "\n",
              "    .colab-df-convert:hover {\n",
              "      background-color: #E2EBFA;\n",
              "      box-shadow: 0px 1px 2px rgba(60, 64, 67, 0.3), 0px 1px 3px 1px rgba(60, 64, 67, 0.15);\n",
              "      fill: #174EA6;\n",
              "    }\n",
              "\n",
              "    [theme=dark] .colab-df-convert {\n",
              "      background-color: #3B4455;\n",
              "      fill: #D2E3FC;\n",
              "    }\n",
              "\n",
              "    [theme=dark] .colab-df-convert:hover {\n",
              "      background-color: #434B5C;\n",
              "      box-shadow: 0px 1px 3px 1px rgba(0, 0, 0, 0.15);\n",
              "      filter: drop-shadow(0px 1px 2px rgba(0, 0, 0, 0.3));\n",
              "      fill: #FFFFFF;\n",
              "    }\n",
              "  </style>\n",
              "\n",
              "      <script>\n",
              "        const buttonEl =\n",
              "          document.querySelector('#df-d5e62cb6-9c6e-4160-a13a-f3adb7f5dfe9 button.colab-df-convert');\n",
              "        buttonEl.style.display =\n",
              "          google.colab.kernel.accessAllowed ? 'block' : 'none';\n",
              "\n",
              "        async function convertToInteractive(key) {\n",
              "          const element = document.querySelector('#df-d5e62cb6-9c6e-4160-a13a-f3adb7f5dfe9');\n",
              "          const dataTable =\n",
              "            await google.colab.kernel.invokeFunction('convertToInteractive',\n",
              "                                                     [key], {});\n",
              "          if (!dataTable) return;\n",
              "\n",
              "          const docLinkHtml = 'Like what you see? Visit the ' +\n",
              "            '<a target=\"_blank\" href=https://colab.research.google.com/notebooks/data_table.ipynb>data table notebook</a>'\n",
              "            + ' to learn more about interactive tables.';\n",
              "          element.innerHTML = '';\n",
              "          dataTable['output_type'] = 'display_data';\n",
              "          await google.colab.output.renderOutput(dataTable, element);\n",
              "          const docLink = document.createElement('div');\n",
              "          docLink.innerHTML = docLinkHtml;\n",
              "          element.appendChild(docLink);\n",
              "        }\n",
              "      </script>\n",
              "    </div>\n",
              "  </div>\n",
              "  "
            ],
            "text/plain": [
              "                timestamp  ... training_mae  training_deviance\n",
              "0     2022-02-14 03:24:01  ...     0.495616           0.247808\n",
              "1     2022-02-14 03:24:01  ...     0.304344           0.094964\n",
              "2     2022-02-14 03:24:01  ...     0.187167           0.038623\n",
              "3     2022-02-14 03:24:01  ...     0.118033           0.018661\n",
              "4     2022-02-14 03:24:01  ...     0.076447           0.011348\n",
              "5     2022-02-14 03:24:01  ...     0.051428           0.008622\n",
              "6     2022-02-14 03:24:01  ...     0.037012           0.007565\n",
              "7     2022-02-14 03:24:01  ...     0.028104           0.007100\n",
              "8     2022-02-14 03:24:01  ...     0.022645           0.006773\n",
              "9     2022-02-14 03:24:01  ...     0.019694           0.006633\n",
              "10    2022-02-14 03:24:01  ...     0.017642           0.006501\n",
              "11    2022-02-14 03:24:01  ...     0.016672           0.006423\n",
              "12    2022-02-14 03:24:01  ...     0.016486           0.006384\n",
              "13    2022-02-14 03:24:01  ...     0.016460           0.006361\n",
              "14    2022-02-14 03:24:01  ...     0.016501           0.006349\n",
              "\n",
              "[15 rows x 7 columns]"
            ]
          },
          "metadata": {}
        },
        {
          "output_type": "stream",
          "name": "stdout",
          "text": [
            "\n",
            "Variable Importances: \n"
          ]
        },
        {
          "output_type": "display_data",
          "data": {
            "text/html": [
              "\n",
              "  <div id=\"df-407532d5-6cd7-4d29-b571-c39c9837fa92\">\n",
              "    <div class=\"colab-df-container\">\n",
              "      <div>\n",
              "<style scoped>\n",
              "    .dataframe tbody tr th:only-of-type {\n",
              "        vertical-align: middle;\n",
              "    }\n",
              "\n",
              "    .dataframe tbody tr th {\n",
              "        vertical-align: top;\n",
              "    }\n",
              "\n",
              "    .dataframe thead th {\n",
              "        text-align: right;\n",
              "    }\n",
              "</style>\n",
              "<table border=\"1\" class=\"dataframe\">\n",
              "  <thead>\n",
              "    <tr style=\"text-align: right;\">\n",
              "      <th></th>\n",
              "      <th>variable</th>\n",
              "      <th>relative_importance</th>\n",
              "      <th>scaled_importance</th>\n",
              "      <th>percentage</th>\n",
              "    </tr>\n",
              "  </thead>\n",
              "  <tbody>\n",
              "    <tr>\n",
              "      <th>0</th>\n",
              "      <td>AspectRation</td>\n",
              "      <td>12772.312500</td>\n",
              "      <td>1.000000</td>\n",
              "      <td>0.699842</td>\n",
              "    </tr>\n",
              "    <tr>\n",
              "      <th>1</th>\n",
              "      <td>Area</td>\n",
              "      <td>3760.722656</td>\n",
              "      <td>0.294443</td>\n",
              "      <td>0.206064</td>\n",
              "    </tr>\n",
              "    <tr>\n",
              "      <th>2</th>\n",
              "      <td>Roundness</td>\n",
              "      <td>1676.372437</td>\n",
              "      <td>0.131251</td>\n",
              "      <td>0.091855</td>\n",
              "    </tr>\n",
              "    <tr>\n",
              "      <th>3</th>\n",
              "      <td>Extent</td>\n",
              "      <td>40.866051</td>\n",
              "      <td>0.003200</td>\n",
              "      <td>0.002239</td>\n",
              "    </tr>\n",
              "  </tbody>\n",
              "</table>\n",
              "</div>\n",
              "      <button class=\"colab-df-convert\" onclick=\"convertToInteractive('df-407532d5-6cd7-4d29-b571-c39c9837fa92')\"\n",
              "              title=\"Convert this dataframe to an interactive table.\"\n",
              "              style=\"display:none;\">\n",
              "        \n",
              "  <svg xmlns=\"http://www.w3.org/2000/svg\" height=\"24px\"viewBox=\"0 0 24 24\"\n",
              "       width=\"24px\">\n",
              "    <path d=\"M0 0h24v24H0V0z\" fill=\"none\"/>\n",
              "    <path d=\"M18.56 5.44l.94 2.06.94-2.06 2.06-.94-2.06-.94-.94-2.06-.94 2.06-2.06.94zm-11 1L8.5 8.5l.94-2.06 2.06-.94-2.06-.94L8.5 2.5l-.94 2.06-2.06.94zm10 10l.94 2.06.94-2.06 2.06-.94-2.06-.94-.94-2.06-.94 2.06-2.06.94z\"/><path d=\"M17.41 7.96l-1.37-1.37c-.4-.4-.92-.59-1.43-.59-.52 0-1.04.2-1.43.59L10.3 9.45l-7.72 7.72c-.78.78-.78 2.05 0 2.83L4 21.41c.39.39.9.59 1.41.59.51 0 1.02-.2 1.41-.59l7.78-7.78 2.81-2.81c.8-.78.8-2.07 0-2.86zM5.41 20L4 18.59l7.72-7.72 1.47 1.35L5.41 20z\"/>\n",
              "  </svg>\n",
              "      </button>\n",
              "      \n",
              "  <style>\n",
              "    .colab-df-container {\n",
              "      display:flex;\n",
              "      flex-wrap:wrap;\n",
              "      gap: 12px;\n",
              "    }\n",
              "\n",
              "    .colab-df-convert {\n",
              "      background-color: #E8F0FE;\n",
              "      border: none;\n",
              "      border-radius: 50%;\n",
              "      cursor: pointer;\n",
              "      display: none;\n",
              "      fill: #1967D2;\n",
              "      height: 32px;\n",
              "      padding: 0 0 0 0;\n",
              "      width: 32px;\n",
              "    }\n",
              "\n",
              "    .colab-df-convert:hover {\n",
              "      background-color: #E2EBFA;\n",
              "      box-shadow: 0px 1px 2px rgba(60, 64, 67, 0.3), 0px 1px 3px 1px rgba(60, 64, 67, 0.15);\n",
              "      fill: #174EA6;\n",
              "    }\n",
              "\n",
              "    [theme=dark] .colab-df-convert {\n",
              "      background-color: #3B4455;\n",
              "      fill: #D2E3FC;\n",
              "    }\n",
              "\n",
              "    [theme=dark] .colab-df-convert:hover {\n",
              "      background-color: #434B5C;\n",
              "      box-shadow: 0px 1px 3px 1px rgba(0, 0, 0, 0.15);\n",
              "      filter: drop-shadow(0px 1px 2px rgba(0, 0, 0, 0.3));\n",
              "      fill: #FFFFFF;\n",
              "    }\n",
              "  </style>\n",
              "\n",
              "      <script>\n",
              "        const buttonEl =\n",
              "          document.querySelector('#df-407532d5-6cd7-4d29-b571-c39c9837fa92 button.colab-df-convert');\n",
              "        buttonEl.style.display =\n",
              "          google.colab.kernel.accessAllowed ? 'block' : 'none';\n",
              "\n",
              "        async function convertToInteractive(key) {\n",
              "          const element = document.querySelector('#df-407532d5-6cd7-4d29-b571-c39c9837fa92');\n",
              "          const dataTable =\n",
              "            await google.colab.kernel.invokeFunction('convertToInteractive',\n",
              "                                                     [key], {});\n",
              "          if (!dataTable) return;\n",
              "\n",
              "          const docLinkHtml = 'Like what you see? Visit the ' +\n",
              "            '<a target=\"_blank\" href=https://colab.research.google.com/notebooks/data_table.ipynb>data table notebook</a>'\n",
              "            + ' to learn more about interactive tables.';\n",
              "          element.innerHTML = '';\n",
              "          dataTable['output_type'] = 'display_data';\n",
              "          await google.colab.output.renderOutput(dataTable, element);\n",
              "          const docLink = document.createElement('div');\n",
              "          docLink.innerHTML = docLinkHtml;\n",
              "          element.appendChild(docLink);\n",
              "        }\n",
              "      </script>\n",
              "    </div>\n",
              "  </div>\n",
              "  "
            ],
            "text/plain": [
              "       variable  relative_importance  scaled_importance  percentage\n",
              "0  AspectRation         12772.312500           1.000000    0.699842\n",
              "1          Area          3760.722656           0.294443    0.206064\n",
              "2     Roundness          1676.372437           0.131251    0.091855\n",
              "3        Extent            40.866051           0.003200    0.002239"
            ]
          },
          "metadata": {}
        },
        {
          "output_type": "stream",
          "name": "stdout",
          "text": [
            "<bound method ModelBase.cross_validation_metrics_summary of >\n"
          ]
        }
      ]
    },
    {
      "cell_type": "markdown",
      "source": [
        "# Important Hyperparameters"
      ],
      "metadata": {
        "id": "XNvcxykIT6yR"
      }
    },
    {
      "cell_type": "code",
      "source": [
        "from sklearn.ensemble import GradientBoostingClassifier\n",
        "from sklearn.model_selection import train_test_split\n",
        "from sklearn.metrics import roc_curve, auc"
      ],
      "metadata": {
        "id": "jhaFYc3B8Wm1"
      },
      "execution_count": 46,
      "outputs": []
    },
    {
      "cell_type": "code",
      "source": [
        "X = df1.iloc[:,:-1]\n",
        "y = df1.iloc[:,-1]"
      ],
      "metadata": {
        "id": "zhfq7M8BEZJH"
      },
      "execution_count": 47,
      "outputs": []
    },
    {
      "cell_type": "code",
      "source": [
        "X_train, X_test, y_train, y_test = train_test_split(X, y, test_size=0.2, random_state=0)"
      ],
      "metadata": {
        "id": "DW1GtRQiChEN"
      },
      "execution_count": 48,
      "outputs": []
    },
    {
      "cell_type": "markdown",
      "source": [
        "Testing a range of parameters to find the best values.\n",
        "https://inria.github.io/scikit-learn-mooc/python_scripts/ensemble_hyperparameters.html"
      ],
      "metadata": {
        "id": "EeeTPU09BWfb"
      }
    },
    {
      "cell_type": "code",
      "source": [
        "from sklearn.model_selection import RandomizedSearchCV\n",
        "from scipy.stats import loguniform\n",
        "from sklearn.ensemble import GradientBoostingClassifier\n",
        "\n",
        "param_distributions = {\n",
        "    \"n_estimators\": [1, 2, 5, 10, 20, 50, 100, 200, 500,700],\n",
        "    \"max_leaf_nodes\": [2, 5, 10, 20, 50, 100],\n",
        "    \"learning_rate\": loguniform(0.01, 1),\n",
        "    \"max_depth\":   np.linspace(1, 32, 32, endpoint=True),\n",
        "}\n",
        "search_cv = RandomizedSearchCV(\n",
        "    GradientBoostingClassifier(), param_distributions=param_distributions,\n",
        "    scoring=\"neg_mean_absolute_error\", n_iter=20, random_state=0, n_jobs=2\n",
        ")\n",
        "search_cv.fit(X_train, y_train)\n",
        "\n",
        "columns = [f\"param_{name}\" for name in param_distributions.keys()]\n",
        "columns += [\"mean_test_error\", \"std_test_error\"]\n",
        "cv_results = pd.DataFrame(search_cv.cv_results_)\n",
        "cv_results[\"mean_test_error\"] = -cv_results[\"mean_test_score\"]\n",
        "cv_results[\"std_test_error\"] = cv_results[\"std_test_score\"]\n",
        "cv_results[columns].sort_values(by=\"mean_test_error\")"
      ],
      "metadata": {
        "colab": {
          "base_uri": "https://localhost:8080/",
          "height": 676
        },
        "id": "uYO1HoqD5afy",
        "outputId": "c6b3fe13-ec9a-4591-8c96-0cb4cd784306"
      },
      "execution_count": 49,
      "outputs": [
        {
          "output_type": "execute_result",
          "data": {
            "text/html": [
              "\n",
              "  <div id=\"df-abec38f4-3f36-4f17-850b-f08bda9cb956\">\n",
              "    <div class=\"colab-df-container\">\n",
              "      <div>\n",
              "<style scoped>\n",
              "    .dataframe tbody tr th:only-of-type {\n",
              "        vertical-align: middle;\n",
              "    }\n",
              "\n",
              "    .dataframe tbody tr th {\n",
              "        vertical-align: top;\n",
              "    }\n",
              "\n",
              "    .dataframe thead th {\n",
              "        text-align: right;\n",
              "    }\n",
              "</style>\n",
              "<table border=\"1\" class=\"dataframe\">\n",
              "  <thead>\n",
              "    <tr style=\"text-align: right;\">\n",
              "      <th></th>\n",
              "      <th>param_n_estimators</th>\n",
              "      <th>param_max_leaf_nodes</th>\n",
              "      <th>param_learning_rate</th>\n",
              "      <th>param_max_depth</th>\n",
              "      <th>mean_test_error</th>\n",
              "      <th>std_test_error</th>\n",
              "    </tr>\n",
              "  </thead>\n",
              "  <tbody>\n",
              "    <tr>\n",
              "      <th>2</th>\n",
              "      <td>500</td>\n",
              "      <td>2</td>\n",
              "      <td>0.195789</td>\n",
              "      <td>5.0</td>\n",
              "      <td>0.010104</td>\n",
              "      <td>0.001826</td>\n",
              "    </tr>\n",
              "    <tr>\n",
              "      <th>15</th>\n",
              "      <td>5</td>\n",
              "      <td>20</td>\n",
              "      <td>0.215543</td>\n",
              "      <td>24.0</td>\n",
              "      <td>0.010105</td>\n",
              "      <td>0.001577</td>\n",
              "    </tr>\n",
              "    <tr>\n",
              "      <th>1</th>\n",
              "      <td>10</td>\n",
              "      <td>5</td>\n",
              "      <td>0.519866</td>\n",
              "      <td>8.0</td>\n",
              "      <td>0.010311</td>\n",
              "      <td>0.001698</td>\n",
              "    </tr>\n",
              "    <tr>\n",
              "      <th>7</th>\n",
              "      <td>10</td>\n",
              "      <td>20</td>\n",
              "      <td>0.088556</td>\n",
              "      <td>18.0</td>\n",
              "      <td>0.010311</td>\n",
              "      <td>0.001426</td>\n",
              "    </tr>\n",
              "    <tr>\n",
              "      <th>19</th>\n",
              "      <td>20</td>\n",
              "      <td>2</td>\n",
              "      <td>0.978586</td>\n",
              "      <td>21.0</td>\n",
              "      <td>0.010380</td>\n",
              "      <td>0.002221</td>\n",
              "    </tr>\n",
              "    <tr>\n",
              "      <th>4</th>\n",
              "      <td>700</td>\n",
              "      <td>2</td>\n",
              "      <td>0.709894</td>\n",
              "      <td>14.0</td>\n",
              "      <td>0.010517</td>\n",
              "      <td>0.001902</td>\n",
              "    </tr>\n",
              "    <tr>\n",
              "      <th>13</th>\n",
              "      <td>500</td>\n",
              "      <td>5</td>\n",
              "      <td>0.05929</td>\n",
              "      <td>5.0</td>\n",
              "      <td>0.010517</td>\n",
              "      <td>0.002191</td>\n",
              "    </tr>\n",
              "    <tr>\n",
              "      <th>5</th>\n",
              "      <td>50</td>\n",
              "      <td>20</td>\n",
              "      <td>0.197854</td>\n",
              "      <td>17.0</td>\n",
              "      <td>0.010586</td>\n",
              "      <td>0.002728</td>\n",
              "    </tr>\n",
              "    <tr>\n",
              "      <th>16</th>\n",
              "      <td>50</td>\n",
              "      <td>20</td>\n",
              "      <td>0.018107</td>\n",
              "      <td>15.0</td>\n",
              "      <td>0.010723</td>\n",
              "      <td>0.001513</td>\n",
              "    </tr>\n",
              "    <tr>\n",
              "      <th>10</th>\n",
              "      <td>5</td>\n",
              "      <td>20</td>\n",
              "      <td>0.088553</td>\n",
              "      <td>31.0</td>\n",
              "      <td>0.011136</td>\n",
              "      <td>0.001242</td>\n",
              "    </tr>\n",
              "    <tr>\n",
              "      <th>17</th>\n",
              "      <td>20</td>\n",
              "      <td>50</td>\n",
              "      <td>0.044678</td>\n",
              "      <td>11.0</td>\n",
              "      <td>0.011411</td>\n",
              "      <td>0.001837</td>\n",
              "    </tr>\n",
              "    <tr>\n",
              "      <th>18</th>\n",
              "      <td>10</td>\n",
              "      <td>50</td>\n",
              "      <td>0.827749</td>\n",
              "      <td>16.0</td>\n",
              "      <td>0.012579</td>\n",
              "      <td>0.001941</td>\n",
              "    </tr>\n",
              "    <tr>\n",
              "      <th>14</th>\n",
              "      <td>700</td>\n",
              "      <td>5</td>\n",
              "      <td>0.637819</td>\n",
              "      <td>8.0</td>\n",
              "      <td>0.012854</td>\n",
              "      <td>0.001951</td>\n",
              "    </tr>\n",
              "    <tr>\n",
              "      <th>6</th>\n",
              "      <td>5</td>\n",
              "      <td>2</td>\n",
              "      <td>0.360009</td>\n",
              "      <td>16.0</td>\n",
              "      <td>0.035331</td>\n",
              "      <td>0.003101</td>\n",
              "    </tr>\n",
              "    <tr>\n",
              "      <th>0</th>\n",
              "      <td>10</td>\n",
              "      <td>2</td>\n",
              "      <td>0.125207</td>\n",
              "      <td>22.0</td>\n",
              "      <td>0.036088</td>\n",
              "      <td>0.004849</td>\n",
              "    </tr>\n",
              "    <tr>\n",
              "      <th>12</th>\n",
              "      <td>20</td>\n",
              "      <td>2</td>\n",
              "      <td>0.044492</td>\n",
              "      <td>6.0</td>\n",
              "      <td>0.036706</td>\n",
              "      <td>0.004386</td>\n",
              "    </tr>\n",
              "    <tr>\n",
              "      <th>8</th>\n",
              "      <td>2</td>\n",
              "      <td>2</td>\n",
              "      <td>0.227908</td>\n",
              "      <td>8.0</td>\n",
              "      <td>0.037944</td>\n",
              "      <td>0.004608</td>\n",
              "    </tr>\n",
              "    <tr>\n",
              "      <th>9</th>\n",
              "      <td>20</td>\n",
              "      <td>2</td>\n",
              "      <td>0.019351</td>\n",
              "      <td>32.0</td>\n",
              "      <td>0.038081</td>\n",
              "      <td>0.004571</td>\n",
              "    </tr>\n",
              "    <tr>\n",
              "      <th>11</th>\n",
              "      <td>1</td>\n",
              "      <td>2</td>\n",
              "      <td>0.081715</td>\n",
              "      <td>3.0</td>\n",
              "      <td>0.450027</td>\n",
              "      <td>0.000131</td>\n",
              "    </tr>\n",
              "    <tr>\n",
              "      <th>3</th>\n",
              "      <td>2</td>\n",
              "      <td>2</td>\n",
              "      <td>0.0351</td>\n",
              "      <td>2.0</td>\n",
              "      <td>0.450027</td>\n",
              "      <td>0.000131</td>\n",
              "    </tr>\n",
              "  </tbody>\n",
              "</table>\n",
              "</div>\n",
              "      <button class=\"colab-df-convert\" onclick=\"convertToInteractive('df-abec38f4-3f36-4f17-850b-f08bda9cb956')\"\n",
              "              title=\"Convert this dataframe to an interactive table.\"\n",
              "              style=\"display:none;\">\n",
              "        \n",
              "  <svg xmlns=\"http://www.w3.org/2000/svg\" height=\"24px\"viewBox=\"0 0 24 24\"\n",
              "       width=\"24px\">\n",
              "    <path d=\"M0 0h24v24H0V0z\" fill=\"none\"/>\n",
              "    <path d=\"M18.56 5.44l.94 2.06.94-2.06 2.06-.94-2.06-.94-.94-2.06-.94 2.06-2.06.94zm-11 1L8.5 8.5l.94-2.06 2.06-.94-2.06-.94L8.5 2.5l-.94 2.06-2.06.94zm10 10l.94 2.06.94-2.06 2.06-.94-2.06-.94-.94-2.06-.94 2.06-2.06.94z\"/><path d=\"M17.41 7.96l-1.37-1.37c-.4-.4-.92-.59-1.43-.59-.52 0-1.04.2-1.43.59L10.3 9.45l-7.72 7.72c-.78.78-.78 2.05 0 2.83L4 21.41c.39.39.9.59 1.41.59.51 0 1.02-.2 1.41-.59l7.78-7.78 2.81-2.81c.8-.78.8-2.07 0-2.86zM5.41 20L4 18.59l7.72-7.72 1.47 1.35L5.41 20z\"/>\n",
              "  </svg>\n",
              "      </button>\n",
              "      \n",
              "  <style>\n",
              "    .colab-df-container {\n",
              "      display:flex;\n",
              "      flex-wrap:wrap;\n",
              "      gap: 12px;\n",
              "    }\n",
              "\n",
              "    .colab-df-convert {\n",
              "      background-color: #E8F0FE;\n",
              "      border: none;\n",
              "      border-radius: 50%;\n",
              "      cursor: pointer;\n",
              "      display: none;\n",
              "      fill: #1967D2;\n",
              "      height: 32px;\n",
              "      padding: 0 0 0 0;\n",
              "      width: 32px;\n",
              "    }\n",
              "\n",
              "    .colab-df-convert:hover {\n",
              "      background-color: #E2EBFA;\n",
              "      box-shadow: 0px 1px 2px rgba(60, 64, 67, 0.3), 0px 1px 3px 1px rgba(60, 64, 67, 0.15);\n",
              "      fill: #174EA6;\n",
              "    }\n",
              "\n",
              "    [theme=dark] .colab-df-convert {\n",
              "      background-color: #3B4455;\n",
              "      fill: #D2E3FC;\n",
              "    }\n",
              "\n",
              "    [theme=dark] .colab-df-convert:hover {\n",
              "      background-color: #434B5C;\n",
              "      box-shadow: 0px 1px 3px 1px rgba(0, 0, 0, 0.15);\n",
              "      filter: drop-shadow(0px 1px 2px rgba(0, 0, 0, 0.3));\n",
              "      fill: #FFFFFF;\n",
              "    }\n",
              "  </style>\n",
              "\n",
              "      <script>\n",
              "        const buttonEl =\n",
              "          document.querySelector('#df-abec38f4-3f36-4f17-850b-f08bda9cb956 button.colab-df-convert');\n",
              "        buttonEl.style.display =\n",
              "          google.colab.kernel.accessAllowed ? 'block' : 'none';\n",
              "\n",
              "        async function convertToInteractive(key) {\n",
              "          const element = document.querySelector('#df-abec38f4-3f36-4f17-850b-f08bda9cb956');\n",
              "          const dataTable =\n",
              "            await google.colab.kernel.invokeFunction('convertToInteractive',\n",
              "                                                     [key], {});\n",
              "          if (!dataTable) return;\n",
              "\n",
              "          const docLinkHtml = 'Like what you see? Visit the ' +\n",
              "            '<a target=\"_blank\" href=https://colab.research.google.com/notebooks/data_table.ipynb>data table notebook</a>'\n",
              "            + ' to learn more about interactive tables.';\n",
              "          element.innerHTML = '';\n",
              "          dataTable['output_type'] = 'display_data';\n",
              "          await google.colab.output.renderOutput(dataTable, element);\n",
              "          const docLink = document.createElement('div');\n",
              "          docLink.innerHTML = docLinkHtml;\n",
              "          element.appendChild(docLink);\n",
              "        }\n",
              "      </script>\n",
              "    </div>\n",
              "  </div>\n",
              "  "
            ],
            "text/plain": [
              "   param_n_estimators param_max_leaf_nodes  ... mean_test_error std_test_error\n",
              "2                 500                    2  ...        0.010104       0.001826\n",
              "15                  5                   20  ...        0.010105       0.001577\n",
              "1                  10                    5  ...        0.010311       0.001698\n",
              "7                  10                   20  ...        0.010311       0.001426\n",
              "19                 20                    2  ...        0.010380       0.002221\n",
              "4                 700                    2  ...        0.010517       0.001902\n",
              "13                500                    5  ...        0.010517       0.002191\n",
              "5                  50                   20  ...        0.010586       0.002728\n",
              "16                 50                   20  ...        0.010723       0.001513\n",
              "10                  5                   20  ...        0.011136       0.001242\n",
              "17                 20                   50  ...        0.011411       0.001837\n",
              "18                 10                   50  ...        0.012579       0.001941\n",
              "14                700                    5  ...        0.012854       0.001951\n",
              "6                   5                    2  ...        0.035331       0.003101\n",
              "0                  10                    2  ...        0.036088       0.004849\n",
              "12                 20                    2  ...        0.036706       0.004386\n",
              "8                   2                    2  ...        0.037944       0.004608\n",
              "9                  20                    2  ...        0.038081       0.004571\n",
              "11                  1                    2  ...        0.450027       0.000131\n",
              "3                   2                    2  ...        0.450027       0.000131\n",
              "\n",
              "[20 rows x 6 columns]"
            ]
          },
          "metadata": {},
          "execution_count": 49
        }
      ]
    },
    {
      "cell_type": "code",
      "source": [
        "from matplotlib.legend_handler import HandlerLine2D\n",
        "n_estimators = [1, 2, 4, 8, 16, 32, 64, 100, 200]\n",
        "max_depthss = [1, 32, 32]\n",
        "learning_rates = [1, 0.5, 0.25, 0.1, 0.05, 0.01, 0.8, 0.6, 0.2]\n",
        "train_results = []\n",
        "test_results = []\n",
        "for i in range(len(n_estimators)):\n",
        "   model = GradientBoostingClassifier(n_estimators = n_estimators[i],learning_rate = learning_rates[i],max_depth = max_depthss[i%3], random_state=0)\n",
        "   model.fit(X_train, y_train)\n",
        "   train_pred = model.predict(X_train)\n",
        "   false_positive_rate, true_positive_rate, thresholds = roc_curve(y_train, train_pred)\n",
        "   roc_auc = auc(false_positive_rate, true_positive_rate)\n",
        "   train_results.append(roc_auc)\n",
        "   y_pred = model.predict(X_test)\n",
        "   false_positive_rate, true_positive_rate, thresholds = roc_curve(y_test, y_pred)\n",
        "   roc_auc = auc(false_positive_rate, true_positive_rate)\n",
        "   test_results.append(roc_auc)"
      ],
      "metadata": {
        "id": "KOiTL7lf-WlP"
      },
      "execution_count": 50,
      "outputs": []
    },
    {
      "cell_type": "code",
      "source": [
        "learning_rates.sort()\n",
        "values = [n_estimators, learning_rates]\n",
        "for i in values:\n",
        "    line1, = plt.plot(i, train_results, 'b', label='Train AUC')\n",
        "    line2, = plt.plot(i, test_results, 'r', label='Test AUC')\n",
        "    plt.legend(handler_map={line1: HandlerLine2D(numpoints=2)})\n",
        "    plt.ylabel('AUC score')\n",
        "    if len(i) ==3:\n",
        "        plt.xlabel('max_depth')\n",
        "    else:\n",
        "        if i[-1] == 200:\n",
        "            plt.xlabel('n_estimators')\n",
        "        else:\n",
        "            plt.xlabel('learning_rate')\n",
        "    plt.show()"
      ],
      "metadata": {
        "colab": {
          "base_uri": "https://localhost:8080/",
          "height": 553
        },
        "id": "DAGe2Sv8Pka6",
        "outputId": "30919f56-4ec1-42d4-937d-68212acf76dc"
      },
      "execution_count": 51,
      "outputs": [
        {
          "output_type": "display_data",
          "data": {
            "image/png": "[encoded data removed]",
            "text/plain": [
              "<Figure size 432x288 with 1 Axes>"
            ]
          },
          "metadata": {
            "needs_background": "light"
          }
        },
        {
          "output_type": "display_data",
          "data": {
            "image/png": "[encoded data removed]",
            "text/plain": [
              "<Figure size 432x288 with 1 Axes>"
            ]
          },
          "metadata": {
            "needs_background": "light"
          }
        }
      ]
    },
    {
      "cell_type": "code",
      "source": [
        "print(train_results,\" \\n\",test_results)"
      ],
      "metadata": {
        "colab": {
          "base_uri": "https://localhost:8080/"
        },
        "id": "NVivzh1NLc6e",
        "outputId": "c9323198-eb6d-44eb-ce73-9a35107fa268"
      },
      "execution_count": 52,
      "outputs": [
        {
          "output_type": "stream",
          "name": "stdout",
          "text": [
            "[0.9640680606844108, 1.0, 1.0, 0.9647139151137497, 1.0, 1.0, 0.9911614549785065, 1.0, 1.0]  \n",
            " [0.9617923423687138, 0.980542159416896, 0.9804916952071502, 0.9626490142556056, 0.9804916952071502, 0.9803907667876588, 0.9880026296274612, 0.9807941755459283, 0.9810966558847063]\n"
          ]
        }
      ]
    },
    {
      "cell_type": "markdown",
      "source": [
        "# Checking if Regularization is required"
      ],
      "metadata": {
        "id": "IBGNFHtUuLP2"
      }
    },
    {
      "cell_type": "code",
      "source": [
        "df1 = df1[['Area','Extent','Roundness','AspectRation','Class']]\n",
        "df1.head()"
      ],
      "metadata": {
        "colab": {
          "base_uri": "https://localhost:8080/",
          "height": 206
        },
        "id": "bXDo3IzupPx4",
        "outputId": "6328f6a3-9900-469b-8a53-be72c8554655"
      },
      "execution_count": 53,
      "outputs": [
        {
          "output_type": "execute_result",
          "data": {
            "text/html": [
              "\n",
              "  <div id=\"df-175bda8a-5f3a-4dc3-8d6d-03f272055a78\">\n",
              "    <div class=\"colab-df-container\">\n",
              "      <div>\n",
              "<style scoped>\n",
              "    .dataframe tbody tr th:only-of-type {\n",
              "        vertical-align: middle;\n",
              "    }\n",
              "\n",
              "    .dataframe tbody tr th {\n",
              "        vertical-align: top;\n",
              "    }\n",
              "\n",
              "    .dataframe thead th {\n",
              "        text-align: right;\n",
              "    }\n",
              "</style>\n",
              "<table border=\"1\" class=\"dataframe\">\n",
              "  <thead>\n",
              "    <tr style=\"text-align: right;\">\n",
              "      <th></th>\n",
              "      <th>Area</th>\n",
              "      <th>Extent</th>\n",
              "      <th>Roundness</th>\n",
              "      <th>AspectRation</th>\n",
              "      <th>Class</th>\n",
              "    </tr>\n",
              "  </thead>\n",
              "  <tbody>\n",
              "    <tr>\n",
              "      <th>0</th>\n",
              "      <td>4537</td>\n",
              "      <td>0.657536</td>\n",
              "      <td>0.764510</td>\n",
              "      <td>1.440796</td>\n",
              "      <td>1</td>\n",
              "    </tr>\n",
              "    <tr>\n",
              "      <th>1</th>\n",
              "      <td>2872</td>\n",
              "      <td>0.713009</td>\n",
              "      <td>0.831658</td>\n",
              "      <td>1.453137</td>\n",
              "      <td>1</td>\n",
              "    </tr>\n",
              "    <tr>\n",
              "      <th>2</th>\n",
              "      <td>3048</td>\n",
              "      <td>0.759153</td>\n",
              "      <td>0.868434</td>\n",
              "      <td>1.465950</td>\n",
              "      <td>1</td>\n",
              "    </tr>\n",
              "    <tr>\n",
              "      <th>3</th>\n",
              "      <td>3073</td>\n",
              "      <td>0.783529</td>\n",
              "      <td>0.870203</td>\n",
              "      <td>1.483456</td>\n",
              "      <td>1</td>\n",
              "    </tr>\n",
              "    <tr>\n",
              "      <th>4</th>\n",
              "      <td>3693</td>\n",
              "      <td>0.769375</td>\n",
              "      <td>0.874743</td>\n",
              "      <td>1.510000</td>\n",
              "      <td>1</td>\n",
              "    </tr>\n",
              "  </tbody>\n",
              "</table>\n",
              "</div>\n",
              "      <button class=\"colab-df-convert\" onclick=\"convertToInteractive('df-175bda8a-5f3a-4dc3-8d6d-03f272055a78')\"\n",
              "              title=\"Convert this dataframe to an interactive table.\"\n",
              "              style=\"display:none;\">\n",
              "        \n",
              "  <svg xmlns=\"http://www.w3.org/2000/svg\" height=\"24px\"viewBox=\"0 0 24 24\"\n",
              "       width=\"24px\">\n",
              "    <path d=\"M0 0h24v24H0V0z\" fill=\"none\"/>\n",
              "    <path d=\"M18.56 5.44l.94 2.06.94-2.06 2.06-.94-2.06-.94-.94-2.06-.94 2.06-2.06.94zm-11 1L8.5 8.5l.94-2.06 2.06-.94-2.06-.94L8.5 2.5l-.94 2.06-2.06.94zm10 10l.94 2.06.94-2.06 2.06-.94-2.06-.94-.94-2.06-.94 2.06-2.06.94z\"/><path d=\"M17.41 7.96l-1.37-1.37c-.4-.4-.92-.59-1.43-.59-.52 0-1.04.2-1.43.59L10.3 9.45l-7.72 7.72c-.78.78-.78 2.05 0 2.83L4 21.41c.39.39.9.59 1.41.59.51 0 1.02-.2 1.41-.59l7.78-7.78 2.81-2.81c.8-.78.8-2.07 0-2.86zM5.41 20L4 18.59l7.72-7.72 1.47 1.35L5.41 20z\"/>\n",
              "  </svg>\n",
              "      </button>\n",
              "      \n",
              "  <style>\n",
              "    .colab-df-container {\n",
              "      display:flex;\n",
              "      flex-wrap:wrap;\n",
              "      gap: 12px;\n",
              "    }\n",
              "\n",
              "    .colab-df-convert {\n",
              "      background-color: #E8F0FE;\n",
              "      border: none;\n",
              "      border-radius: 50%;\n",
              "      cursor: pointer;\n",
              "      display: none;\n",
              "      fill: #1967D2;\n",
              "      height: 32px;\n",
              "      padding: 0 0 0 0;\n",
              "      width: 32px;\n",
              "    }\n",
              "\n",
              "    .colab-df-convert:hover {\n",
              "      background-color: #E2EBFA;\n",
              "      box-shadow: 0px 1px 2px rgba(60, 64, 67, 0.3), 0px 1px 3px 1px rgba(60, 64, 67, 0.15);\n",
              "      fill: #174EA6;\n",
              "    }\n",
              "\n",
              "    [theme=dark] .colab-df-convert {\n",
              "      background-color: #3B4455;\n",
              "      fill: #D2E3FC;\n",
              "    }\n",
              "\n",
              "    [theme=dark] .colab-df-convert:hover {\n",
              "      background-color: #434B5C;\n",
              "      box-shadow: 0px 1px 3px 1px rgba(0, 0, 0, 0.15);\n",
              "      filter: drop-shadow(0px 1px 2px rgba(0, 0, 0, 0.3));\n",
              "      fill: #FFFFFF;\n",
              "    }\n",
              "  </style>\n",
              "\n",
              "      <script>\n",
              "        const buttonEl =\n",
              "          document.querySelector('#df-175bda8a-5f3a-4dc3-8d6d-03f272055a78 button.colab-df-convert');\n",
              "        buttonEl.style.display =\n",
              "          google.colab.kernel.accessAllowed ? 'block' : 'none';\n",
              "\n",
              "        async function convertToInteractive(key) {\n",
              "          const element = document.querySelector('#df-175bda8a-5f3a-4dc3-8d6d-03f272055a78');\n",
              "          const dataTable =\n",
              "            await google.colab.kernel.invokeFunction('convertToInteractive',\n",
              "                                                     [key], {});\n",
              "          if (!dataTable) return;\n",
              "\n",
              "          const docLinkHtml = 'Like what you see? Visit the ' +\n",
              "            '<a target=\"_blank\" href=https://colab.research.google.com/notebooks/data_table.ipynb>data table notebook</a>'\n",
              "            + ' to learn more about interactive tables.';\n",
              "          element.innerHTML = '';\n",
              "          dataTable['output_type'] = 'display_data';\n",
              "          await google.colab.output.renderOutput(dataTable, element);\n",
              "          const docLink = document.createElement('div');\n",
              "          docLink.innerHTML = docLinkHtml;\n",
              "          element.appendChild(docLink);\n",
              "        }\n",
              "      </script>\n",
              "    </div>\n",
              "  </div>\n",
              "  "
            ],
            "text/plain": [
              "   Area    Extent  Roundness  AspectRation  Class\n",
              "0  4537  0.657536   0.764510      1.440796      1\n",
              "1  2872  0.713009   0.831658      1.453137      1\n",
              "2  3048  0.759153   0.868434      1.465950      1\n",
              "3  3073  0.783529   0.870203      1.483456      1\n",
              "4  3693  0.769375   0.874743      1.510000      1"
            ]
          },
          "metadata": {},
          "execution_count": 53
        }
      ]
    },
    {
      "cell_type": "code",
      "source": [
        "X1 = df1.iloc[:,:-1]\n",
        "y1 = df1.iloc[:,-1]"
      ],
      "metadata": {
        "id": "i1Q0Gg5WpsVi"
      },
      "execution_count": 54,
      "outputs": []
    },
    {
      "cell_type": "markdown",
      "source": [
        "# Fitting Ridge regressor on the data"
      ],
      "metadata": {
        "id": "cV5nmX47vZrf"
      }
    },
    {
      "cell_type": "code",
      "source": [
        "from sklearn.linear_model import Ridge\n",
        "from sklearn.model_selection import GridSearchCV\n",
        "\n",
        "ridge = Ridge()\n",
        "parameters = {'alpha':[1e-15,1e-10,1e-8,1e-3,1e-2,1,5,10,20,30,35,40,45,50,55,100]}\n",
        "ridge_regressor = GridSearchCV(ridge,parameters,scoring= 'neg_mean_squared_error',cv=5)\n",
        "ridge_regressor.fit(X1,y1)"
      ],
      "metadata": {
        "colab": {
          "base_uri": "https://localhost:8080/"
        },
        "id": "33wOYkBNsNjM",
        "outputId": "aff1b5f0-0906-4e62-f116-c549ebdd3f72"
      },
      "execution_count": 55,
      "outputs": [
        {
          "output_type": "execute_result",
          "data": {
            "text/plain": [
              "GridSearchCV(cv=5, estimator=Ridge(),\n",
              "             param_grid={'alpha': [1e-15, 1e-10, 1e-08, 0.001, 0.01, 1, 5, 10,\n",
              "                                   20, 30, 35, 40, 45, 50, 55, 100]},\n",
              "             scoring='neg_mean_squared_error')"
            ]
          },
          "metadata": {},
          "execution_count": 55
        }
      ]
    },
    {
      "cell_type": "code",
      "source": [
        "print(ridge_regressor.best_params_)\n",
        "print(ridge_regressor.best_score_)"
      ],
      "metadata": {
        "colab": {
          "base_uri": "https://localhost:8080/"
        },
        "id": "-gE_YQaqsgRj",
        "outputId": "63ec3030-a0f3-4732-aacd-a26bbb478544"
      },
      "execution_count": 56,
      "outputs": [
        {
          "output_type": "stream",
          "name": "stdout",
          "text": [
            "{'alpha': 100}\n",
            "-0.07178856896597352\n"
          ]
        }
      ]
    },
    {
      "cell_type": "markdown",
      "source": [
        "# Fitting Lasso Regression on the data."
      ],
      "metadata": {
        "id": "0ovFZZe8vgBO"
      }
    },
    {
      "cell_type": "code",
      "source": [
        "from sklearn.linear_model import Lasso\n",
        "from sklearn.model_selection import GridSearchCV\n",
        "\n",
        "lasso = Lasso()\n",
        "parameters = {'alpha':[1e-15,1e-10,1e-8,1e-3,1e-2,1,5,10,20,30,35,40,45,50,55,100]}\n",
        "lasso_regressor = GridSearchCV(lasso,parameters,scoring= 'neg_mean_squared_error',cv=5)\n",
        "lasso_regressor.fit(X1,y1)\n",
        "\n",
        "print(lasso_regressor.best_params_)\n",
        "print(lasso_regressor.best_score_)"
      ],
      "metadata": {
        "colab": {
          "base_uri": "https://localhost:8080/"
        },
        "id": "VVxDKOw3sj1Q",
        "outputId": "13a57e32-a593-4f3d-e6c4-611d5933c825"
      },
      "execution_count": 57,
      "outputs": [
        {
          "output_type": "stream",
          "name": "stderr",
          "text": [
            "/usr/local/lib/python3.7/dist-packages/sklearn/linear_model/_coordinate_descent.py:648: ConvergenceWarning: Objective did not converge. You might want to increase the number of iterations, check the scale of the features or consider increasing regularisation. Duality gap: 3.052e+02, tolerance: 3.607e-01\n",
            "  coef_, l1_reg, l2_reg, X, y, max_iter, tol, rng, random, positive\n",
            "/usr/local/lib/python3.7/dist-packages/sklearn/linear_model/_coordinate_descent.py:648: ConvergenceWarning: Objective did not converge. You might want to increase the number of iterations, check the scale of the features or consider increasing regularisation. Duality gap: 2.852e+02, tolerance: 3.636e-01\n",
            "  coef_, l1_reg, l2_reg, X, y, max_iter, tol, rng, random, positive\n"
          ]
        },
        {
          "output_type": "stream",
          "name": "stdout",
          "text": [
            "{'alpha': 0.01}\n",
            "-0.0693933596863429\n"
          ]
        }
      ]
    },
    {
      "cell_type": "code",
      "source": [
        "from sklearn.ensemble import GradientBoostingClassifier\n",
        "\n",
        "from sklearn.model_selection import cross_val_score\n",
        "gbm = GradientBoostingClassifier(n_estimators = 500, learning_rate=0.195789,max_depth=5.0,max_leaf_nodes=2 )\n",
        "mse = cross_val_score(gbm,X,y,scoring= 'neg_mean_squared_error',cv=5)\n",
        "mean_mse = np.mean(mse)\n",
        "\n",
        "print(mean_mse)"
      ],
      "metadata": {
        "id": "0JvSia8Gtfev",
        "colab": {
          "base_uri": "https://localhost:8080/"
        },
        "outputId": "8a8b751b-0650-453b-e62e-8021cc99f189"
      },
      "execution_count": 58,
      "outputs": [
        {
          "output_type": "stream",
          "name": "stdout",
          "text": [
            "-0.19873522133626614\n"
          ]
        }
      ]
    },
    {
      "cell_type": "markdown",
      "source": [
        "Thus the result returned by Lasso regressor is best and regularization is required."
      ],
      "metadata": {
        "id": "7EVA8RuVvNNI"
      }
    },
    {
      "cell_type": "markdown",
      "source": [
        "# Performance Evaluation of the model\n",
        "We are using classification report to evaluate the performance of the model.\n",
        "It returns the following values:\n",
        "\n",
        "**Precision** - Precision is defined as the ratio of true positives to the sum of true and false positives.\n",
        "\n",
        "**Recall** - Recall is defined as the ratio of true positives to the sum of true positives and false negatives.\n",
        "\n",
        "**F1-score** - The F1 is the weighted harmonic mean of precision and recall. The closer the value of the F1 score is to 1.0, the better the expected performance of the model is.\n",
        "\n",
        "**Support** - Support is the number of actual occurrences of the class in the dataset. It doesn’t vary between models, it just diagnoses the performance evaluation process.\n",
        "\n",
        "\n"
      ],
      "metadata": {
        "id": "u0QHGeRDpVvr"
      }
    },
    {
      "cell_type": "code",
      "source": [
        "from sklearn.metrics import classification_report\n",
        "gbm.fit(X_train,y_train)\n",
        "\n",
        "print(classification_report(y_test,gbm.predict(X_test)))"
      ],
      "metadata": {
        "colab": {
          "base_uri": "https://localhost:8080/"
        },
        "id": "ugq5-FegFeun",
        "outputId": "621400c0-d82b-44ef-eb23-332738f508cf"
      },
      "execution_count": 63,
      "outputs": [
        {
          "output_type": "stream",
          "name": "stdout",
          "text": [
            "              precision    recall  f1-score   support\n",
            "\n",
            "           0       0.99      0.99      0.99      1653\n",
            "           1       0.99      0.99      0.99      1984\n",
            "\n",
            "    accuracy                           0.99      3637\n",
            "   macro avg       0.99      0.99      0.99      3637\n",
            "weighted avg       0.99      0.99      0.99      3637\n",
            "\n"
          ]
        }
      ]
    },
    {
      "cell_type": "markdown",
      "source": [
        "Copyright (c) 2021 Saswato Bhattacharyya\n",
        "\n",
        " \n",
        "\n",
        "Permission is hereby granted, free of charge, to any person obtaining a copy\n",
        "of this software and associated documentation files (the \"Software\"), to deal\n",
        "in the Software without restriction, including without limitation the rights\n",
        "to use, copy, modify, merge, publish, distribute, sublicense, and/or sell\n",
        "copies of the Software, and to permit persons to whom the Software is\n",
        "furnished to do so, subject to the following conditions:\n",
        "\n",
        " \n",
        "\n",
        "The above copyright notice and this permission notice shall be included in all\n",
        "copies or substantial portions of the Software.\n",
        "\n",
        " \n",
        "\n",
        "THE SOFTWARE IS PROVIDED \"AS IS\", WITHOUT WARRANTY OF ANY KIND, EXPRESS OR\n",
        "IMPLIED, INCLUDING BUT NOT LIMITED TO THE WARRANTIES OF MERCHANTABILITY,\n",
        "FITNESS FOR A PARTICULAR PURPOSE AND NONINFRINGEMENT. IN NO EVENT SHALL THE\n",
        "AUTHORS OR COPYRIGHT HOLDERS BE LIABLE FOR ANY CLAIM, DAMAGES OR OTHER\n",
        "LIABILITY, WHETHER IN AN ACTION OF CONTRACT, TORT OR OTHERWISE, ARISING FROM,\n",
        "OUT OF OR IN CONNECTION WITH THE SOFTWARE OR THE USE OR OTHER DEALINGS IN THE\n",
        "SOFTWARE."
      ],
      "metadata": {
        "id": "FWLxyx-8Snqt"
      }
    }
  ]
}